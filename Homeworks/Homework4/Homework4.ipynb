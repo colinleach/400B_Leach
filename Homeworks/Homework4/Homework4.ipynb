{
 "cells": [
  {
   "cell_type": "markdown",
   "metadata": {},
   "source": [
    "# Homework 4"
   ]
  },
  {
   "cell_type": "markdown",
   "metadata": {
    "toc": true
   },
   "source": [
    "<h1>Table of Contents<span class=\"tocSkip\"></span></h1>\n",
    "<div class=\"toc\"><ul class=\"toc-item\"><li><span><a href=\"#Setup\" data-toc-modified-id=\"Setup-1\"><span class=\"toc-item-num\">1&nbsp;&nbsp;</span>Setup</a></span></li><li><span><a href=\"#COM-position-and-velocity\" data-toc-modified-id=\"COM-position-and-velocity-2\"><span class=\"toc-item-num\">2&nbsp;&nbsp;</span>COM position and velocity</a></span></li><li><span><a href=\"#Relative-position-and-velocity\" data-toc-modified-id=\"Relative-position-and-velocity-3\"><span class=\"toc-item-num\">3&nbsp;&nbsp;</span>Relative position and velocity</a></span></li></ul></div>"
   ]
  },
  {
   "cell_type": "markdown",
   "metadata": {},
   "source": [
    "## Setup"
   ]
  },
  {
   "cell_type": "code",
   "execution_count": 1,
   "metadata": {},
   "outputs": [],
   "source": [
    "# import modules\n",
    "import numpy as np\n",
    "from numpy.linalg import norm\n",
    "import astropy.units as u\n",
    "from astropy.table import QTable\n",
    "from astropy.io import ascii\n",
    "\n",
    "from galaxy.galaxies import Galaxies"
   ]
  },
  {
   "cell_type": "markdown",
   "metadata": {},
   "source": [
    "Get data for all three galaxies:"
   ]
  },
  {
   "cell_type": "code",
   "execution_count": 2,
   "metadata": {},
   "outputs": [],
   "source": [
    "gals = Galaxies()"
   ]
  },
  {
   "cell_type": "markdown",
   "metadata": {},
   "source": [
    "## COM position and velocity\n",
    "\n",
    "The Galaxies class will import and manipulate the CenterOfMass class. We don't need to deal with the latter directly here."
   ]
  },
  {
   "cell_type": "code",
   "execution_count": 3,
   "metadata": {},
   "outputs": [
    {
     "data": {
      "text/html": [
       "<i>QTable length=3</i>\n",
       "<table id=\"table140278139969608\" class=\"table-striped table-bordered table-condensed\">\n",
       "<thead><tr><th>name</th><th>ptype</th><th>x</th><th>y</th><th>z</th><th>vx</th><th>vy</th><th>vz</th><th>R</th><th>V</th></tr></thead>\n",
       "<thead><tr><th></th><th></th><th>kpc</th><th>kpc</th><th>kpc</th><th>km / s</th><th>km / s</th><th>km / s</th><th>kpc</th><th>km / s</th></tr></thead>\n",
       "<thead><tr><th>str7</th><th>str4</th><th>float64</th><th>float64</th><th>float64</th><th>float64</th><th>float64</th><th>float64</th><th>float64</th><th>float64</th></tr></thead>\n",
       "<tr><td>MW_000</td><td>disk</td><td>-2.07</td><td>2.95</td><td>-1.45</td><td>0.94</td><td>6.32</td><td>-1.35</td><td>3.88</td><td>6.53</td></tr>\n",
       "<tr><td>M31_000</td><td>disk</td><td>-377.66</td><td>611.43</td><td>-284.64</td><td>72.85</td><td>-72.14</td><td>49.0</td><td>772.98</td><td>113.63</td></tr>\n",
       "<tr><td>M33_000</td><td>disk</td><td>-476.22</td><td>491.44</td><td>-412.4</td><td>44.42</td><td>101.78</td><td>142.23</td><td>798.98</td><td>180.45</td></tr>\n",
       "</table>"
      ],
      "text/plain": [
       "<QTable length=3>\n",
       "  name  ptype    x       y       z       vx      vy      vz      R       V   \n",
       "                kpc     kpc     kpc    km / s  km / s  km / s   kpc    km / s\n",
       "  str7   str4 float64 float64 float64 float64 float64 float64 float64 float64\n",
       "------- ----- ------- ------- ------- ------- ------- ------- ------- -------\n",
       " MW_000  disk   -2.07    2.95   -1.45    0.94    6.32   -1.35    3.88    6.53\n",
       "M31_000  disk -377.66  611.43 -284.64   72.85  -72.14    49.0  772.98  113.63\n",
       "M33_000  disk -476.22  491.44  -412.4   44.42  101.78  142.23  798.98  180.45"
      ]
     },
     "execution_count": 3,
     "metadata": {},
     "output_type": "execute_result"
    }
   ],
   "source": [
    "# all galaxies, just disk particles\n",
    "COMs = gals.get_coms(ptypes=(2,))\n",
    "COMs"
   ]
  },
  {
   "cell_type": "markdown",
   "metadata": {},
   "source": [
    "Exporting the QTable as $\\LaTeX$ saves retyping and likely reduces typos, though it will need some formatting changes:"
   ]
  },
  {
   "cell_type": "code",
   "execution_count": 4,
   "metadata": {},
   "outputs": [
    {
     "name": "stdout",
     "output_type": "stream",
     "text": [
      "\\begin{table}\n",
      "\\begin{tabular}{cccccccccc}\n",
      "name & ptype & x & y & z & vx & vy & vz & R & V \\\\\n",
      " &  & $\\mathrm{kpc}$ & $\\mathrm{kpc}$ & $\\mathrm{kpc}$ & $\\mathrm{km\\,s^{-1}}$ & $\\mathrm{km\\,s^{-1}}$ & $\\mathrm{km\\,s^{-1}}$ & $\\mathrm{kpc}$ & $\\mathrm{km\\,s^{-1}}$ \\\\\n",
      "MW_000 & disk & -2.07 & 2.95 & -1.45 & 0.94 & 6.32 & -1.35 & 3.88 & 6.53 \\\\\n",
      "M31_000 & disk & -377.66 & 611.43 & -284.64 & 72.85 & -72.14 & 49.0 & 772.98 & 113.63 \\\\\n",
      "M33_000 & disk & -476.22 & 491.44 & -412.4 & 44.42 & 101.78 & 142.23 & 798.98 & 180.45 \\\\\n",
      "\\end{tabular}\n",
      "\\end{table}\n"
     ]
    }
   ],
   "source": [
    "ascii.write(COMs, format='latex')"
   ]
  },
  {
   "cell_type": "markdown",
   "metadata": {},
   "source": [
    "Pull out the MW data, position in the $x,y,z$ columns and velocity in $vx,vy,vz$:"
   ]
  },
  {
   "cell_type": "code",
   "execution_count": 5,
   "metadata": {},
   "outputs": [
    {
     "data": {
      "text/html": [
       "<i>Row index=0</i>\n",
       "<table id=\"table140278135968432\">\n",
       "<thead><tr><th>x</th><th>y</th><th>z</th></tr></thead>\n",
       "<thead><tr><th>kpc</th><th>kpc</th><th>kpc</th></tr></thead>\n",
       "<thead><tr><th>float64</th><th>float64</th><th>float64</th></tr></thead>\n",
       "<tr><td>-2.07</td><td>2.95</td><td>-1.45</td></tr>\n",
       "</table>"
      ],
      "text/plain": [
       "<Row index=0>\n",
       "   x       y       z   \n",
       "  kpc     kpc     kpc  \n",
       "float64 float64 float64\n",
       "------- ------- -------\n",
       "  -2.07    2.95   -1.45"
      ]
     },
     "metadata": {},
     "output_type": "display_data"
    },
    {
     "data": {
      "text/html": [
       "<i>Row index=0</i>\n",
       "<table id=\"table140278135968488\">\n",
       "<thead><tr><th>vx</th><th>vy</th><th>vz</th></tr></thead>\n",
       "<thead><tr><th>km / s</th><th>km / s</th><th>km / s</th></tr></thead>\n",
       "<thead><tr><th>float64</th><th>float64</th><th>float64</th></tr></thead>\n",
       "<tr><td>0.94</td><td>6.32</td><td>-1.35</td></tr>\n",
       "</table>"
      ],
      "text/plain": [
       "<Row index=0>\n",
       "   vx      vy      vz  \n",
       " km / s  km / s  km / s\n",
       "float64 float64 float64\n",
       "------- ------- -------\n",
       "   0.94    6.32   -1.35"
      ]
     },
     "metadata": {},
     "output_type": "display_data"
    }
   ],
   "source": [
    "MW_COM = COMs['name'=='MW_000']\n",
    "MW_position = MW_COM['x','y','z']\n",
    "MW_velocity = MW_COM['vx','vy','vz']\n",
    "display(MW_position)\n",
    "display(MW_velocity)"
   ]
  },
  {
   "cell_type": "markdown",
   "metadata": {},
   "source": [
    "## Relative position and velocity\n",
    "\n",
    "We are asked about the MW-M31 pair in question 6.2 and M31-M33 in 6.3. The `Galaxies.separations()` method returns a dictionary of various parameters:"
   ]
  },
  {
   "cell_type": "code",
   "execution_count": 6,
   "metadata": {},
   "outputs": [],
   "source": [
    "MW_M31 = gals.separations('MW_000', 'M31_000')\n",
    "M31_M33 = gals.separations('M31_000', 'M33_000')"
   ]
  },
  {
   "cell_type": "code",
   "execution_count": 7,
   "metadata": {},
   "outputs": [
    {
     "data": {
      "text/plain": [
       "{'pos_xyz': <Quantity [-375.59,  608.48, -283.19] kpc>,\n",
       " 'vel_xyz': <Quantity [ 71.91, -78.46,  50.35] km / s>,\n",
       " 'r': <Quantity 769.1 kpc>,\n",
       " 'r_hat': <Quantity [-0.49,  0.79, -0.37]>,\n",
       " 'vel_mag': <Quantity 117.74 km / s>,\n",
       " 'v_radial': <Quantity -115.85 km / s>,\n",
       " 'v_tangential': <Quantity [ 10.75,  -1.94, -18.36] km / s>,\n",
       " 'v_tan_mag': <Quantity 21.36 km / s>}"
      ]
     },
     "execution_count": 7,
     "metadata": {},
     "output_type": "execute_result"
    }
   ],
   "source": [
    "MW_M31"
   ]
  },
  {
   "cell_type": "markdown",
   "metadata": {},
   "source": [
    "Put some key results in a QTable for an easy-to-read display and generate $LaTeX$ from it:"
   ]
  },
  {
   "cell_type": "code",
   "execution_count": 8,
   "metadata": {},
   "outputs": [
    {
     "data": {
      "text/html": [
       "<i>QTable length=2</i>\n",
       "<table id=\"table140278135960352\" class=\"table-striped table-bordered table-condensed\">\n",
       "<thead><tr><th>pairs</th><th>Distance</th><th>Radial velocity</th><th>Tangential velocity</th></tr></thead>\n",
       "<thead><tr><th></th><th>kpc</th><th>km / s</th><th>km / s</th></tr></thead>\n",
       "<thead><tr><th>str7</th><th>float64</th><th>float64</th><th>float64</th></tr></thead>\n",
       "<tr><td>MW_M31</td><td>769.1</td><td>-115.85</td><td>21.36</td></tr>\n",
       "<tr><td>M31_M33</td><td>201.08</td><td>-150.09</td><td>132.69</td></tr>\n",
       "</table>"
      ],
      "text/plain": [
       "<QTable length=2>\n",
       " pairs  Distance Radial velocity Tangential velocity\n",
       "          kpc         km / s            km / s      \n",
       "  str7  float64      float64           float64      \n",
       "------- -------- --------------- -------------------\n",
       " MW_M31    769.1         -115.85               21.36\n",
       "M31_M33   201.08         -150.09              132.69"
      ]
     },
     "execution_count": 8,
     "metadata": {},
     "output_type": "execute_result"
    }
   ],
   "source": [
    "t = QTable()\n",
    "pairs = ('MW_M31', 'M31_M33')\n",
    "t['pairs'] = pairs\n",
    "t['Distance'] = (MW_M31['r'], M31_M33['r'])\n",
    "t['Radial velocity'] = (MW_M31['v_radial'], M31_M33['v_radial'])\n",
    "t['Tangential velocity'] = (MW_M31['v_tan_mag'], M31_M33['v_tan_mag'])\n",
    "t"
   ]
  },
  {
   "cell_type": "code",
   "execution_count": 9,
   "metadata": {},
   "outputs": [
    {
     "name": "stdout",
     "output_type": "stream",
     "text": [
      "\\begin{table}\n",
      "\\begin{tabular}{cccc}\n",
      "pairs & Distance & Radial velocity & Tangential velocity \\\\\n",
      " & $\\mathrm{kpc}$ & $\\mathrm{km\\,s^{-1}}$ & $\\mathrm{km\\,s^{-1}}$ \\\\\n",
      "MW_M31 & 769.1 & -115.85 & 21.36 \\\\\n",
      "M31_M33 & 201.08 & -150.09 & 132.69 \\\\\n",
      "\\end{tabular}\n",
      "\\end{table}\n"
     ]
    }
   ],
   "source": [
    "ascii.write(t, format='latex')"
   ]
  },
  {
   "cell_type": "markdown",
   "metadata": {},
   "source": [
    "Making another table with the 3-vectors seemed like a good idea at the time. It wasn't, the results are horrible (despite rounding to 2 decimal places)!"
   ]
  },
  {
   "cell_type": "code",
   "execution_count": 10,
   "metadata": {},
   "outputs": [
    {
     "data": {
      "text/html": [
       "<i>QTable length=2</i>\n",
       "<table id=\"table140278135960576\" class=\"table-striped table-bordered table-condensed\">\n",
       "<thead><tr><th>pairs</th><th>Relative Position [3]</th><th>Relative Velocity [3]</th></tr></thead>\n",
       "<thead><tr><th></th><th>kpc</th><th>km / s</th></tr></thead>\n",
       "<thead><tr><th>str7</th><th>float64</th><th>float64</th></tr></thead>\n",
       "<tr><td>MW_M31</td><td>-375.59000000000003 .. -283.19</td><td>71.91 .. 50.35</td></tr>\n",
       "<tr><td>M31_M33</td><td>-98.56 .. -127.75999999999999</td><td>-28.429999999999993 .. 93.22999999999999</td></tr>\n",
       "</table>"
      ],
      "text/plain": [
       "<QTable length=2>\n",
       " pairs      Relative Position [3]               Relative Velocity [3]          \n",
       "                     kpc                                km / s                 \n",
       "  str7             float64                             float64                 \n",
       "------- ------------------------------ ----------------------------------------\n",
       " MW_M31 -375.59000000000003 .. -283.19                           71.91 .. 50.35\n",
       "M31_M33  -98.56 .. -127.75999999999999 -28.429999999999993 .. 93.22999999999999"
      ]
     },
     "execution_count": 10,
     "metadata": {},
     "output_type": "execute_result"
    }
   ],
   "source": [
    "t2 = QTable()\n",
    "t2['pairs'] = pairs\n",
    "t2['Relative Position'] = (MW_M31['pos_xyz'], M31_M33['pos_xyz'])\n",
    "t2['Relative Velocity'] = (MW_M31['vel_xyz'], M31_M33['vel_xyz'])\n",
    "t2"
   ]
  },
  {
   "cell_type": "markdown",
   "metadata": {},
   "source": [
    "Just display individual 3-vectors, first the MW-M31 pair (position and velocity), then M31-M33:"
   ]
  },
  {
   "cell_type": "code",
   "execution_count": 11,
   "metadata": {},
   "outputs": [
    {
     "data": {
      "text/latex": [
       "$[-375.59,~608.48,~-283.19] \\; \\mathrm{kpc}$"
      ],
      "text/plain": [
       "<Quantity [-375.59,  608.48, -283.19] kpc>"
      ]
     },
     "metadata": {},
     "output_type": "display_data"
    },
    {
     "data": {
      "text/latex": [
       "$[71.91,~-78.46,~50.35] \\; \\mathrm{\\frac{km}{s}}$"
      ],
      "text/plain": [
       "<Quantity [ 71.91, -78.46,  50.35] km / s>"
      ]
     },
     "metadata": {},
     "output_type": "display_data"
    }
   ],
   "source": [
    "display(MW_M31['pos_xyz'])\n",
    "display(MW_M31['vel_xyz'])"
   ]
  },
  {
   "cell_type": "code",
   "execution_count": 12,
   "metadata": {},
   "outputs": [
    {
     "data": {
      "text/latex": [
       "$[-98.56,~-119.99,~-127.76] \\; \\mathrm{kpc}$"
      ],
      "text/plain": [
       "<Quantity [ -98.56, -119.99, -127.76] kpc>"
      ]
     },
     "metadata": {},
     "output_type": "display_data"
    },
    {
     "data": {
      "text/latex": [
       "$[-28.43,~173.92,~93.23] \\; \\mathrm{\\frac{km}{s}}$"
      ],
      "text/plain": [
       "<Quantity [-28.43, 173.92,  93.23] km / s>"
      ]
     },
     "metadata": {},
     "output_type": "display_data"
    }
   ],
   "source": [
    "display(M31_M33['pos_xyz'])\n",
    "display(M31_M33['vel_xyz'])"
   ]
  },
  {
   "cell_type": "markdown",
   "metadata": {},
   "source": [
    "The result of the discussion is in the PDF document in this directory."
   ]
  },
  {
   "cell_type": "code",
   "execution_count": null,
   "metadata": {},
   "outputs": [],
   "source": []
  }
 ],
 "metadata": {
  "kernelspec": {
   "display_name": "Python 3",
   "language": "python",
   "name": "python3"
  },
  "language_info": {
   "codemirror_mode": {
    "name": "ipython",
    "version": 3
   },
   "file_extension": ".py",
   "mimetype": "text/x-python",
   "name": "python",
   "nbconvert_exporter": "python",
   "pygments_lexer": "ipython3",
   "version": "3.6.7"
  },
  "toc": {
   "base_numbering": 1,
   "nav_menu": {},
   "number_sections": true,
   "sideBar": true,
   "skip_h1_title": true,
   "title_cell": "Table of Contents",
   "title_sidebar": "Contents",
   "toc_cell": true,
   "toc_position": {},
   "toc_section_display": true,
   "toc_window_display": true
  }
 },
 "nbformat": 4,
 "nbformat_minor": 4
}
