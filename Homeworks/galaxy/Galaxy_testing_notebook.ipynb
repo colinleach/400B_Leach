{
 "cells": [
  {
   "cell_type": "markdown",
   "metadata": {},
   "source": [
    "# Testing the Galaxy class"
   ]
  },
  {
   "cell_type": "markdown",
   "metadata": {
    "toc": true
   },
   "source": [
    "<h1>Table of Contents<span class=\"tocSkip\"></span></h1>\n",
    "<div class=\"toc\"><ul class=\"toc-item\"><li><span><a href=\"#Read-a-data-file\" data-toc-modified-id=\"Read-a-data-file-1\"><span class=\"toc-item-num\">1&nbsp;&nbsp;</span>Read a data file</a></span></li><li><span><a href=\"#ParticleProperties\" data-toc-modified-id=\"ParticleProperties-2\"><span class=\"toc-item-num\">2&nbsp;&nbsp;</span>ParticleProperties</a></span></li><li><span><a href=\"#Exploring-the-data\" data-toc-modified-id=\"Exploring-the-data-3\"><span class=\"toc-item-num\">3&nbsp;&nbsp;</span>Exploring the data</a></span><ul class=\"toc-item\"><li><span><a href=\"#Data-structures\" data-toc-modified-id=\"Data-structures-3.1\"><span class=\"toc-item-num\">3.1&nbsp;&nbsp;</span>Data structures</a></span></li><li><span><a href=\"#Data-visualization\" data-toc-modified-id=\"Data-visualization-3.2\"><span class=\"toc-item-num\">3.2&nbsp;&nbsp;</span>Data visualization</a></span></li></ul></li></ul></div>"
   ]
  },
  {
   "cell_type": "code",
   "execution_count": 1,
   "metadata": {},
   "outputs": [],
   "source": [
    "# standard Python imports\n",
    "from pathlib import Path\n",
    "\n",
    "# scientific package imports\n",
    "import numpy as np\n",
    "from numpy.linalg import norm\n",
    "\n",
    "import astropy.units as u\n",
    "from astropy.table import QTable\n",
    "\n",
    "import pandas as pd\n",
    "\n",
    "# import my own class for this homework\n",
    "from galaxy import Galaxy"
   ]
  },
  {
   "cell_type": "markdown",
   "metadata": {},
   "source": [
    "## Read a data file\n",
    "\n",
    "In this case, the Milky Way, snap 0"
   ]
  },
  {
   "cell_type": "code",
   "execution_count": 2,
   "metadata": {
    "scrolled": true
   },
   "outputs": [
    {
     "name": "stdout",
     "output_type": "stream",
     "text": [
      "MW_000.txt\n"
     ]
    }
   ],
   "source": [
    "gal = Galaxy('MW')\n",
    "print(gal.filename)\n",
    "# gal.read_file()"
   ]
  },
  {
   "cell_type": "markdown",
   "metadata": {},
   "source": [
    "It created the correct filename and found a path to the file. The data is in a form of a 1-D np.ndarray with 135000 elements:"
   ]
  },
  {
   "cell_type": "code",
   "execution_count": 3,
   "metadata": {},
   "outputs": [
    {
     "data": {
      "text/plain": [
       "(array([(1., 0.00394985, -2.51725e+00,  19.1588 ,  5.28528e+01,  1.34962e-01, 116.109   ,  -85.3822 ),\n",
       "        (1., 0.00394985, -2.86601e+02, 298.455  ,  3.91692e+02,  5.02658e+01, -46.4521  ,   15.1825 ),\n",
       "        (1., 0.00394985, -5.05945e-01, -28.6337 , -8.39565e+01,  1.13833e+01,  -0.974253,  -39.3509 ),\n",
       "        ...,\n",
       "        (3., 0.00010005, -3.29432e+00,   3.36725,  1.09023e-01,  2.18821e+02,  73.4462  ,   -8.81108),\n",
       "        (3., 0.00010005,  2.57806e-01,   5.31409, -6.62670e-01,  5.46121e+01, -19.0044  , -190.184  ),\n",
       "        (3., 0.00010005, -6.57662e-01,   3.32552, -2.51660e+00, -1.37672e+01,  44.8175  ,   16.7124 )],\n",
       "       dtype=[('type', '<f8'), ('m', '<f8'), ('x', '<f8'), ('y', '<f8'), ('z', '<f8'), ('vx', '<f8'), ('vy', '<f8'), ('vz', '<f8')]),\n",
       " (135000,),\n",
       " numpy.ndarray)"
      ]
     },
     "execution_count": 3,
     "metadata": {},
     "output_type": "execute_result"
    }
   ],
   "source": [
    "gal.data, gal.data.shape, type(gal.data)"
   ]
  },
  {
   "cell_type": "markdown",
   "metadata": {},
   "source": [
    "Individual rows (a single particle) claim to be np.void, but they still understand column headers:"
   ]
  },
  {
   "cell_type": "code",
   "execution_count": 4,
   "metadata": {
    "scrolled": true
   },
   "outputs": [
    {
     "data": {
      "text/plain": [
       "((1., 0.00394985, -286.601, 298.455, 391.692, 50.2658, -46.4521, 15.1825),\n",
       " numpy.void,\n",
       " 0.00394985)"
      ]
     },
     "execution_count": 4,
     "metadata": {},
     "output_type": "execute_result"
    }
   ],
   "source": [
    "gal.data[1], type(gal.data[1]), gal.data[1]['m']"
   ]
  },
  {
   "cell_type": "markdown",
   "metadata": {},
   "source": [
    "It is ***not*** OK to treat the data as a 2-D array for indexing:"
   ]
  },
  {
   "cell_type": "code",
   "execution_count": 5,
   "metadata": {},
   "outputs": [
    {
     "ename": "IndexError",
     "evalue": "too many indices for array",
     "output_type": "error",
     "traceback": [
      "\u001b[0;31m---------------------------------------------------------------------------\u001b[0m",
      "\u001b[0;31mIndexError\u001b[0m                                Traceback (most recent call last)",
      "\u001b[0;32m<ipython-input-5-ebaa6382faf7>\u001b[0m in \u001b[0;36m<module>\u001b[0;34m\u001b[0m\n\u001b[1;32m      1\u001b[0m \u001b[0;31m# this will throw an IndexError\u001b[0m\u001b[0;34m\u001b[0m\u001b[0;34m\u001b[0m\u001b[0;34m\u001b[0m\u001b[0m\n\u001b[0;32m----> 2\u001b[0;31m \u001b[0mgal\u001b[0m\u001b[0;34m.\u001b[0m\u001b[0mdata\u001b[0m\u001b[0;34m[\u001b[0m\u001b[0;34m:\u001b[0m\u001b[0;34m,\u001b[0m\u001b[0;36m2\u001b[0m\u001b[0;34m]\u001b[0m\u001b[0;34m\u001b[0m\u001b[0;34m\u001b[0m\u001b[0m\n\u001b[0m",
      "\u001b[0;31mIndexError\u001b[0m: too many indices for array"
     ]
    }
   ],
   "source": [
    "# this will throw an IndexError\n",
    "gal.data[:,2]"
   ]
  },
  {
   "cell_type": "markdown",
   "metadata": {},
   "source": [
    "## ParticleProperties\n",
    "\n",
    "There are two related methods:\n",
    "- `single_particle_properties()` gets a (mass, distance, velocity) tuple for the specified particle, returning magnitudes with units in a galactic CoM frame.\n",
    "- `all_particle_properties()` returns a QTable of values\n",
    "\n",
    "Both can be filtered by particle type (1=DM, 2=disk, 3=bulge).\n",
    "\n",
    "Remember that `particle_num` is zero-based."
   ]
  },
  {
   "cell_type": "code",
   "execution_count": 6,
   "metadata": {},
   "outputs": [
    {
     "data": {
      "text/plain": [
       "(<Quantity 4.976 kpc>, <Quantity 434.785 km / s>, <Quantity 1000000. solMass>)"
      ]
     },
     "execution_count": 6,
     "metadata": {},
     "output_type": "execute_result"
    }
   ],
   "source": [
    "# the 100th disk particle\n",
    "particle100 = gal.single_particle_properties(type=2, particle_num=99)\n",
    "pos, v, m = particle100\n",
    "pos, v, m"
   ]
  },
  {
   "cell_type": "markdown",
   "metadata": {},
   "source": [
    "Change units:"
   ]
  },
  {
   "cell_type": "code",
   "execution_count": 7,
   "metadata": {
    "scrolled": true
   },
   "outputs": [
    {
     "data": {
      "text/latex": [
       "$16229.541 \\; \\mathrm{lyr}$"
      ],
      "text/plain": [
       "<Quantity 16229.541 lyr>"
      ]
     },
     "execution_count": 7,
     "metadata": {},
     "output_type": "execute_result"
    }
   ],
   "source": [
    "np.around(pos.to(u.lyr), 3)"
   ]
  },
  {
   "cell_type": "code",
   "execution_count": 8,
   "metadata": {},
   "outputs": [
    {
     "data": {
      "text/html": [
       "<i>QTable length=3</i>\n",
       "<table id=\"table140333607690424\" class=\"table-striped table-bordered table-condensed\">\n",
       "<thead><tr><th>type</th><th>m</th><th>pos</th><th>v</th></tr></thead>\n",
       "<thead><tr><th></th><th>solMass</th><th>kpc</th><th>km / s</th></tr></thead>\n",
       "<thead><tr><th>float64</th><th>float64</th><th>float64</th><th>float64</th></tr></thead>\n",
       "<tr><td>2.0</td><td>1000000.0</td><td>24.528</td><td>269.616</td></tr>\n",
       "<tr><td>2.0</td><td>1000000.0</td><td>5.468</td><td>361.43</td></tr>\n",
       "<tr><td>2.0</td><td>1000000.0</td><td>4.058</td><td>261.901</td></tr>\n",
       "</table>"
      ],
      "text/plain": [
       "<QTable length=3>\n",
       "  type      m       pos      v   \n",
       "         solMass    kpc    km / s\n",
       "float64  float64  float64 float64\n",
       "------- --------- ------- -------\n",
       "    2.0 1000000.0  24.528 269.616\n",
       "    2.0 1000000.0   5.468  361.43\n",
       "    2.0 1000000.0   4.058 261.901"
      ]
     },
     "execution_count": 8,
     "metadata": {},
     "output_type": "execute_result"
    }
   ],
   "source": [
    "t = gal.all_particle_properties(type=2)\n",
    "t[:3]"
   ]
  },
  {
   "cell_type": "code",
   "execution_count": 9,
   "metadata": {},
   "outputs": [
    {
     "data": {
      "text/plain": [
       "(75000, <Quantity 1000000. solMass>)"
      ]
     },
     "execution_count": 9,
     "metadata": {},
     "output_type": "execute_result"
    }
   ],
   "source": [
    "len(t), np.mean(t['m'])"
   ]
  },
  {
   "cell_type": "markdown",
   "metadata": {},
   "source": [
    "It appears that this dataset simplifies by having relatively few massive stellar clusters rather than a realistic number of normal-mass stars. Makes sense for an undergrad class!"
   ]
  },
  {
   "cell_type": "markdown",
   "metadata": {},
   "source": [
    "## Exploring the data"
   ]
  },
  {
   "cell_type": "markdown",
   "metadata": {},
   "source": [
    "### Data structures\n",
    "\n",
    "The default ndarray format is probably efficient for the calculations we'll do later, but many modern packages expect pandas dataframes or astropy Tables/QTables. Both can be exported from the Galaxy class."
   ]
  },
  {
   "cell_type": "code",
   "execution_count": 10,
   "metadata": {},
   "outputs": [
    {
     "data": {
      "text/html": [
       "<div>\n",
       "<style scoped>\n",
       "    .dataframe tbody tr th:only-of-type {\n",
       "        vertical-align: middle;\n",
       "    }\n",
       "\n",
       "    .dataframe tbody tr th {\n",
       "        vertical-align: top;\n",
       "    }\n",
       "\n",
       "    .dataframe thead th {\n",
       "        text-align: right;\n",
       "    }\n",
       "</style>\n",
       "<table border=\"1\" class=\"dataframe\">\n",
       "  <thead>\n",
       "    <tr style=\"text-align: right;\">\n",
       "      <th></th>\n",
       "      <th>type</th>\n",
       "      <th>m</th>\n",
       "      <th>x</th>\n",
       "      <th>y</th>\n",
       "      <th>z</th>\n",
       "      <th>vx</th>\n",
       "      <th>vy</th>\n",
       "      <th>vz</th>\n",
       "    </tr>\n",
       "  </thead>\n",
       "  <tbody>\n",
       "    <tr>\n",
       "      <th>0</th>\n",
       "      <td>1.0</td>\n",
       "      <td>0.00395</td>\n",
       "      <td>-2.517250</td>\n",
       "      <td>19.1588</td>\n",
       "      <td>52.8528</td>\n",
       "      <td>0.134962</td>\n",
       "      <td>116.109000</td>\n",
       "      <td>-85.3822</td>\n",
       "    </tr>\n",
       "    <tr>\n",
       "      <th>1</th>\n",
       "      <td>1.0</td>\n",
       "      <td>0.00395</td>\n",
       "      <td>-286.601000</td>\n",
       "      <td>298.4550</td>\n",
       "      <td>391.6920</td>\n",
       "      <td>50.265800</td>\n",
       "      <td>-46.452100</td>\n",
       "      <td>15.1825</td>\n",
       "    </tr>\n",
       "    <tr>\n",
       "      <th>2</th>\n",
       "      <td>1.0</td>\n",
       "      <td>0.00395</td>\n",
       "      <td>-0.505945</td>\n",
       "      <td>-28.6337</td>\n",
       "      <td>-83.9565</td>\n",
       "      <td>11.383300</td>\n",
       "      <td>-0.974253</td>\n",
       "      <td>-39.3509</td>\n",
       "    </tr>\n",
       "  </tbody>\n",
       "</table>\n",
       "</div>"
      ],
      "text/plain": [
       "   type        m           x         y         z         vx          vy  \\\n",
       "0   1.0  0.00395   -2.517250   19.1588   52.8528   0.134962  116.109000   \n",
       "1   1.0  0.00395 -286.601000  298.4550  391.6920  50.265800  -46.452100   \n",
       "2   1.0  0.00395   -0.505945  -28.6337  -83.9565  11.383300   -0.974253   \n",
       "\n",
       "        vz  \n",
       "0 -85.3822  \n",
       "1  15.1825  \n",
       "2 -39.3509  "
      ]
     },
     "execution_count": 10,
     "metadata": {},
     "output_type": "execute_result"
    }
   ],
   "source": [
    "# pandas\n",
    "df = gal.get_df()\n",
    "df[:3]"
   ]
  },
  {
   "cell_type": "code",
   "execution_count": 11,
   "metadata": {},
   "outputs": [
    {
     "name": "stdout",
     "output_type": "stream",
     "text": [
      "<class 'pandas.core.frame.DataFrame'>\n",
      "RangeIndex: 135000 entries, 0 to 134999\n",
      "Data columns (total 8 columns):\n",
      "type    135000 non-null float64\n",
      "m       135000 non-null float64\n",
      "x       135000 non-null float64\n",
      "y       135000 non-null float64\n",
      "z       135000 non-null float64\n",
      "vx      135000 non-null float64\n",
      "vy      135000 non-null float64\n",
      "vz      135000 non-null float64\n",
      "dtypes: float64(8)\n",
      "memory usage: 8.2 MB\n"
     ]
    }
   ],
   "source": [
    "df.info()"
   ]
  },
  {
   "cell_type": "code",
   "execution_count": 12,
   "metadata": {},
   "outputs": [
    {
     "data": {
      "text/html": [
       "<div>\n",
       "<style scoped>\n",
       "    .dataframe tbody tr th:only-of-type {\n",
       "        vertical-align: middle;\n",
       "    }\n",
       "\n",
       "    .dataframe tbody tr th {\n",
       "        vertical-align: top;\n",
       "    }\n",
       "\n",
       "    .dataframe thead th {\n",
       "        text-align: right;\n",
       "    }\n",
       "</style>\n",
       "<table border=\"1\" class=\"dataframe\">\n",
       "  <thead>\n",
       "    <tr style=\"text-align: right;\">\n",
       "      <th></th>\n",
       "      <th>type</th>\n",
       "      <th>m</th>\n",
       "      <th>x</th>\n",
       "      <th>y</th>\n",
       "      <th>z</th>\n",
       "      <th>vx</th>\n",
       "      <th>vy</th>\n",
       "      <th>vz</th>\n",
       "    </tr>\n",
       "  </thead>\n",
       "  <tbody>\n",
       "    <tr>\n",
       "      <th>count</th>\n",
       "      <td>135000.000000</td>\n",
       "      <td>135000.000000</td>\n",
       "      <td>135000.000000</td>\n",
       "      <td>135000.000000</td>\n",
       "      <td>135000.000000</td>\n",
       "      <td>135000.000000</td>\n",
       "      <td>135000.000000</td>\n",
       "      <td>135000.000000</td>\n",
       "    </tr>\n",
       "    <tr>\n",
       "      <th>mean</th>\n",
       "      <td>1.703704</td>\n",
       "      <td>0.001526</td>\n",
       "      <td>0.361403</td>\n",
       "      <td>2.165170</td>\n",
       "      <td>-2.975892</td>\n",
       "      <td>-0.820530</td>\n",
       "      <td>1.206656</td>\n",
       "      <td>-1.190753</td>\n",
       "    </tr>\n",
       "    <tr>\n",
       "      <th>std</th>\n",
       "      <td>0.597206</td>\n",
       "      <td>0.001859</td>\n",
       "      <td>400.986716</td>\n",
       "      <td>406.302545</td>\n",
       "      <td>402.947138</td>\n",
       "      <td>134.857647</td>\n",
       "      <td>131.334283</td>\n",
       "      <td>87.295667</td>\n",
       "    </tr>\n",
       "    <tr>\n",
       "      <th>min</th>\n",
       "      <td>1.000000</td>\n",
       "      <td>0.000100</td>\n",
       "      <td>-10499.700000</td>\n",
       "      <td>-10813.500000</td>\n",
       "      <td>-9908.830000</td>\n",
       "      <td>-550.021000</td>\n",
       "      <td>-485.052000</td>\n",
       "      <td>-461.048000</td>\n",
       "    </tr>\n",
       "    <tr>\n",
       "      <th>25%</th>\n",
       "      <td>1.000000</td>\n",
       "      <td>0.000100</td>\n",
       "      <td>-6.157640</td>\n",
       "      <td>-4.479513</td>\n",
       "      <td>-2.169652</td>\n",
       "      <td>-95.614625</td>\n",
       "      <td>-91.942875</td>\n",
       "      <td>-38.252725</td>\n",
       "    </tr>\n",
       "    <tr>\n",
       "      <th>50%</th>\n",
       "      <td>2.000000</td>\n",
       "      <td>0.000100</td>\n",
       "      <td>-1.909520</td>\n",
       "      <td>2.869330</td>\n",
       "      <td>-1.426715</td>\n",
       "      <td>-0.081675</td>\n",
       "      <td>-0.162324</td>\n",
       "      <td>-0.401043</td>\n",
       "    </tr>\n",
       "    <tr>\n",
       "      <th>75%</th>\n",
       "      <td>2.000000</td>\n",
       "      <td>0.003950</td>\n",
       "      <td>4.969110</td>\n",
       "      <td>8.026022</td>\n",
       "      <td>-0.665771</td>\n",
       "      <td>92.386250</td>\n",
       "      <td>89.797525</td>\n",
       "      <td>36.362000</td>\n",
       "    </tr>\n",
       "    <tr>\n",
       "      <th>max</th>\n",
       "      <td>3.000000</td>\n",
       "      <td>0.003950</td>\n",
       "      <td>10328.100000</td>\n",
       "      <td>10735.100000</td>\n",
       "      <td>10955.400000</td>\n",
       "      <td>526.824000</td>\n",
       "      <td>544.527000</td>\n",
       "      <td>468.521000</td>\n",
       "    </tr>\n",
       "  </tbody>\n",
       "</table>\n",
       "</div>"
      ],
      "text/plain": [
       "                type              m              x              y  \\\n",
       "count  135000.000000  135000.000000  135000.000000  135000.000000   \n",
       "mean        1.703704       0.001526       0.361403       2.165170   \n",
       "std         0.597206       0.001859     400.986716     406.302545   \n",
       "min         1.000000       0.000100  -10499.700000  -10813.500000   \n",
       "25%         1.000000       0.000100      -6.157640      -4.479513   \n",
       "50%         2.000000       0.000100      -1.909520       2.869330   \n",
       "75%         2.000000       0.003950       4.969110       8.026022   \n",
       "max         3.000000       0.003950   10328.100000   10735.100000   \n",
       "\n",
       "                   z             vx             vy             vz  \n",
       "count  135000.000000  135000.000000  135000.000000  135000.000000  \n",
       "mean       -2.975892      -0.820530       1.206656      -1.190753  \n",
       "std       402.947138     134.857647     131.334283      87.295667  \n",
       "min     -9908.830000    -550.021000    -485.052000    -461.048000  \n",
       "25%        -2.169652     -95.614625     -91.942875     -38.252725  \n",
       "50%        -1.426715      -0.081675      -0.162324      -0.401043  \n",
       "75%        -0.665771      92.386250      89.797525      36.362000  \n",
       "max     10955.400000     526.824000     544.527000     468.521000  "
      ]
     },
     "execution_count": 12,
     "metadata": {},
     "output_type": "execute_result"
    }
   ],
   "source": [
    "df.describe()"
   ]
  },
  {
   "cell_type": "code",
   "execution_count": 13,
   "metadata": {},
   "outputs": [
    {
     "data": {
      "text/html": [
       "<i>QTable length=3</i>\n",
       "<table id=\"table140333607691600\" class=\"table-striped table-bordered table-condensed\">\n",
       "<thead><tr><th>type</th><th>m</th><th>x</th><th>y</th><th>z</th><th>vx</th><th>vy</th><th>vz</th></tr></thead>\n",
       "<thead><tr><th></th><th>solMass</th><th>kpc</th><th>kpc</th><th>kpc</th><th>km / s</th><th>km / s</th><th>km / s</th></tr></thead>\n",
       "<thead><tr><th>float64</th><th>float64</th><th>float64</th><th>float64</th><th>float64</th><th>float64</th><th>float64</th><th>float64</th></tr></thead>\n",
       "<tr><td>1.0</td><td>39498500.0</td><td>-2.51725</td><td>19.1588</td><td>52.8528</td><td>0.134962</td><td>116.109</td><td>-85.3822</td></tr>\n",
       "<tr><td>1.0</td><td>39498500.0</td><td>-286.601</td><td>298.455</td><td>391.692</td><td>50.2658</td><td>-46.4521</td><td>15.1825</td></tr>\n",
       "<tr><td>1.0</td><td>39498500.0</td><td>-0.505945</td><td>-28.6337</td><td>-83.9565</td><td>11.3833</td><td>-0.974253</td><td>-39.3509</td></tr>\n",
       "</table>"
      ],
      "text/plain": [
       "<QTable length=3>\n",
       "  type      m          x        y        z        vx        vy       vz   \n",
       "         solMass      kpc      kpc      kpc     km / s    km / s   km / s \n",
       "float64  float64    float64  float64  float64  float64   float64  float64 \n",
       "------- ---------- --------- -------- -------- -------- --------- --------\n",
       "    1.0 39498500.0  -2.51725  19.1588  52.8528 0.134962   116.109 -85.3822\n",
       "    1.0 39498500.0  -286.601  298.455  391.692  50.2658  -46.4521  15.1825\n",
       "    1.0 39498500.0 -0.505945 -28.6337 -83.9565  11.3833 -0.974253 -39.3509"
      ]
     },
     "execution_count": 13,
     "metadata": {},
     "output_type": "execute_result"
    }
   ],
   "source": [
    "# QTable\n",
    "t = gal.get_qtable()\n",
    "t[:3]"
   ]
  },
  {
   "cell_type": "markdown",
   "metadata": {},
   "source": [
    "QTables are great at handling units and doing astronomer-type I/O (a.g. FITS files) but don't have all the data analysis capabilities of pandas. Fortunately they are easy to interconvert for clean datasets (though missing values can be a problem)."
   ]
  },
  {
   "cell_type": "markdown",
   "metadata": {},
   "source": [
    "### Data visualization\n",
    "\n",
    "Data scientists tend to have bigger budgets (and bigger salaries) than astronomers. Fortunately many of them have moved towards using Python rather than R, so making cool dataviz tools is a growth industry. \n",
    "\n",
    "Start by getting a big dataframe in suitable format:"
   ]
  },
  {
   "cell_type": "code",
   "execution_count": 19,
   "metadata": {},
   "outputs": [
    {
     "name": "stdout",
     "output_type": "stream",
     "text": [
      "MW\n",
      "M31\n",
      "M33\n"
     ]
    }
   ],
   "source": [
    "galaxies = []\n",
    "for gal_name in ['MW', 'M31', 'M33']:\n",
    "    g = Galaxy(gal_name)\n",
    "    print(g.name)\n",
    "    g_df = g.all_particle_properties().to_pandas()\n",
    "    g_df['name'] = gal_name\n",
    "    galaxies.append(g_df)\n",
    "gals_df = pd.concat(galaxies)"
   ]
  },
  {
   "cell_type": "code",
   "execution_count": 20,
   "metadata": {},
   "outputs": [
    {
     "data": {
      "text/html": [
       "<div>\n",
       "<style scoped>\n",
       "    .dataframe tbody tr th:only-of-type {\n",
       "        vertical-align: middle;\n",
       "    }\n",
       "\n",
       "    .dataframe tbody tr th {\n",
       "        vertical-align: top;\n",
       "    }\n",
       "\n",
       "    .dataframe thead th {\n",
       "        text-align: right;\n",
       "    }\n",
       "</style>\n",
       "<table border=\"1\" class=\"dataframe\">\n",
       "  <thead>\n",
       "    <tr style=\"text-align: right;\">\n",
       "      <th></th>\n",
       "      <th>type</th>\n",
       "      <th>m</th>\n",
       "      <th>pos</th>\n",
       "      <th>v</th>\n",
       "      <th>name</th>\n",
       "    </tr>\n",
       "  </thead>\n",
       "  <tbody>\n",
       "    <tr>\n",
       "      <th>0</th>\n",
       "      <td>1.0</td>\n",
       "      <td>39498500.0</td>\n",
       "      <td>27.211</td>\n",
       "      <td>164.203</td>\n",
       "      <td>MW</td>\n",
       "    </tr>\n",
       "    <tr>\n",
       "      <th>1</th>\n",
       "      <td>1.0</td>\n",
       "      <td>39498500.0</td>\n",
       "      <td>510.187</td>\n",
       "      <td>82.718</td>\n",
       "      <td>MW</td>\n",
       "    </tr>\n",
       "    <tr>\n",
       "      <th>2</th>\n",
       "      <td>1.0</td>\n",
       "      <td>39498500.0</td>\n",
       "      <td>40.497</td>\n",
       "      <td>11.466</td>\n",
       "      <td>MW</td>\n",
       "    </tr>\n",
       "    <tr>\n",
       "      <th>3</th>\n",
       "      <td>1.0</td>\n",
       "      <td>39498500.0</td>\n",
       "      <td>261.603</td>\n",
       "      <td>159.261</td>\n",
       "      <td>MW</td>\n",
       "    </tr>\n",
       "    <tr>\n",
       "      <th>4</th>\n",
       "      <td>1.0</td>\n",
       "      <td>39498500.0</td>\n",
       "      <td>26.541</td>\n",
       "      <td>155.194</td>\n",
       "      <td>MW</td>\n",
       "    </tr>\n",
       "    <tr>\n",
       "      <th>...</th>\n",
       "      <td>...</td>\n",
       "      <td>...</td>\n",
       "      <td>...</td>\n",
       "      <td>...</td>\n",
       "      <td>...</td>\n",
       "    </tr>\n",
       "    <tr>\n",
       "      <th>14295</th>\n",
       "      <td>2.0</td>\n",
       "      <td>1000000.0</td>\n",
       "      <td>842.420</td>\n",
       "      <td>232.263</td>\n",
       "      <td>M33</td>\n",
       "    </tr>\n",
       "    <tr>\n",
       "      <th>14296</th>\n",
       "      <td>2.0</td>\n",
       "      <td>1000000.0</td>\n",
       "      <td>847.568</td>\n",
       "      <td>219.680</td>\n",
       "      <td>M33</td>\n",
       "    </tr>\n",
       "    <tr>\n",
       "      <th>14297</th>\n",
       "      <td>2.0</td>\n",
       "      <td>1000000.0</td>\n",
       "      <td>840.035</td>\n",
       "      <td>222.736</td>\n",
       "      <td>M33</td>\n",
       "    </tr>\n",
       "    <tr>\n",
       "      <th>14298</th>\n",
       "      <td>2.0</td>\n",
       "      <td>1000000.0</td>\n",
       "      <td>840.966</td>\n",
       "      <td>107.240</td>\n",
       "      <td>M33</td>\n",
       "    </tr>\n",
       "    <tr>\n",
       "      <th>14299</th>\n",
       "      <td>2.0</td>\n",
       "      <td>1000000.0</td>\n",
       "      <td>842.393</td>\n",
       "      <td>220.887</td>\n",
       "      <td>M33</td>\n",
       "    </tr>\n",
       "  </tbody>\n",
       "</table>\n",
       "<p>338300 rows × 5 columns</p>\n",
       "</div>"
      ],
      "text/plain": [
       "       type           m      pos        v name\n",
       "0       1.0  39498500.0   27.211  164.203   MW\n",
       "1       1.0  39498500.0  510.187   82.718   MW\n",
       "2       1.0  39498500.0   40.497   11.466   MW\n",
       "3       1.0  39498500.0  261.603  159.261   MW\n",
       "4       1.0  39498500.0   26.541  155.194   MW\n",
       "...     ...         ...      ...      ...  ...\n",
       "14295   2.0   1000000.0  842.420  232.263  M33\n",
       "14296   2.0   1000000.0  847.568  219.680  M33\n",
       "14297   2.0   1000000.0  840.035  222.736  M33\n",
       "14298   2.0   1000000.0  840.966  107.240  M33\n",
       "14299   2.0   1000000.0  842.393  220.887  M33\n",
       "\n",
       "[338300 rows x 5 columns]"
      ]
     },
     "execution_count": 20,
     "metadata": {},
     "output_type": "execute_result"
    }
   ],
   "source": [
    "gals_df"
   ]
  },
  {
   "cell_type": "code",
   "execution_count": null,
   "metadata": {},
   "outputs": [],
   "source": []
  }
 ],
 "metadata": {
  "kernelspec": {
   "display_name": "Python 3",
   "language": "python",
   "name": "python3"
  },
  "language_info": {
   "codemirror_mode": {
    "name": "ipython",
    "version": 3
   },
   "file_extension": ".py",
   "mimetype": "text/x-python",
   "name": "python",
   "nbconvert_exporter": "python",
   "pygments_lexer": "ipython3",
   "version": "3.6.7"
  },
  "toc": {
   "base_numbering": 1,
   "nav_menu": {},
   "number_sections": true,
   "sideBar": true,
   "skip_h1_title": true,
   "title_cell": "Table of Contents",
   "title_sidebar": "Contents",
   "toc_cell": true,
   "toc_position": {},
   "toc_section_display": true,
   "toc_window_display": true
  }
 },
 "nbformat": 4,
 "nbformat_minor": 4
}
