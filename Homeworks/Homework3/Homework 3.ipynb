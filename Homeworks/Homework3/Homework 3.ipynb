{
 "cells": [
  {
   "cell_type": "code",
   "execution_count": 21,
   "metadata": {},
   "outputs": [],
   "source": [
    "# scientific package imports\n",
    "import numpy as np\n",
    "import pandas as pd\n",
    "import astropy.units as u\n",
    "import matplotlib.pyplot as plt\n",
    "\n",
    "# import my own class for this homework\n",
    "from galaxies import Galaxies"
   ]
  },
  {
   "cell_type": "markdown",
   "metadata": {},
   "source": [
    "Get a Galaxies object containing data and methods for our 3 galaxies:"
   ]
  },
  {
   "cell_type": "code",
   "execution_count": 5,
   "metadata": {},
   "outputs": [
    {
     "data": {
      "text/plain": [
       "['MW_000', 'M31_000', 'M33_000']"
      ]
     },
     "execution_count": 5,
     "metadata": {},
     "output_type": "execute_result"
    }
   ],
   "source": [
    "g = Galaxies()\n",
    "g.filenames"
   ]
  },
  {
   "cell_type": "markdown",
   "metadata": {},
   "source": [
    "How many particles of each type?"
   ]
  },
  {
   "cell_type": "code",
   "execution_count": 16,
   "metadata": {},
   "outputs": [
    {
     "data": {
      "text/html": [
       "<div>\n",
       "<style scoped>\n",
       "    .dataframe tbody tr th:only-of-type {\n",
       "        vertical-align: middle;\n",
       "    }\n",
       "\n",
       "    .dataframe tbody tr th {\n",
       "        vertical-align: top;\n",
       "    }\n",
       "\n",
       "    .dataframe thead th {\n",
       "        text-align: right;\n",
       "    }\n",
       "</style>\n",
       "<table border=\"1\" class=\"dataframe\">\n",
       "  <thead>\n",
       "    <tr style=\"text-align: right;\">\n",
       "      <th>typename</th>\n",
       "      <th>1 Halo</th>\n",
       "      <th>2 Disk</th>\n",
       "      <th>3 Bulge</th>\n",
       "      <th>All</th>\n",
       "    </tr>\n",
       "    <tr>\n",
       "      <th>name</th>\n",
       "      <th></th>\n",
       "      <th></th>\n",
       "      <th></th>\n",
       "      <th></th>\n",
       "    </tr>\n",
       "  </thead>\n",
       "  <tbody>\n",
       "    <tr>\n",
       "      <th>M31</th>\n",
       "      <td>50000</td>\n",
       "      <td>120000</td>\n",
       "      <td>19000</td>\n",
       "      <td>189000</td>\n",
       "    </tr>\n",
       "    <tr>\n",
       "      <th>M33</th>\n",
       "      <td>5000</td>\n",
       "      <td>9300</td>\n",
       "      <td>0</td>\n",
       "      <td>14300</td>\n",
       "    </tr>\n",
       "    <tr>\n",
       "      <th>MW</th>\n",
       "      <td>50000</td>\n",
       "      <td>75000</td>\n",
       "      <td>10000</td>\n",
       "      <td>135000</td>\n",
       "    </tr>\n",
       "    <tr>\n",
       "      <th>All</th>\n",
       "      <td>105000</td>\n",
       "      <td>204300</td>\n",
       "      <td>29000</td>\n",
       "      <td>338300</td>\n",
       "    </tr>\n",
       "  </tbody>\n",
       "</table>\n",
       "</div>"
      ],
      "text/plain": [
       "typename  1 Halo  2 Disk  3 Bulge     All\n",
       "name                                     \n",
       "M31        50000  120000    19000  189000\n",
       "M33         5000    9300        0   14300\n",
       "MW         50000   75000    10000  135000\n",
       "All       105000  204300    29000  338300"
      ]
     },
     "execution_count": 16,
     "metadata": {},
     "output_type": "execute_result"
    }
   ],
   "source": [
    "counts = g.get_counts_pivot()\n",
    "counts"
   ]
  },
  {
   "cell_type": "markdown",
   "metadata": {},
   "source": [
    "Output counts to $\\LaTeX$ using pandas method."
   ]
  },
  {
   "cell_type": "code",
   "execution_count": 20,
   "metadata": {},
   "outputs": [
    {
     "name": "stdout",
     "output_type": "stream",
     "text": [
      "\\begin{tabular}{lrrrrr}\n",
      "\\toprule\n",
      "typename &  1 Halo &  2 Disk &  3 Bulge &     All \\\\\n",
      "name &         &         &          &         \\\\\n",
      "\\midrule\n",
      "M31  &   50000 &  120000 &    19000 &  189000 \\\\\n",
      "M33  &    5000 &    9300 &        0 &   14300 \\\\\n",
      "MW   &   50000 &   75000 &    10000 &  135000 \\\\\n",
      "All  &  105000 &  204300 &    29000 &  338300 \\\\\n",
      "\\bottomrule\n",
      "\\end{tabular}\n",
      "\n"
     ]
    }
   ],
   "source": [
    "print(counts.to_latex(column_format='lrrrrr'))"
   ]
  },
  {
   "cell_type": "markdown",
   "metadata": {},
   "source": [
    "Get the aggregate masses. Units are ($M_\\odot \\times 10^{12}$), though this is not included in the table at this stage."
   ]
  },
  {
   "cell_type": "code",
   "execution_count": 7,
   "metadata": {},
   "outputs": [
    {
     "data": {
      "text/html": [
       "<div>\n",
       "<style scoped>\n",
       "    .dataframe tbody tr th:only-of-type {\n",
       "        vertical-align: middle;\n",
       "    }\n",
       "\n",
       "    .dataframe tbody tr th {\n",
       "        vertical-align: top;\n",
       "    }\n",
       "\n",
       "    .dataframe thead th {\n",
       "        text-align: right;\n",
       "    }\n",
       "</style>\n",
       "<table border=\"1\" class=\"dataframe\">\n",
       "  <thead>\n",
       "    <tr style=\"text-align: right;\">\n",
       "      <th>typename</th>\n",
       "      <th>1 Halo</th>\n",
       "      <th>2 Disk</th>\n",
       "      <th>3 Bulge</th>\n",
       "      <th>All</th>\n",
       "    </tr>\n",
       "    <tr>\n",
       "      <th>name</th>\n",
       "      <th></th>\n",
       "      <th></th>\n",
       "      <th></th>\n",
       "      <th></th>\n",
       "    </tr>\n",
       "  </thead>\n",
       "  <tbody>\n",
       "    <tr>\n",
       "      <th>M31</th>\n",
       "      <td>1.921</td>\n",
       "      <td>0.120</td>\n",
       "      <td>0.019</td>\n",
       "      <td>2.060</td>\n",
       "    </tr>\n",
       "    <tr>\n",
       "      <th>M33</th>\n",
       "      <td>0.187</td>\n",
       "      <td>0.009</td>\n",
       "      <td>0.000</td>\n",
       "      <td>0.196</td>\n",
       "    </tr>\n",
       "    <tr>\n",
       "      <th>MW</th>\n",
       "      <td>1.975</td>\n",
       "      <td>0.075</td>\n",
       "      <td>0.010</td>\n",
       "      <td>2.060</td>\n",
       "    </tr>\n",
       "    <tr>\n",
       "      <th>All</th>\n",
       "      <td>4.082</td>\n",
       "      <td>0.204</td>\n",
       "      <td>0.029</td>\n",
       "      <td>4.316</td>\n",
       "    </tr>\n",
       "  </tbody>\n",
       "</table>\n",
       "</div>"
      ],
      "text/plain": [
       "typename  1 Halo  2 Disk  3 Bulge   All\n",
       "name                                   \n",
       "M31        1.921   0.120    0.019 2.060\n",
       "M33        0.187   0.009    0.000 0.196\n",
       "MW         1.975   0.075    0.010 2.060\n",
       "All        4.082   0.204    0.029 4.316"
      ]
     },
     "execution_count": 7,
     "metadata": {},
     "output_type": "execute_result"
    }
   ],
   "source": [
    "pd.options.display.float_format = '{:,.3f}'.format\n",
    "masses = g.get_masses_pivot()/1e12\n",
    "masses"
   ]
  },
  {
   "cell_type": "markdown",
   "metadata": {},
   "source": [
    "The pivot table is multi-indexed and not quite what we want. Make a cleaner version and add the $f_{bar}$ column:"
   ]
  },
  {
   "cell_type": "code",
   "execution_count": 9,
   "metadata": {},
   "outputs": [
    {
     "data": {
      "text/html": [
       "<div>\n",
       "<style scoped>\n",
       "    .dataframe tbody tr th:only-of-type {\n",
       "        vertical-align: middle;\n",
       "    }\n",
       "\n",
       "    .dataframe tbody tr th {\n",
       "        vertical-align: top;\n",
       "    }\n",
       "\n",
       "    .dataframe thead th {\n",
       "        text-align: right;\n",
       "    }\n",
       "</style>\n",
       "<table border=\"1\" class=\"dataframe\">\n",
       "  <thead>\n",
       "    <tr style=\"text-align: right;\">\n",
       "      <th></th>\n",
       "      <th>Galaxy Name</th>\n",
       "      <th>Halo Mass</th>\n",
       "      <th>Disk Mass</th>\n",
       "      <th>Bulge Mass</th>\n",
       "      <th>Total</th>\n",
       "      <th>f_bar</th>\n",
       "    </tr>\n",
       "  </thead>\n",
       "  <tbody>\n",
       "    <tr>\n",
       "      <th>0</th>\n",
       "      <td>M31</td>\n",
       "      <td>1.921</td>\n",
       "      <td>0.120</td>\n",
       "      <td>0.019</td>\n",
       "      <td>2.060</td>\n",
       "      <td>0.068</td>\n",
       "    </tr>\n",
       "    <tr>\n",
       "      <th>1</th>\n",
       "      <td>M33</td>\n",
       "      <td>0.187</td>\n",
       "      <td>0.009</td>\n",
       "      <td>0.000</td>\n",
       "      <td>0.196</td>\n",
       "      <td>0.047</td>\n",
       "    </tr>\n",
       "    <tr>\n",
       "      <th>2</th>\n",
       "      <td>MW</td>\n",
       "      <td>1.975</td>\n",
       "      <td>0.075</td>\n",
       "      <td>0.010</td>\n",
       "      <td>2.060</td>\n",
       "      <td>0.041</td>\n",
       "    </tr>\n",
       "    <tr>\n",
       "      <th>3</th>\n",
       "      <td>All</td>\n",
       "      <td>4.082</td>\n",
       "      <td>0.204</td>\n",
       "      <td>0.029</td>\n",
       "      <td>4.316</td>\n",
       "      <td>0.054</td>\n",
       "    </tr>\n",
       "  </tbody>\n",
       "</table>\n",
       "</div>"
      ],
      "text/plain": [
       "  Galaxy Name  Halo Mass  Disk Mass  Bulge Mass  Total  f_bar\n",
       "0         M31      1.921      0.120       0.019  2.060  0.068\n",
       "1         M33      0.187      0.009       0.000  0.196  0.047\n",
       "2          MW      1.975      0.075       0.010  2.060  0.041\n",
       "3         All      4.082      0.204       0.029  4.316  0.054"
      ]
     },
     "execution_count": 9,
     "metadata": {},
     "output_type": "execute_result"
    }
   ],
   "source": [
    "df2 = pd.DataFrame()\n",
    "df2['Galaxy Name'] = masses.index.values\n",
    "df2['Halo Mass'] = masses['1 Halo'].values\n",
    "df2['Disk Mass'] = masses['2 Disk'].values\n",
    "df2['Bulge Mass'] = masses['3 Bulge'].values\n",
    "df2['Total'] = masses['All'].values\n",
    "df2['f_bar'] = (df2['Disk Mass'] + df2['Bulge Mass']) / df2['Total']\n",
    "df2"
   ]
  },
  {
   "cell_type": "markdown",
   "metadata": {},
   "source": [
    "Output masses to $\\LaTeX$ using pandas method. Use `index=False` to suppress the row numbers."
   ]
  },
  {
   "cell_type": "code",
   "execution_count": 18,
   "metadata": {},
   "outputs": [
    {
     "name": "stdout",
     "output_type": "stream",
     "text": [
      "\\begin{tabular}{lccccc}\n",
      "\\toprule\n",
      "Galaxy Name &  Halo Mass &  Disk Mass &  Bulge Mass &  Total &  f\\_bar \\\\\n",
      "\\midrule\n",
      "        M31 &      1.921 &      0.120 &       0.019 &  2.060 &  0.068 \\\\\n",
      "        M33 &      0.187 &      0.009 &       0.000 &  0.196 &  0.047 \\\\\n",
      "         MW &      1.975 &      0.075 &       0.010 &  2.060 &  0.041 \\\\\n",
      "        All &      4.082 &      0.204 &       0.029 &  4.316 &  0.054 \\\\\n",
      "\\bottomrule\n",
      "\\end{tabular}\n",
      "\n"
     ]
    }
   ],
   "source": [
    "print(df2.to_latex(index=False, column_format='lccccc'))"
   ]
  },
  {
   "cell_type": "code",
   "execution_count": null,
   "metadata": {},
   "outputs": [],
   "source": [
    "import plotly.express as px\n",
    "\n",
    "d = px.bar(df2, x='Galaxy Name', )"
   ]
  },
  {
   "cell_type": "code",
   "execution_count": 52,
   "metadata": {},
   "outputs": [
    {
     "data": {
      "image/png": "[encoded data removed]",
      "text/plain": [
       "<Figure size 1152x864 with 2 Axes>"
      ]
     },
     "metadata": {
      "needs_background": "light"
     },
     "output_type": "display_data"
    }
   ],
   "source": [
    "plt.rcParams.update({'font.size': 16})\n",
    "N = 4\n",
    "ind = np.arange(N)    # the x locations for the groups\n",
    "width = 0.5       # the width of the bars: can also be len(x) sequence\n",
    "\n",
    "# Get the data into more convenient variables\n",
    "chalo = counts['1 Halo'].values\n",
    "cdisk = counts['2 Disk'].values\n",
    "cbulge = counts['3 Bulge'].values\n",
    "mhalo = df2['Halo Mass'].values\n",
    "mdisk = df2['Disk Mass'].values\n",
    "mbulge = df2['Bulge Mass'].values\n",
    "names = df2['Galaxy Name'].values\n",
    "\n",
    "fig, (ax1, ax2) = plt.subplots(1,2, figsize=(16,12))\n",
    "fig.suptitle('Aggregate properties by galaxy and particle type', weight='semibold')\n",
    "\n",
    "ax1.bar(ind, chalo, width)\n",
    "ax1.bar(ind, cdisk, width, bottom=chalo)\n",
    "ax1.bar(ind, cbulge, width, bottom=chalo+cdisk)\n",
    "\n",
    "ax1.set_ylabel('Particle count')\n",
    "ax1.set_xticks(ind)\n",
    "ax1.set_xticklabels(names)\n",
    "ax1.set_title('Counts')\n",
    "\n",
    "ax2.set_ylabel('Aggregate mass (M_sun * 1e12)')\n",
    "ax2.set_xticks(ind)\n",
    "ax2.set_xticklabels(names)\n",
    "ax2.set_title('Mass')\n",
    "\n",
    "p1 = ax2.bar(ind, mhalo, width)\n",
    "p2 = ax2.bar(ind, mdisk, width, bottom=mhalo)\n",
    "p3 = ax2.bar(ind, mbulge, width, bottom=mhalo+mdisk)\n",
    "\n",
    "ax2.set_ylabel('Aggregate mass (M_sun * 1e12)')\n",
    "ax2.set_xticks(ind)\n",
    "ax2.set_xticklabels(names)\n",
    "ax2.set_title('Mass')\n",
    "ax1.legend((p1[0], p2[0], p3[0]), ('Bulge', 'Disk', 'Halo'))\n",
    "ax2.legend((p3[0], p2[0], p1[0]), ('Bulge', 'Disk', 'Halo'));"
   ]
  },
  {
   "cell_type": "code",
   "execution_count": 49,
   "metadata": {},
   "outputs": [
    {
     "data": {
      "text/html": [
       "<div>\n",
       "<style scoped>\n",
       "    .dataframe tbody tr th:only-of-type {\n",
       "        vertical-align: middle;\n",
       "    }\n",
       "\n",
       "    .dataframe tbody tr th {\n",
       "        vertical-align: top;\n",
       "    }\n",
       "\n",
       "    .dataframe thead th {\n",
       "        text-align: right;\n",
       "    }\n",
       "</style>\n",
       "<table border=\"1\" class=\"dataframe\">\n",
       "  <thead>\n",
       "    <tr style=\"text-align: right;\">\n",
       "      <th>typename</th>\n",
       "      <th>1 Halo</th>\n",
       "      <th>2 Disk</th>\n",
       "      <th>3 Bulge</th>\n",
       "      <th>All</th>\n",
       "    </tr>\n",
       "    <tr>\n",
       "      <th>name</th>\n",
       "      <th></th>\n",
       "      <th></th>\n",
       "      <th></th>\n",
       "      <th></th>\n",
       "    </tr>\n",
       "  </thead>\n",
       "  <tbody>\n",
       "    <tr>\n",
       "      <th>M31</th>\n",
       "      <td>38417600</td>\n",
       "      <td>1000000</td>\n",
       "      <td>1002630</td>\n",
       "      <td>10,899,100.370</td>\n",
       "    </tr>\n",
       "    <tr>\n",
       "      <th>M33</th>\n",
       "      <td>37322600</td>\n",
       "      <td>1000000</td>\n",
       "      <td>0</td>\n",
       "      <td>13,700,209.790</td>\n",
       "    </tr>\n",
       "    <tr>\n",
       "      <th>MW</th>\n",
       "      <td>39498500</td>\n",
       "      <td>1000000</td>\n",
       "      <td>1000500</td>\n",
       "      <td>15,258,740.741</td>\n",
       "    </tr>\n",
       "    <tr>\n",
       "      <th>All</th>\n",
       "      <td>38880171</td>\n",
       "      <td>1000000</td>\n",
       "      <td>1001895</td>\n",
       "      <td>12,757,236.092</td>\n",
       "    </tr>\n",
       "  </tbody>\n",
       "</table>\n",
       "</div>"
      ],
      "text/plain": [
       "typename    1 Halo   2 Disk  3 Bulge            All\n",
       "name                                               \n",
       "M31       38417600  1000000  1002630 10,899,100.370\n",
       "M33       37322600  1000000        0 13,700,209.790\n",
       "MW        39498500  1000000  1000500 15,258,740.741\n",
       "All       38880171  1000000  1001895 12,757,236.092"
      ]
     },
     "execution_count": 49,
     "metadata": {},
     "output_type": "execute_result"
    }
   ],
   "source": [
    "g.get_pivot('mean')"
   ]
  },
  {
   "cell_type": "code",
   "execution_count": null,
   "metadata": {},
   "outputs": [],
   "source": []
  }
 ],
 "metadata": {
  "kernelspec": {
   "display_name": "Python 3",
   "language": "python",
   "name": "python3"
  },
  "language_info": {
   "codemirror_mode": {
    "name": "ipython",
    "version": 3
   },
   "file_extension": ".py",
   "mimetype": "text/x-python",
   "name": "python",
   "nbconvert_exporter": "python",
   "pygments_lexer": "ipython3",
   "version": "3.7.6"
  },
  "toc": {
   "base_numbering": 1,
   "nav_menu": {},
   "number_sections": true,
   "sideBar": true,
   "skip_h1_title": false,
   "title_cell": "Table of Contents",
   "title_sidebar": "Contents",
   "toc_cell": false,
   "toc_position": {},
   "toc_section_display": true,
   "toc_window_display": false
  }
 },
 "nbformat": 4,
 "nbformat_minor": 2
}
