{
 "cells": [
  {
   "cell_type": "markdown",
   "metadata": {
    "collapsed": true
   },
   "source": [
    "# In Class Lab 12 Template\n",
    "# Cosmological Tools\n",
    "\n",
    "In this lab you will create a Class called `CosmologicalTools` that will define various functions that are useful for defining cosmological quantities. We will be adding to this class in subsequent labs. \n",
    "\n",
    "For Lab 12, we will create functions that return the Hubble Parameter and the Density Parameters as a function of redshift. \n",
    "\n"
   ]
  },
  {
   "cell_type": "code",
   "execution_count": null,
   "metadata": {},
   "outputs": [],
   "source": [
    "# import modules\n",
    "import numpy as np\n",
    "import astropy.units as u\n",
    "from astropy.constants import G\n",
    "\n",
    "# import plotting modules\n",
    "import matplotlib.pyplot as plt\n",
    "import matplotlib\n",
    "%matplotlib inline"
   ]
  },
  {
   "cell_type": "code",
   "execution_count": null,
   "metadata": {},
   "outputs": [],
   "source": [
    "# Define the benchmark cosmology at z =0\n",
    "# Planck 2015 results. XIII. Cosmological parameters   \n",
    "# Planck Collaboration+2016 A&A 594 13  Table 4, column 2 \n",
    "\n",
    "OmegaM0_planck = 0.308   # Matter Density Parameter\n",
    "OmegaR0_planck = 8.24e-5  # Radiation Density Parameter\n",
    "OmegaL0_planck = 0.692  # Dark Energy Density Parameter\n",
    "h_planck = 0.6781   # Hubble Constant  100 h km/s/Mpc\n",
    "        "
   ]
  },
  {
   "cell_type": "markdown",
   "metadata": {},
   "source": [
    "\n",
    "# Part 1 :\n",
    "\n",
    "A)\n",
    "The first function of the class is called `HubbleParameter`.   From class:\n",
    "\n",
    "$H(z)^2 = H_o^2 \\Bigg [ \\Omega_{m,o}(1+z)^3 + \\Omega_{rad,o}(1+z)^4 + \\Omega_{\\Lambda,o} + \\Omega_{K,o}(1+z)^2 \\Bigg ] $\n",
    "\n",
    "- Complete the initialization of the Class. \n",
    "- Complete the function to return H(z). \n",
    "\n",
    "B)\n",
    "Check your code to make sure it returns the correct Hubble Parameter at z=0  of 67.81 km/s/Mpc\n",
    "\n",
    "C) \n",
    "Determine the Hubble Parameter at z = 1 in the benchmark cosmology\n",
    "\n",
    "D) The Einstein De Sitter cosmology refers to a time when normal matter dominated the energy budget. \n",
    "$\\Omega_m = 1$ and all other density parameters are negligible (set to 0).\n",
    "\n",
    "   -  Determine the Hubble Parameter at z=1 in the Einstein De Sitter Cosmology\n",
    "\n",
    "   -   Is the recession velocity of a galaxy at a given distance expected to be larger or smaller than in the benchmark cosmology at z=1?"
   ]
  },
  {
   "cell_type": "markdown",
   "metadata": {},
   "source": [
    "# Part 2:\n",
    "\n",
    "\n",
    "## A) \n",
    "\n",
    "From class:\n",
    "\n",
    "$\\Omega_m(z) = \\Omega_{m0} (1+z)^3 \\Bigg (\\frac{H_o}{H(z)} \\Bigg )^2$\n",
    "\n",
    "\n",
    "$\\Omega_{rad}(z) = \\Omega_{rad0}(1+z)^4\\Bigg (\\frac{H_o}{H(z)} \\Bigg )^2$\n",
    "\n",
    "\n",
    "$\\Omega_\\Lambda(z) = \\Omega_{\\Lambda 0}\\Bigg (\\frac{H_o}{H(z)} \\Bigg )^2$\n",
    "\n",
    "\n",
    "Complete the corresponding functions in the class\n",
    "\n",
    "## B) \n",
    "\n",
    "Plot $\\Omega_m$(z),  $\\Omega_{rad}$(z) and $\\Omega_{\\Lambda}$(z) as a function of z using the benchmark cosmology.  \n",
    "\n",
    "But plot the x values as (z+1).  \n",
    "\n",
    "An array of redshifts has already been defined (zrange), starting from the future  (zmin = -0.9) to the past (zmax = 10$^5$).\n",
    "\n",
    "## C) \n",
    "\n",
    "-  At what redshift does radiation dominate? This epoch is referred to as matter-radiation equality.\n",
    "-  At what redshift does dark energy dominate?\n"
   ]
  },
  {
   "cell_type": "code",
   "execution_count": null,
   "metadata": {},
   "outputs": [],
   "source": [
    "class CosmologicalTools:\n",
    "    # Define a class that provides functions to compute various cosmological quantities\n",
    "    # for a given cosmology  \n",
    "        \n",
    "    def __init__(self, OmegaM0, OmegaR0, OmegaL0, h):\n",
    "        # initialize the instance of the class - for any given Cosmology\n",
    "        # Input:    Omega M matter density parameter at z=0\n",
    "        #           Omega R radiation density parameter at z=0\n",
    "        #           Omega L  dark energy density parameter at z=0\n",
    "        #           h  normalization for the hubble parameter at z=0\n",
    "        \n",
    "        # initialize the cosmology at z=0\n",
    "        self.OmegaM0 =     ### Matter Density Parameter\n",
    "        self.OmegaR0 =    ### Radiation Density Parameter\n",
    "        self.OmegaL0 =   ### Dark Energy Density Parameter\n",
    "        self.OmegaK0 =     #### Curvature Density Parameter\n",
    "    \n",
    "        self.h = h   # Normalization of Hubble Parameter   \n",
    "        self.Ho = h*100*u.km/u.s/u.Mpc #  Hubble Constant at z=0  100 h km/s/Mpc\n",
    "    \n",
    "    \n",
    "    # Question 1 A)\n",
    "    def HubbleParameter(self, z):\n",
    "        # Function that defines the Hubble Parameter as a function of redshift\n",
    "        # H(z)^2 = H_o^2 [ OmegaM0(1+z)^3 + OmegaR0(1+z)^4 + OmegaLambda0 + OmegaK0(1+z)^2] \n",
    "        # Input:   Redshift z \n",
    "        # Returns: The Hubble parameter at the given redshift in units of km/s/Mpc        \n",
    "        \n",
    "        # FILL THIS IN \n",
    "  \n",
    "        return  \n",
    "    \n",
    "    \n",
    "    # Question 2 A)\n",
    "    def OmegaM_Z(self,z):\n",
    "        # Function that defines the matter density parameter as a function of redshift\n",
    "        # Input:  Redshift z . Can be an array\n",
    "        # Output:  Matter Density Parameter at the given redshift.\n",
    "        \n",
    "        # FILL THIS IN\n",
    "        return \n",
    "    \n",
    "    def OmegaR_Z(self,z):\n",
    "        # Function that defines the radiation density parameter as a function of redshift\n",
    "        # Input:  Redshift z . Can be an array\n",
    "        # Output:  Radiation Density Parameter at the given redshift.\n",
    "        \n",
    "        # FILL THIS IN\n",
    "        return \n",
    "    \n",
    "    \n",
    "    def OmegaL_Z(self,z):\n",
    "        # Function that defines the dark energy density parameter as a function of redshift\n",
    "        # Input:  Redshift z . Can be an array\n",
    "        # Output:  Dark Energy Density Parameter at the given redshift.\n",
    "        \n",
    "        # FILL THIS IN\n",
    "        return \n",
    "    \n",
    "    \n",
    "    "
   ]
  },
  {
   "cell_type": "code",
   "execution_count": null,
   "metadata": {},
   "outputs": [],
   "source": [
    "# Define here an instance of the Class Cosmological Tools that follows the Benchmark Cosmology\n",
    "\n",
    "\n"
   ]
  },
  {
   "cell_type": "code",
   "execution_count": null,
   "metadata": {},
   "outputs": [],
   "source": [
    "# Question 1 B) \n",
    "\n",
    "# Test Hubble Parameter at z = 0\n"
   ]
  },
  {
   "cell_type": "code",
   "execution_count": null,
   "metadata": {},
   "outputs": [],
   "source": [
    "# Question 1 C) \n",
    "\n",
    "# Compute the Hubble Parameter at z = 1 in BenchMark Cosmology\n",
    "\n"
   ]
  },
  {
   "cell_type": "code",
   "execution_count": null,
   "metadata": {},
   "outputs": [],
   "source": [
    "# Question 1 D) \n",
    "# Define the cosmology for the Einstein De Sitter Universe\n",
    "OmegaMD = \n",
    "OmegaRD = \n",
    "OmegaLD = \n",
    "# h is the same \n"
   ]
  },
  {
   "cell_type": "code",
   "execution_count": null,
   "metadata": {},
   "outputs": [],
   "source": [
    "\n",
    "# Define a New Instance of the Class with Einstein De Sitter Cosmology \n",
    "# ******NOTE in the video i write \"h\" it should be \"h_planck\"\n",
    "\n",
    "\n",
    "\n",
    "# Compute the Hubble Parameter at z = 1.0 in Einstein De Sitter Cosmology\n"
   ]
  },
  {
   "cell_type": "markdown",
   "metadata": {},
   "source": [
    "Is the recession velocity of a galaxy at a given distance larger or smaller than in the benchmark cosmology at z=1?\n"
   ]
  },
  {
   "cell_type": "code",
   "execution_count": null,
   "metadata": {},
   "outputs": [],
   "source": [
    "# Question 2 B) \n",
    "\n",
    "\n",
    "# Plot the Redshift Evolution of OmegaM, OmegaR and OmegaL\n",
    "############################################################\n",
    "\n",
    "fig = plt.figure(figsize=(10,10))\n",
    "ax = plt.subplot(111)\n",
    "\n",
    "# Define an array of redshift \n",
    "zmax = 10**5\n",
    "zmin = -0.9\n",
    "zrange = np.arange(zmin, zmax, 0.1)\n",
    "\n",
    "\n",
    "# Evolution of Matter Density Parameter as a function of 1+z\n",
    "# FILL THIS IN\n",
    "plt.semilogx(  , color='blue', linewidth=5, label=r'$\\Omega_M$(z)')\n",
    "\n",
    "# Evolution of Radiation Density Parameter \n",
    "# FILL THIS IN \n",
    "plt.semilogx(  , color='red', linewidth=5, label=r'$\\Omega_R$(z)')\n",
    "\n",
    "# Evolution of Dark Energy Density Parameter \n",
    "# FILL THIS IN\n",
    "plt.semilogx(  , color='black', linewidth=5, label=r'$\\Omega_L$(z)')\n",
    "\n",
    "\n",
    "\n",
    "\n",
    "# Add axis labels\n",
    "plt.xlabel('1+z', fontsize=22)\n",
    "plt.ylabel(r'$\\Omega$(z)', fontsize=22)\n",
    "\n",
    "\n",
    "#adjust tick label font size\n",
    "label_size = 22\n",
    "matplotlib.rcParams['xtick.labelsize'] = label_size \n",
    "matplotlib.rcParams['ytick.labelsize'] = label_size\n",
    "\n",
    "\n",
    "legend = ax.legend(loc='upper center', fontsize='x-large', \n",
    "                   bbox_to_anchor=(0.5, 1.05),ncol=3, fancybox=True, shadow=True)\n",
    "\n",
    "# Save to a file\n",
    "ax.set_rasterized(True)\n",
    "plt.savefig('DensityParameterEvolution.png', rasterized=True, dpi=350)"
   ]
  },
  {
   "cell_type": "markdown",
   "metadata": {},
   "source": [
    "# Question 2 C) \n",
    "\n",
    " At what approximate redshift does Radiation Density dominate?\n",
    "\n",
    "\n"
   ]
  },
  {
   "cell_type": "code",
   "execution_count": null,
   "metadata": {},
   "outputs": [],
   "source": []
  },
  {
   "cell_type": "markdown",
   "metadata": {},
   "source": [
    " At what approximate redshift does Dark Energy dominate?   \n"
   ]
  },
  {
   "cell_type": "code",
   "execution_count": null,
   "metadata": {},
   "outputs": [],
   "source": []
  }
 ],
 "metadata": {
  "kernelspec": {
   "display_name": "Python 3",
   "language": "python",
   "name": "python3"
  },
  "language_info": {
   "codemirror_mode": {
    "name": "ipython",
    "version": 3
   },
   "file_extension": ".py",
   "mimetype": "text/x-python",
   "name": "python",
   "nbconvert_exporter": "python",
   "pygments_lexer": "ipython3",
   "version": "3.7.6"
  }
 },
 "nbformat": 4,
 "nbformat_minor": 2
}
