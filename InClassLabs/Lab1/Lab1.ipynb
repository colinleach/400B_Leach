{
 "cells": [
  {
   "cell_type": "markdown",
   "metadata": {},
   "source": [
    "# In Class Lab 1"
   ]
  },
  {
   "cell_type": "markdown",
   "metadata": {},
   "source": [
    "## Part A:  The Local Standard of Rest\n",
    "Proper motion of Sgr A* from Reid & Brunthaler 2004\n",
    "$\\mu = 6.379$ mas/yr \n",
    "\n",
    "Peculiar motion of the sun, $v_\\odot$ = 12.24 km/s  (Schonrich 2010)\n",
    "\n",
    "\n",
    "$v_{tan} = 4.74 \\frac{\\mu}{\\rm mas/yr} \\frac{R_o}{\\rm kpc} = V_{LSR} + v_\\odot$\n",
    "\n",
    "\n",
    "### a)\n",
    "\n",
    "Create a function called VLSR to compute the local standard of res (V$_{LSR}$).\n",
    "\n",
    "The function should take as input: the solar radius (R$_o$), the proper motion (mu)\n",
    "and the peculiar motion of the sun in the $v_\\odot$ direction.\n",
    "\n",
    "Compute V$_{LSR}$ using three different values R$_o$: \n",
    "1. Water Maser Distance for the Sun :  R$_o$ = 8.34 kpc   (Reid 2014 ApJ 783) \n",
    "2. GRAVITY Collaboration Distance for the Sun:  R$_o$ = 8.178 kpc   (Abuter+2019 A&A 625)\n",
    "3. Value for Distance to Sun listed in Sparke & Gallagher : R$_o$ = 7.9 kpc "
   ]
  },
  {
   "cell_type": "code",
   "execution_count": 1,
   "metadata": {},
   "outputs": [],
   "source": [
    "import numpy as np\n",
    "import astropy.units as u"
   ]
  },
  {
   "cell_type": "code",
   "execution_count": 2,
   "metadata": {},
   "outputs": [],
   "source": [
    "def VLSR(R_0, mu, v_sun):\n",
    "    \"\"\"\n",
    "    Args:\n",
    "        R_0 (Quantity): Solar radius (galactocentric distance)\n",
    "        mu (Quantity): proper motion\n",
    "        v_sun (Quantity): peculiar motion of the Sun in the v_sun direction\n",
    "        \n",
    "    Function to compute and return the local standard of rest velocity (km/s)\n",
    "    \"\"\"\n",
    "    \n",
    "    v_tan = (4.74 * mu.to(u.mas/u.year).value * R_0.to(u.kpc).value) * u.km/u.s\n",
    "    return v_tan - v_sun.to(u.km/u.s)"
   ]
  },
  {
   "cell_type": "code",
   "execution_count": 3,
   "metadata": {},
   "outputs": [],
   "source": [
    "mu = 6.379 * u.mas / u.year\n",
    "v_sun = 12.24 * u.km/u.s\n",
    "R_0 = np.array([8.34, 8.178, 7.9]) * u.kpc"
   ]
  },
  {
   "cell_type": "code",
   "execution_count": 4,
   "metadata": {},
   "outputs": [
    {
     "data": {
      "text/latex": [
       "$[239.93208,~235.03377,~226.62803] \\; \\mathrm{\\frac{km}{s}}$"
      ],
      "text/plain": [
       "<Quantity [239.9320764 , 235.03376988, 226.628034  ] km / s>"
      ]
     },
     "metadata": {},
     "output_type": "display_data"
    },
    {
     "name": "stdout",
     "output_type": "stream",
     "text": [
      "Relative velocities: [1.059 1.037 1.   ]\n"
     ]
    }
   ],
   "source": [
    "V_LSR = VLSR(R_0, mu, v_sun)\n",
    "display(V_LSR)\n",
    "\n",
    "# normalize on book value of R_0:\n",
    "print(f'Relative velocities: {np.around(V_LSR / V_LSR[2], 3)}')"
   ]
  },
  {
   "cell_type": "markdown",
   "metadata": {},
   "source": [
    "### b)\n",
    "\n",
    "compute the orbital period of the sun using R$_o$ from the GRAVITY Collaboration (assume circular orbit)\n",
    "\n",
    "Note that 1 km/s $\\sim$ 1kpc/Gyr"
   ]
  },
  {
   "cell_type": "code",
   "execution_count": 5,
   "metadata": {},
   "outputs": [
    {
     "name": "stdout",
     "output_type": "stream",
     "text": [
      "Orbital period of the sun using GRAVITY R_0 is 0.214 Gyr\n"
     ]
    }
   ],
   "source": [
    "circumference = 2 * np.pi * R_0\n",
    "period = circumference / V_LSR\n",
    "maser_period, gravity_period, book_period = period.to(u.Gyr)\n",
    "print(f'Orbital period of the sun using GRAVITY R_0 is {gravity_period:.3f}')"
   ]
  },
  {
   "cell_type": "markdown",
   "metadata": {},
   "source": [
    "### c)\n",
    "\n",
    "Compute the number of rotations about the GC over the age of the universe (13.8 Gyr)"
   ]
  },
  {
   "cell_type": "code",
   "execution_count": 6,
   "metadata": {},
   "outputs": [
    {
     "name": "stdout",
     "output_type": "stream",
     "text": [
      "Rotations so far: 64.6\n"
     ]
    }
   ],
   "source": [
    "cosmo_age = 13.8 * u.Gyr\n",
    "rotations = cosmo_age / gravity_period\n",
    "print(f'Rotations so far: {rotations:.1f}')"
   ]
  },
  {
   "cell_type": "markdown",
   "metadata": {},
   "source": [
    "## Part B  Dark Matter Density Profiles\n",
    "\n",
    "### a)\n",
    "Try out Fitting Rotation Curves \n",
    "[here](http://wittman.physics.ucdavis.edu/Animations/RotationCurve/GalacticRotation.html)\n",
    "\n",
    "\n",
    "### b)\n",
    "\n",
    "In the Isothermal Sphere model, what is the mass enclosed within the solar radius (R$_o$) in units of $10^{10}$ M$_\\odot$? \n",
    "\n",
    "Recall that for the Isothermal sphere :\n",
    "$\\rho(r) = \\frac{V_{LSR}^2}{4\\pi G r^2}$\n",
    "\n",
    "Where $G$ = 4.4988e-6 kpc$^3$/Gyr$^2$/M$_\\odot$\n",
    "\n",
    "What about at 260 kpc (in units of 10$^{12}$ M$_\\odot$) ? "
   ]
  },
  {
   "cell_type": "code",
   "execution_count": 7,
   "metadata": {},
   "outputs": [
    {
     "data": {
      "text/latex": [
       "$4.4985022 \\times 10^{-6} \\; \\mathrm{\\frac{kpc^{3}}{M_{\\odot}\\,Gyr^{2}}}$"
      ],
      "text/plain": [
       "<Quantity 4.49850215e-06 kpc3 / (Gyr2 solMass)>"
      ]
     },
     "execution_count": 7,
     "metadata": {},
     "output_type": "execute_result"
    }
   ],
   "source": [
    "from astropy.constants import G\n",
    "G.to(u.kpc**3 / u.Gyr**2 / u.M_sun)"
   ]
  },
  {
   "cell_type": "markdown",
   "metadata": {},
   "source": [
    "We have a period $P$ and radius $R_0$ for the Sun's orbit and can take the mass distribution to be spherically symmetric, so equivalent to a point mass at the center. Then from Kepler III the mass enclosed within the orbit is\n",
    "\n",
    "$$ M(R_0) = \\frac{4 \\pi^2}{G} \\frac{R_0^3}{P^2} $$"
   ]
  },
  {
   "cell_type": "code",
   "execution_count": 8,
   "metadata": {
    "scrolled": true
   },
   "outputs": [
    {
     "data": {
      "text/latex": [
       "$1.0503803 \\times 10^{11} \\; \\mathrm{M_{\\odot}}$"
      ],
      "text/plain": [
       "<Quantity 1.05038026e+11 solMass>"
      ]
     },
     "execution_count": 8,
     "metadata": {},
     "output_type": "execute_result"
    }
   ],
   "source": [
    "M_R_0 = 4 * np.pi**2 / G * R_0[1]**3 / gravity_period**2\n",
    "M_R_0.to(u.M_sun)"
   ]
  },
  {
   "cell_type": "markdown",
   "metadata": {},
   "source": [
    "In the units asked for, $M(R_0) \\approx 10.5 \\times (10^{10} M_{\\odot})$\n",
    "\n",
    "In general, $M(R) = \\int_0^R 4 \\pi r^2 \\rho(r) dr$.\n",
    "\n",
    "For the isothermal sphere, $\\rho(r) \\propto r^{-2}$. Radius $r$ thus cancels from the term inside the integral and we have a linear relationship $M(r) \\propto r$.\n",
    "\n",
    "Using the result for the Sun's radius $R_0$ calculated above, the mass enclosed at arbitrary radius is \n",
    "\n",
    "$$ M(r) = \\frac{r}{R_0} M(R_0) $$\n",
    "\n",
    "At 260 kpc:"
   ]
  },
  {
   "cell_type": "code",
   "execution_count": 9,
   "metadata": {},
   "outputs": [
    {
     "data": {
      "text/latex": [
       "$3.3394334 \\times 10^{12} \\; \\mathrm{M_{\\odot}}$"
      ],
      "text/plain": [
       "<Quantity 3.33943344e+12 solMass>"
      ]
     },
     "execution_count": 9,
     "metadata": {},
     "output_type": "execute_result"
    }
   ],
   "source": [
    "M_260 = 260*u.kpc / R_0[1] * M_R_0\n",
    "M_260.to(u.M_sun)"
   ]
  },
  {
   "cell_type": "markdown",
   "metadata": {},
   "source": [
    "### c) \n",
    "\n",
    "The Leo I satellite is one of the fastest moving satellite galaxies we know. \n",
    "\n",
    "\n",
    "It is moving with 3D velocity of magnitude: Vtot = 196 km/s at a distance of 260 kpc (Sohn 2013 ApJ 768)\n",
    "\n",
    "If we assume that Leo I is moving at the escape speed:\n",
    "\n",
    "$v_{esc}^2 = 2|\\Phi| = 2 \\int G \\frac{\\rho(r)}{r}dV $ \n",
    "\n",
    "and assuming the Milky Way is well modeled by a Hernquist Sphere with a scale radius of $a$= 30 kpc, what is the minimum mass of the Milky Way (in units of $10^{12}$ M$_\\odot$) ?  \n",
    "\n",
    "How does this compare to estimates of the mass assuming the Isothermal Sphere model at 260 kpc (from your answer above)"
   ]
  },
  {
   "cell_type": "code",
   "execution_count": 10,
   "metadata": {},
   "outputs": [],
   "source": [
    "a = 30 * u.kpc\n",
    "R = 260 * u.kpc\n",
    "v_esc = 196 * u.km/u.s"
   ]
  },
  {
   "cell_type": "markdown",
   "metadata": {},
   "source": [
    "For the Herquist Sphere, the gravitational potential is \n",
    "$$ \\Phi(r) = \\frac{-G M}{(r+a)} $$\n",
    "and this has a simple relation to the escape velocity\n",
    "$$ v_{esc}^2 = 2 |\\Phi| = 2 \\frac{G M}{(r+a)} \\qquad \\Rightarrow \\qquad M = \\frac{v_{esc}^2 (r+a)}{2G} $$\n",
    "\n",
    "At the radius of Leo I:"
   ]
  },
  {
   "cell_type": "code",
   "execution_count": 11,
   "metadata": {},
   "outputs": [
    {
     "data": {
      "text/latex": [
       "$1.295147 \\times 10^{12} \\; \\mathrm{M_{\\odot}}$"
      ],
      "text/plain": [
       "<Quantity 1.29514698e+12 solMass>"
      ]
     },
     "execution_count": 11,
     "metadata": {},
     "output_type": "execute_result"
    }
   ],
   "source": [
    "M = v_esc**2*(R+a)/(2*G)\n",
    "M.to(u.M_sun)"
   ]
  },
  {
   "cell_type": "markdown",
   "metadata": {},
   "source": [
    "This is about a third of the Isothermal Sphere estimate."
   ]
  },
  {
   "cell_type": "code",
   "execution_count": null,
   "metadata": {},
   "outputs": [],
   "source": []
  }
 ],
 "metadata": {
  "kernelspec": {
   "display_name": "Python 3",
   "language": "python",
   "name": "python3"
  },
  "language_info": {
   "codemirror_mode": {
    "name": "ipython",
    "version": 3
   },
   "file_extension": ".py",
   "mimetype": "text/x-python",
   "name": "python",
   "nbconvert_exporter": "python",
   "pygments_lexer": "ipython3",
   "version": "3.6.7"
  },
  "toc": {
   "base_numbering": 1,
   "nav_menu": {},
   "number_sections": true,
   "sideBar": true,
   "skip_h1_title": true,
   "title_cell": "Table of Contents",
   "title_sidebar": "Contents",
   "toc_cell": false,
   "toc_position": {},
   "toc_section_display": true,
   "toc_window_display": true
  }
 },
 "nbformat": 4,
 "nbformat_minor": 2
}
