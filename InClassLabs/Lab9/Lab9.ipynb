{
 "cells": [
  {
   "cell_type": "markdown",
   "metadata": {},
   "source": [
    "# Lab 9: Super Massive Black Holes \n",
    "\n",
    "## Contents\n",
    "1. Astropy Constants\n",
    "2. Astropy Units\n",
    "3. Define Variables\n",
    "4. Event Horizon and Photon Radius\n",
    "5. Plotting with EHT data\n",
    "\n"
   ]
  },
  {
   "cell_type": "markdown",
   "metadata": {},
   "source": [
    "You might have seen the xkcd comic that compares the EHT image of the M87 black hole against distance scales relevant to our Solar System (see image below). In the caption of this image, the artist indicates that the Voyager satellite is just outside the Event Horizon of M87. \n",
    "\n",
    "The image also makes it appear as though the black inner part is the full extent of the Event Horizon.\n",
    "\n",
    "In this lecture we'll compute the relevant size scales to test these two points. \n",
    "\n",
    "\n",
    "[xkcd](https://m.xkcd.com/2135/)\n",
    "\n",
    "![](./m87xkcd.png)"
   ]
  },
  {
   "cell_type": "code",
   "execution_count": null,
   "metadata": {},
   "outputs": [],
   "source": [
    "import matplotlib.pyplot as plt\n",
    "%matplotlib inline\n",
    "\n",
    "import numpy as np\n",
    "import math"
   ]
  },
  {
   "cell_type": "markdown",
   "metadata": {},
   "source": [
    "# 1)  Astropy Constants \n",
    "\n",
    "`astropy` is a python package that has a number of useful tools for physicists and astronomers. \n",
    "[astropy](https://www.astropy.org/)\n",
    "\n",
    "In particular, it has a useful way to load `constants` and keep track of `units`.  \n",
    "[units](http://docs.astropy.org/en/stable/units/) \n",
    "\n",
    "[constants](http://docs.astropy.org/en/stable/constants/)\n",
    "\n",
    "Execute the below cell to load both `units` and `constants`. We will call them using aliases `u` and `const`."
   ]
  },
  {
   "cell_type": "code",
   "execution_count": null,
   "metadata": {},
   "outputs": [],
   "source": [
    "from astropy import units as u\n",
    "from astropy import constants as const"
   ]
  },
  {
   "cell_type": "markdown",
   "metadata": {},
   "source": [
    "### Exercise 1\n",
    "\n",
    "Astropy Constants stores a lot of useful physical constants including units: \n",
    "\n",
    "`c` = speed of light\n",
    "\n",
    "`G` = gravitational constant\n",
    "\n",
    "`M_sun` = mass of the Sun.\n",
    "\n",
    "Each constant is called using the following syntax:\n",
    "\n",
    "`const.name` \n",
    "\n",
    "where `name` is the name of the constant, as listed above. and `const` is the alias for the astropy constants package we imported."
   ]
  },
  {
   "cell_type": "markdown",
   "metadata": {},
   "source": [
    "#### a) Use the `print` function to print  `const.name` for each above listed constant"
   ]
  },
  {
   "cell_type": "code",
   "execution_count": null,
   "metadata": {},
   "outputs": [],
   "source": []
  },
  {
   "cell_type": "code",
   "execution_count": null,
   "metadata": {},
   "outputs": [],
   "source": []
  },
  {
   "cell_type": "code",
   "execution_count": null,
   "metadata": {},
   "outputs": [],
   "source": []
  },
  {
   "cell_type": "markdown",
   "metadata": {},
   "source": [
    "#### b) For each constant, next type `const.name` without the print function into a new code cell. "
   ]
  },
  {
   "cell_type": "code",
   "execution_count": null,
   "metadata": {},
   "outputs": [],
   "source": []
  },
  {
   "cell_type": "code",
   "execution_count": null,
   "metadata": {},
   "outputs": [],
   "source": []
  },
  {
   "cell_type": "code",
   "execution_count": null,
   "metadata": {},
   "outputs": [],
   "source": []
  },
  {
   "cell_type": "markdown",
   "metadata": {},
   "source": [
    "#### c) Define a variable called BigSun.\n",
    "\n",
    "Give BigSun the value of 100 times the mass of the Sun.\n",
    "Print the value of BigSun to the screen."
   ]
  },
  {
   "cell_type": "code",
   "execution_count": null,
   "metadata": {},
   "outputs": [],
   "source": []
  },
  {
   "cell_type": "markdown",
   "metadata": {},
   "source": [
    "# 2)  Astropy Units :  the AU\n",
    "\n",
    "\n",
    "Astronomers define distance scales in the solar system in terms of the distance between the Earth and the Sun.\n",
    "\n",
    "This distance is called an Astronomical Unit, or AU. \n"
   ]
  },
  {
   "cell_type": "markdown",
   "metadata": {},
   "source": [
    "### Exercise 2\n",
    "\n",
    "#### a) Define a variable called `DistSun` with the value of 1 AU using astropy units.  \n",
    "\n",
    "The syntax is: \n",
    "\n",
    "`NUMBER*u.UNIT`  \n",
    "\n",
    "where `UNIT` is the name of the desired unit, `NUMBER` is the number of those units and `u` is the alias for the astropy units package we imported.\n",
    "\n",
    "Print `DistSun` to the screen.\n",
    "\n",
    "Then check the `type` of the variable `DistSun`\n"
   ]
  },
  {
   "cell_type": "code",
   "execution_count": null,
   "metadata": {},
   "outputs": [],
   "source": []
  },
  {
   "cell_type": "code",
   "execution_count": null,
   "metadata": {},
   "outputs": [],
   "source": []
  },
  {
   "cell_type": "markdown",
   "metadata": {},
   "source": [
    "#### b) Convert DistSun to km.\n",
    "\n",
    "The syntax to convert one astropy unit to another is:\n",
    "\n",
    "`VarName.to(u.UNIT)`  \n",
    "\n",
    "Where `VarName` is the variable name of what is to be converted and `UNIT` is the desired final unit. "
   ]
  },
  {
   "cell_type": "code",
   "execution_count": null,
   "metadata": {},
   "outputs": [],
   "source": []
  },
  {
   "cell_type": "markdown",
   "metadata": {},
   "source": [
    "#### c) Convert DistSun  to parsecs.  A parsec is the distance at which an object 1 AU in size would subtend an angle of one arcsecond."
   ]
  },
  {
   "cell_type": "code",
   "execution_count": null,
   "metadata": {},
   "outputs": [],
   "source": []
  },
  {
   "cell_type": "code",
   "execution_count": null,
   "metadata": {},
   "outputs": [],
   "source": []
  },
  {
   "cell_type": "code",
   "execution_count": null,
   "metadata": {},
   "outputs": [],
   "source": []
  },
  {
   "cell_type": "markdown",
   "metadata": {},
   "source": [
    "**d) Arcseconds**\n",
    "\n",
    "When we image objects on the sky, the angles they subtend are much smaller than 1 degree.\n",
    "\n",
    "So, astronomers divide 1 degree into 60, and call that unit an `arcminute` = 1/60th of a degree. \n",
    "\n",
    "Sometimes angles are even smaller, and we need to divide by 60 again, defining an `arcsecond` = 1/360th of a degree.\n",
    "\n",
    "The Moon subtends an angle of 0.5 degrees on the sky.  Convert that angle to `arcsecond`"
   ]
  },
  {
   "cell_type": "code",
   "execution_count": null,
   "metadata": {},
   "outputs": [],
   "source": []
  },
  {
   "cell_type": "code",
   "execution_count": null,
   "metadata": {},
   "outputs": [],
   "source": []
  },
  {
   "cell_type": "markdown",
   "metadata": {},
   "source": [
    "#### e) Define a new unit.\n",
    "\n",
    "`astropy`'s `units` module is smart enough to handle custom units.  Let's define a new micro-arcsecond unit and test if converting to this new unit works. We will call this unit `uas` and set it equal to one millionth of an arcsecond.  **We will need this later so make sure you do this part! **"
   ]
  },
  {
   "cell_type": "code",
   "execution_count": null,
   "metadata": {},
   "outputs": [],
   "source": []
  },
  {
   "cell_type": "markdown",
   "metadata": {},
   "source": [
    "# 3) Defining Some Variables\n",
    "\n",
    "Here we will define variables that will store relevant masses and distance scales. "
   ]
  },
  {
   "cell_type": "markdown",
   "metadata": {},
   "source": [
    "### Exercise 3\n",
    "\n",
    "Define variables that store the masses and distance of each object as instructed below. \n",
    "\n",
    "#### a)  Mass of and distance to M87's Black Hole : \n",
    "Call these variables M87_BH and DM87_BH\n",
    "\n",
    "M87_BH = $6.5 \\times 10^9$ M$_\\odot$ is the mass (Event Horizon Paper IV, 2019)\n",
    "\n",
    "Where M$_\\odot$ is `const.M_sun` and Mpc (megaparsec) is `1e6 * u.parsec`.\n",
    "\n",
    "\n",
    "and DM87_BH = $16.8$ Mpc is the distance. \n"
   ]
  },
  {
   "cell_type": "code",
   "execution_count": null,
   "metadata": {},
   "outputs": [],
   "source": []
  },
  {
   "cell_type": "code",
   "execution_count": null,
   "metadata": {},
   "outputs": [],
   "source": []
  },
  {
   "cell_type": "code",
   "execution_count": null,
   "metadata": {},
   "outputs": [],
   "source": []
  },
  {
   "cell_type": "code",
   "execution_count": null,
   "metadata": {},
   "outputs": [],
   "source": []
  },
  {
   "cell_type": "markdown",
   "metadata": {},
   "source": [
    "#### b) Mass of and distance to the Milky Way's Black Hole: \n",
    "\n",
    "Call these variables MW_BH and DMW_BH. \n",
    "\n",
    "MW_BH = $4.0 \\times 10^6$ M$_\\odot$ (Boehle, Ghez+2016)\n",
    "\n",
    "and DMW_BH = $7860$ pc \n"
   ]
  },
  {
   "cell_type": "code",
   "execution_count": null,
   "metadata": {},
   "outputs": [],
   "source": []
  },
  {
   "cell_type": "code",
   "execution_count": null,
   "metadata": {},
   "outputs": [],
   "source": []
  },
  {
   "cell_type": "code",
   "execution_count": null,
   "metadata": {},
   "outputs": [],
   "source": []
  },
  {
   "cell_type": "markdown",
   "metadata": {},
   "source": [
    "#### c) Distance to Pluto  39.5 AU.\n",
    "\n",
    "Call this variable DPluto and make sure to give it units of AU."
   ]
  },
  {
   "cell_type": "code",
   "execution_count": null,
   "metadata": {},
   "outputs": [],
   "source": [
    "    "
   ]
  },
  {
   "cell_type": "code",
   "execution_count": null,
   "metadata": {},
   "outputs": [],
   "source": []
  },
  {
   "cell_type": "markdown",
   "metadata": {},
   "source": [
    "#### d) Distance to Voyager: 141 AU\n",
    "Call this variable DVoyager. Again with units of AU"
   ]
  },
  {
   "cell_type": "code",
   "execution_count": null,
   "metadata": {},
   "outputs": [],
   "source": []
  },
  {
   "cell_type": "code",
   "execution_count": null,
   "metadata": {},
   "outputs": [],
   "source": []
  },
  {
   "cell_type": "markdown",
   "metadata": {},
   "source": [
    "# 4) The Event Horizon and the Photon Radius\n",
    "\n",
    "The Event Horizon is defined as the radius at which the escape speed is equal to the speed of light. \n",
    "\n",
    "The Photon Radius is the radius at which a photon orbits the central super massive black hole.  \n",
    "\n",
    "In the below we will define functions to return these radii in AU.\n"
   ]
  },
  {
   "cell_type": "markdown",
   "metadata": {},
   "source": [
    "### Exercise 4\n",
    "\n",
    "\n",
    "#### A)  Define a function called `EventHorizon` \n",
    "\n",
    "The function takes one argument, the mass of the black hole (MBH), assumed to be in units of solar mass.  \n",
    "\n",
    "It returns the Event Horizon in units of AU, where the Event Horizon is defined as the radius where the escape speed from the black hole is the speed of light. \n",
    "\n",
    "$ \\frac{1}{2}v^2 = \\frac{GM}{R}$\n",
    "\n",
    "Setting $v = c$ and solving for R:\n",
    "\n",
    "R = Event Horizon = $2 \\frac{G M_{BH}}{c^2}$\n",
    "\n",
    "\n",
    "Where c = `const.c` and G = `const.G`\n",
    "\n",
    "Convert the units to AU (`VarName.to(u.UNIT)`)"
   ]
  },
  {
   "cell_type": "code",
   "execution_count": null,
   "metadata": {},
   "outputs": [],
   "source": []
  },
  {
   "cell_type": "markdown",
   "metadata": {},
   "source": [
    "#### B) Test your function \n",
    "\n",
    "Create a variable called `EH_M87`.\n",
    "Set that variable equal to EventHorizon for the black hole in M87 and print it to the screen."
   ]
  },
  {
   "cell_type": "code",
   "execution_count": null,
   "metadata": {},
   "outputs": [],
   "source": []
  },
  {
   "cell_type": "code",
   "execution_count": null,
   "metadata": {},
   "outputs": [],
   "source": []
  },
  {
   "cell_type": "markdown",
   "metadata": {},
   "source": [
    "Create a variable called `EH_MW`. \n",
    "Set that variable equal to EventHorizon for the black hole in MW and print it to the screen.\n"
   ]
  },
  {
   "cell_type": "code",
   "execution_count": null,
   "metadata": {},
   "outputs": [],
   "source": []
  },
  {
   "cell_type": "markdown",
   "metadata": {},
   "source": [
    "#### c) How much larger is the Event Horizon of M87 vs. that of the MW?"
   ]
  },
  {
   "cell_type": "code",
   "execution_count": null,
   "metadata": {},
   "outputs": [],
   "source": []
  },
  {
   "cell_type": "code",
   "execution_count": null,
   "metadata": {},
   "outputs": [],
   "source": []
  },
  {
   "cell_type": "markdown",
   "metadata": {},
   "source": [
    "### Exercise 5\n",
    "\n",
    "#### a) Define a function called `PhotonRing `\n",
    "\n",
    "The function takes one argument, the mass of the black hole in solar mass (MBH).\n",
    "\n",
    "The function returns the gravitational lensed photon radius, or photon ring radius (Johannsen & Psaltis 2010), which is defined as:\n",
    "\n",
    "Lensed Photon Ring  $= \\sqrt{27}\\frac{G M_{BH}}{c^2} \\approx 2.6\\,\\times$ EventHorizon"
   ]
  },
  {
   "cell_type": "code",
   "execution_count": null,
   "metadata": {},
   "outputs": [],
   "source": []
  },
  {
   "cell_type": "markdown",
   "metadata": {},
   "source": [
    "#### b) Compute the Photon Radius for the M87_BH .  \n",
    "Store the value as a variable called PR_M87. \n",
    "\n",
    "Print the value of PR_M87 to the screen"
   ]
  },
  {
   "cell_type": "code",
   "execution_count": null,
   "metadata": {},
   "outputs": [],
   "source": []
  },
  {
   "cell_type": "markdown",
   "metadata": {},
   "source": [
    "#### b) Compute the Photon Radius for the MW_BH .  \n",
    "Store the value as a variable called PR_MW. \n",
    "\n",
    "Print the value of PR_MW to the screen"
   ]
  },
  {
   "cell_type": "code",
   "execution_count": null,
   "metadata": {},
   "outputs": [],
   "source": []
  },
  {
   "cell_type": "markdown",
   "metadata": {},
   "source": [
    "## 5) Plot these Radii on top of the EHT Image \n",
    "\n",
    "\n",
    "When plotting variables that have units assigned using Astropy, you need to return just the **value** of the variable. "
   ]
  },
  {
   "cell_type": "code",
   "execution_count": null,
   "metadata": {},
   "outputs": [],
   "source": []
  },
  {
   "cell_type": "code",
   "execution_count": null,
   "metadata": {},
   "outputs": [],
   "source": []
  },
  {
   "cell_type": "markdown",
   "metadata": {},
   "source": [
    "Use `astropy.io.fits` to load the M87 image taken on April 11, 2017, directly from the `eht-imaging` pipeline."
   ]
  },
  {
   "cell_type": "code",
   "execution_count": null,
   "metadata": {
    "scrolled": true
   },
   "outputs": [],
   "source": [
    "from astropy.io import fits\n",
    "\n",
    "hdulist = fits.open(\"SR1_M87_2017_101.fits\")\n",
    "hdulist.info() # Print HDUList info"
   ]
  },
  {
   "cell_type": "code",
   "execution_count": null,
   "metadata": {},
   "outputs": [],
   "source": [
    "ghdu = hdulist[0] # There is only one GroupHDU\n",
    "ghdu.header # Print the header"
   ]
  },
  {
   "cell_type": "markdown",
   "metadata": {},
   "source": [
    "We now need to create a dictionary for the size of each pixel of our image. "
   ]
  },
  {
   "cell_type": "code",
   "execution_count": null,
   "metadata": {},
   "outputs": [],
   "source": [
    "# absolute value, because can be negative (direction) \n",
    "# dictionary - changing to uas \n",
    "# size of pixel in uas \n",
    "dx  = (abs(ghdu.header['CDELT1']) * u.degree).to(uas) \n",
    "# we have square pixels so dx == dy"
   ]
  },
  {
   "cell_type": "markdown",
   "metadata": {},
   "source": [
    "Store the image data and set the size of the image. "
   ]
  },
  {
   "cell_type": "code",
   "execution_count": null,
   "metadata": {},
   "outputs": [],
   "source": [
    "# ghdu object has properties header and data \n",
    "img = ghdu.data\n",
    "\n",
    "# number pixels multiplied by size of pixels \n",
    "size = img.shape[0] * dx.value # in uas"
   ]
  },
  {
   "cell_type": "markdown",
   "metadata": {},
   "source": [
    "Now let's plot it! "
   ]
  },
  {
   "cell_type": "code",
   "execution_count": null,
   "metadata": {},
   "outputs": [],
   "source": [
    "\n",
    "fig, ax = plt.subplots(figsize=(8,8))\n",
    "ax.set_aspect(1)\n",
    "\n",
    "\n",
    "extent = np.array([-size/2,  size/2, -size/2, size/2])\n",
    "\n",
    "ax.imshow(img, origin='lower', cmap='afmhot', extent=extent)  \n",
    "# Dr. Chan created a modifed color map specifically EHT !  \n",
    "# But it requires installing a package - so we are just using the afmhot\n",
    "# package instead. \n",
    "\n",
    "ax.set_xlabel('Relative RA ($\\mu$as)', fontsize=20)\n",
    "ax.set_ylabel('Relative Dec ($\\mu$as)', fontsize=20)\n",
    "\n",
    "ax.plot([-50, 0], [-50, -50], color=\"white\", ls =\"-\", lw=2)\n",
    "ax.text(-25, -55, \"50$\\mu$as\", va=\"top\", ha=\"center\", color=\"w\", fontsize=18)"
   ]
  },
  {
   "cell_type": "markdown",
   "metadata": {},
   "source": [
    "There are some issues.  \n",
    "\n",
    "The image is very pixelated.\n",
    "We can fix this by setting the `interpolation` flag in `ax.imshow`\n",
    "\n",
    "\n",
    "Also the image isn't centered. We can fix this by changing the extents to include an offset in y, `yoffset`. In the real EHT script, this offset is solved for explicitly. But here we will assume a value. "
   ]
  },
  {
   "cell_type": "code",
   "execution_count": null,
   "metadata": {},
   "outputs": [],
   "source": [
    "\n",
    "fig, ax = plt.subplots(figsize=(8,8))\n",
    "ax.set_aspect(1)\n",
    "\n",
    "\n",
    "yoffset = 6  # adding an offset to recenter the image. \n",
    "extent = np.array([-size/2,      size/2,\n",
    "                   -size/2-yoffset, size/2-yoffset])\n",
    "\n",
    "ax.imshow(img, origin='lower', cmap='afmhot', extent=extent, interpolation='bilinear')  \n",
    "# added the interpolation flag and set it to a \"bilinear\" interpolation.\n",
    "\n",
    "ax.set_xlabel('Relative RA ($\\mu$as)', fontsize=20)\n",
    "ax.set_ylabel('Relative Dec ($\\mu$as)', fontsize=20)\n",
    "\n",
    "ax.plot([-50, 0], [-50, -50], color=\"white\", ls =\"-\", lw=2)\n",
    "ax.text(-25, -55, \"50$\\mu$as\", va=\"top\", ha=\"center\", color=\"w\", fontsize=18)"
   ]
  },
  {
   "cell_type": "markdown",
   "metadata": {},
   "source": [
    "Now we will converting the EHT image from micro-arcsecond to AU so that we can overplot the relevant scales we computed earlier. We are using the small angle formula to do this.\n",
    "\n",
    "Exent of Image in AU = $\\Theta [radians] \\times \\rm{Distance\\, to\\, M87}$"
   ]
  },
  {
   "cell_type": "code",
   "execution_count": null,
   "metadata": {},
   "outputs": [],
   "source": [
    "uas2AU = (uas.to(u.radian).value * DM87_BH).to(u.AU)\n",
    "extentAU = extent * uas2AU.value\n",
    "extentAU"
   ]
  },
  {
   "cell_type": "markdown",
   "metadata": {},
   "source": [
    "### Exercise 5\n",
    "\n",
    "**a) Overplot relevant radii on top of the images:**\n",
    "\n",
    "DPluto -- this already done for you.  Follow this syntax to add the remaining three\n",
    "\n",
    "Event Horizon\n",
    "\n",
    "DVoyager\n",
    "\n",
    "Lensed Photon Radius\n",
    "\n",
    "**b) Is Voyager outside the Event Horizon? Is the Event Horizon the same size as the black shadow?** \n",
    "\n",
    "**c) What would happen to the Photon Radius if you chose a different mass for M87_BH?**"
   ]
  },
  {
   "cell_type": "code",
   "execution_count": null,
   "metadata": {},
   "outputs": [],
   "source": [
    "# Create a figure. Equal aspect so circles look circular\n",
    "fig, ax = plt.subplots(figsize=(10,10))\n",
    "ax.set_aspect(1)\n",
    "\n",
    "# Show the image\n",
    "ax.imshow(img, origin='lower', cmap='afmhot', extent=extentAU, interpolation='bilinear')\n",
    "\n",
    "\n",
    "# Orbit of Pluto - edge of solar system\n",
    "circ_Pluto = plt.Circle( [0,0], DPluto.value, fill=False, color='m', linewidth=3,label='Pluto')\n",
    "# add the circle to the image\n",
    "ax.add_patch(circ_Pluto)\n",
    "\n",
    "\n",
    "# Event Horizon\n",
    "## FILL THIS IN USING ABOVE TWO LINES. (replace \"Pluto\", \"DPluto\" with appropriate names)\n",
    "\n",
    "\n",
    "# Radius at Voyager's current location\n",
    "## FILL THIS IN \n",
    "\n",
    "\n",
    "# Lensed Photon Radius\n",
    "## FILL THIS IN \n",
    "\n",
    "\n",
    "\n",
    "# Set the x and y axis labels\n",
    "ax.set_xlabel('AU',fontsize=20)\n",
    "ax.set_ylabel('AU',fontsize=20)\n",
    "\n",
    "# set the x and y axis limits\n",
    "ax.set_xlim(-650,650)\n",
    "ax.set_ylim(-650,650)\n",
    "\n",
    "\n",
    "# provide a scale\n",
    "ax.plot([-500, -400], [-500, -500], color=\"white\", ls =\"-\", lw=2)\n",
    "ax.text(-450, -550, \"100 AU\", va=\"top\", ha=\"center\", color=\"w\", fontsize=18)\n",
    "\n",
    "# show the legend\n",
    "plt.legend(loc='upper right')\n",
    "\n",
    "# Show the image\n",
    "plt.show()"
   ]
  },
  {
   "cell_type": "code",
   "execution_count": null,
   "metadata": {},
   "outputs": [],
   "source": []
  }
 ],
 "metadata": {
  "kernelspec": {
   "display_name": "Python 3",
   "language": "python",
   "name": "python3"
  },
  "language_info": {
   "codemirror_mode": {
    "name": "ipython",
    "version": 3
   },
   "file_extension": ".py",
   "mimetype": "text/x-python",
   "name": "python",
   "nbconvert_exporter": "python",
   "pygments_lexer": "ipython3",
   "version": "3.7.6"
  }
 },
 "nbformat": 4,
 "nbformat_minor": 2
}
