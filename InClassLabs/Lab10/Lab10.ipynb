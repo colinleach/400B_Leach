{
 "cells": [
  {
   "cell_type": "markdown",
   "metadata": {},
   "source": [
    "# In Class Lab 10\n",
    "\n",
    "Tutorial to make some interesting plots with widgets and the simulaton data ! \n",
    "\n",
    "\n",
    "Graphical widgets -- helpful functions to make a \"graphical user interface\", or GUI.\n",
    "\n",
    "These widgets need to be able to take input from the mouse and keyboard while the program is running. The most common way this is achieved is to have the code run in an infinite loop which is interrupted whenever input is provided. Some action is taken according to the input, and then the loop starts running again. This sort of algorithm is known as an *event loop* -- the code loops until a user event occurs.\n",
    "\n",
    "`matplotlib` provides a number of simple widgets which automatically create an event loop for us. One can create a widget instance, and then tell the widget what function to run when something happens to the widget. Such a function is called a *callback* -- the event loop calls back to the function we give it in order to take some action before starting up again."
   ]
  },
  {
   "cell_type": "code",
   "execution_count": 2,
   "metadata": {},
   "outputs": [],
   "source": [
    "%matplotlib qt   \n",
    "# enabling windows to pop up and be interactive\n",
    "\n",
    "import matplotlib.widgets as mw  # get access to the widgets\n",
    "\n",
    "# external modules\n",
    "import matplotlib\n",
    "import matplotlib.pyplot as plt\n",
    "import matplotlib.colors as colors\n",
    "from matplotlib.colors import LogNorm\n",
    "import numpy as np"
   ]
  },
  {
   "cell_type": "code",
   "execution_count": 11,
   "metadata": {},
   "outputs": [],
   "source": [
    "# my modules \n",
    "# from ReadFile import Read\n",
    "from galaxy.galaxy import Galaxy\n",
    "from galaxy.centerofmass import CenterOfMass\n",
    "from galaxy.massprofile import MassProfile\n",
    "from galaxy.timecourse import TimeCourse\n",
    "\n",
    "# I took the code from Lab 7 for making contours and made it into a separate script\n",
    "# NOTE: it is more organized to keep functions in separate scripts \n",
    "# and then call them when you want to e.g. make plots or do some analysis. \n",
    "from contour import density_contour"
   ]
  },
  {
   "cell_type": "markdown",
   "metadata": {},
   "source": [
    "# Part A. Load in Data and make some simple plots\n",
    "\n",
    "To do this lab you will need to sftp into nimoy to get the highres data files for this lab:\n",
    "MW_000.txt and MW_400.txt\n",
    "If you don't have enough space on your computer you can use the low res files. \n"
   ]
  },
  {
   "cell_type": "code",
   "execution_count": 10,
   "metadata": {},
   "outputs": [],
   "source": [
    "# Load in disk particles centered on the MW\n",
    "tc = TimeCourse()\n",
    "com_xyz, com_vxyz = tc.get_one_com('MW', 0)"
   ]
  },
  {
   "cell_type": "code",
   "execution_count": 13,
   "metadata": {},
   "outputs": [],
   "source": [
    "MW_disk = Galaxy('MW', 0, usesql=True, ptype=2)\n",
    "MW_disk_xyz = np.array([MW_disk.data[xi] for xi in ('x','y','z')]) - com_xyz[:,np.newaxis]\n",
    "MW_disk_vxyz = np.array([MW_disk.data[vxi] for vxi in ('vx','vy','vz')]) - com_vxyz[:,np.newaxis]"
   ]
  },
  {
   "cell_type": "code",
   "execution_count": 31,
   "metadata": {},
   "outputs": [],
   "source": [
    "MW_Disk_x, MW_Disk_y, MW_Disk_z = MW_disk_xyz\n",
    "MW_Disk_vx, MW_Disk_vy, MW_Disk_vz = MW_disk_vxyz"
   ]
  },
  {
   "cell_type": "code",
   "execution_count": 16,
   "metadata": {},
   "outputs": [],
   "source": [
    "# Plot the disk of the MW with contours. \n",
    "\n",
    "\n",
    "# MW Disk Density \n",
    "fig, ax= plt.subplots(figsize=(10, 10))\n",
    "\n",
    "## ADD HERE\n",
    "# plot the particle density for MW using plt.hist2d \n",
    "# can modify bin number (e.g. bin =100 for low res files)\n",
    "plt.hist2d(MW_disk_x, MW_disk_y, bins=200, norm=LogNorm(), cmap='magma')\n",
    "\n",
    "# note: MW_Disk.x and MW_Disk.y won't be exactly at 0,0 because i was lazy and didn't take out the \n",
    "# center of mass pos\n",
    "\n",
    "#### ADD HERE \n",
    "# call density_contour to add contours\n",
    "# density_contour(x pos, y pos, contour res, contour res, axis, colors=[colors,colors])\n",
    "\n",
    "\n",
    "\n",
    "\n",
    "# Add axis labels\n",
    "plt.xlabel('x (kpc)', fontsize=22)\n",
    "plt.ylabel('y (kpc)', fontsize=22)\n",
    "\n",
    "#set axis limits\n",
    "plt.ylim(-30,30)\n",
    "plt.xlim(-30,30)\n",
    "\n",
    "#adjust tick label font size\n",
    "label_size = 22\n",
    "matplotlib.rcParams['xtick.labelsize'] = label_size \n",
    "matplotlib.rcParams['ytick.labelsize'] = label_size\n"
   ]
  },
  {
   "cell_type": "markdown",
   "metadata": {},
   "source": [
    "# Part B  Zooming in on a plot with widgets\n",
    "\n",
    "We can catch characters typed on the keyboard -- *keypress events* -- by connecting a \"key_press_event\" to a callback function which takes an event as an argument.\n",
    "The event object contains a variety of data. The most useful being:\n",
    "\n",
    "    event.key       # the key which was pressed\n",
    "    event.xdata     # the mouse x-position when the key was pressed\n",
    "    event.ydata     # the mouse y-position when the key was pressed\n",
    "    \n",
    "Another useful widget allows the user to select a rectangular region in some axes object, and then calls a callback function with the bounding coordinates (the extent) of the region selected. This is the RectangleSelector widget.\n",
    "\n",
    "Note that click and release are not really that! Click contains the more-negative values and release the more positive values of both x and y coordinates."
   ]
  },
  {
   "cell_type": "code",
   "execution_count": 24,
   "metadata": {},
   "outputs": [],
   "source": [
    "def callbackRectangle( click, release ): # the events are click and release\n",
    "    print( f\"button {click.button} pressed\" )\n",
    "    print( f\"button {release.button} released\" )\n",
    "    extent = [ click.xdata, release.xdata, click.ydata, release.ydata ]\n",
    "    print( f\"box extent is {extent}\") \n",
    "    \n",
    "    # ADD - in order to zoom in reset the axes to the clicked box size\n",
    "    ax.set_xlim(click.xdata, release.xdata)\n",
    "    ax.set_ylim(click.ydata, release.ydata)\n",
    "\n",
    "    # Save the file"
   ]
  },
  {
   "cell_type": "code",
   "execution_count": 27,
   "metadata": {},
   "outputs": [],
   "source": [
    "# add the ability to reset the image using an \"on key press\" function \n",
    "def onKeyPressed(event):\n",
    "    \n",
    "    if event.key in ['R', 'r']:\n",
    "        ax.set_xlim(-30,30)\n",
    "        ax.set_ylim(-30,30)"
   ]
  },
  {
   "cell_type": "code",
   "execution_count": 28,
   "metadata": {},
   "outputs": [
    {
     "data": {
      "text/plain": [
       "13"
      ]
     },
     "execution_count": 28,
     "metadata": {},
     "output_type": "execute_result"
    },
    {
     "name": "stdout",
     "output_type": "stream",
     "text": [
      "button 1 pressed\n",
      "button 1 released\n",
      "box extent is [-2.70967741935484, 12.87096774193548, -13.79220779220779, -5.6103896103896105]\n",
      "button 1 pressed\n",
      "button 1 released\n",
      "box extent is [4.548387096774185, 17.516129032258057, -12.077922077922075, -8.88311688311688]\n"
     ]
    }
   ],
   "source": [
    "# plot the particle density for the MW Disk and then zoom in on a region of the disk \n",
    "\n",
    "fig, ax = plt.subplots(figsize =(10 ,10))                             \n",
    "\n",
    "# 2d histogram \n",
    "plt.hist2d(MW_Disk_x,MW_Disk_y, bins=300, norm=LogNorm(), cmap='magma')\n",
    "plt.colorbar(label='Number  of  stars  per  bin')\n",
    "\n",
    "# over plot contours\n",
    "density_contour(MW_Disk_x, MW_Disk_y, 80, 80, ax=ax, \\\n",
    "                colors=['white'])\n",
    "   \n",
    "    \n",
    "## NEW: Rectangle Selector.     \n",
    "rs = mw.RectangleSelector( ax,                        # the axes to attach to\n",
    "                           callbackRectangle,         # the callback function\n",
    "                           drawtype='box',            # draw a box when selecting a region\n",
    "                           button=[1, 3],             # allow us to use left or right mouse button\n",
    "                                                      #button 1 is left mouse button\n",
    "                           minspanx=5, minspany=5,    # don't accept a box of fewer than 5 pixels\n",
    "                           spancoords='pixels' )      # units for above\n",
    "\n",
    "\n",
    "#set axis limits\n",
    "ax.set_ylim(-30,30)\n",
    "ax.set_xlim(-30,30)\n",
    "\n",
    "\n",
    "# Add axis labels\n",
    "plt.xlabel('x (kpc)', fontsize=22)\n",
    "plt.ylabel('y (kpc)', fontsize=22)\n",
    "\n",
    "# ADDED THIS\n",
    "# to detect the 'R' key press to reset the image\n",
    "plt.connect(\"key_press_event\", onKeyPressed)\n"
   ]
  },
  {
   "cell_type": "markdown",
   "metadata": {},
   "source": [
    "# Part C    Connecting Morphology to Kinematics\n",
    "\n",
    "\n",
    "Make a two panel plot.\n",
    "Left Panel:  Density \n",
    "Right Panel: Phase Diagram \n",
    "\n",
    "Relect a section of the density plot and see where the particles are on the phase diagram"
   ]
  },
  {
   "cell_type": "code",
   "execution_count": null,
   "metadata": {},
   "outputs": [],
   "source": [
    "# Let's store the circular velocity of the MW like we did in Lab 7\n",
    "\n",
    "# ADD MassProfile Object.\n"
   ]
  },
  {
   "cell_type": "code",
   "execution_count": null,
   "metadata": {},
   "outputs": [],
   "source": [
    "# Add an array for radii up to 40 kpc\n",
    "\n",
    "\n",
    "# Store Vcirc \n",
    "\n"
   ]
  },
  {
   "cell_type": "code",
   "execution_count": null,
   "metadata": {},
   "outputs": [],
   "source": [
    "# Step 1) Copy over the call back function and the onkeypressed function\n",
    "\n",
    "# Step 3) Let figure out how to select a region in the density and plot it also in the right panel\n",
    "# We also don't want to zoom in on the left panel, instead let's just mark the region we examined. \n",
    "\n",
    "\n"
   ]
  },
  {
   "cell_type": "code",
   "execution_count": 64,
   "metadata": {},
   "outputs": [],
   "source": [
    "def callbackRectangle( click, release ): # the events are click and release\n",
    "    extent = [ click.xdata, release.xdata, click.ydata, release.ydata ]\n",
    "    print( f\"box extent is {extent}\") \n",
    "    \n",
    "    # ADD - in order to zoom in reset the axes to the clicked box size\n",
    "#     ax.set_xlim(click.xdata, release.xdata)\n",
    "#     ax.set_ylim(click.ydata, release.ydata)\n",
    "\n",
    "    # create a rectangle\n",
    "    width = np.abs(release.xdata - click.xdata)\n",
    "    height = np.abs(release.ydata - click.ydata)\n",
    "    \n",
    "    rect = plt.Rectangle( (click.xdata, click.ydata), width, height,\n",
    "                            fill=False, color='yellow', lw=3)\n",
    "    ax[0].add_patch(rect)\n",
    "    \n",
    "    xmin = min([click.xdata, release.xdata])\n",
    "    xmax = max([click.xdata, release.xdata])\n",
    "    ymin = min([click.ydata, release.ydata])\n",
    "    ymax = max([click.ydata, release.ydata])\n",
    "    \n",
    "    index = np.where( (MW_Disk_x > xmin) & (MW_Disk_x < xmax) &\n",
    "                     (MW_Disk_y > ymin) & (MW_Disk_y < ymax) )\n",
    "    \n",
    "    ref = ax[1].scatter(MW_Disk_x[index], MW_Disk_vy[index], s=1)\n",
    "    print(ref)\n",
    "\n",
    "    # Save the file\n",
    "    "
   ]
  },
  {
   "cell_type": "code",
   "execution_count": 65,
   "metadata": {},
   "outputs": [],
   "source": [
    "def onKeyPressed(event):\n",
    "    \n",
    "    if event.key in ['R', 'r']:\n",
    "        ax.set_xlim(-30,30)\n",
    "        ax.set_ylim(-30,30)"
   ]
  },
  {
   "cell_type": "code",
   "execution_count": 66,
   "metadata": {},
   "outputs": [
    {
     "data": {
      "text/plain": [
       "13"
      ]
     },
     "execution_count": 66,
     "metadata": {},
     "output_type": "execute_result"
    },
    {
     "name": "stdout",
     "output_type": "stream",
     "text": [
      "box extent is [-20.904774193548384, -14.977548387096768, 9.506493506493506, 14.103896103896105]\n",
      "<matplotlib.collections.PathCollection object at 0x7f242f0a57f0>\n"
     ]
    }
   ],
   "source": [
    "# Step 2) \n",
    "# Add not just the density but also the phase diagram as a separate panel.\n",
    "# Copy over the plotting code (2D histogram) and modify the figure so that there are now two panels.\n",
    "\n",
    "# Add a phase diagram: X vs VY\n",
    "\n",
    "fig, ax = plt.subplots(nrows=1, ncols=2, figsize =(25, 10))                             \n",
    "\n",
    "# 2d histogram \n",
    "ax[0].hist2d(MW_Disk_x, MW_Disk_y, bins=300, norm=LogNorm(), cmap='magma')\n",
    "# plt.colorbar(label='Number  of  stars  per  bin')\n",
    "\n",
    "# over plot contours\n",
    "density_contour(MW_Disk_x, MW_Disk_y, 80, 80, ax=ax[0], colors=['white'])\n",
    "\n",
    "#set axis limits\n",
    "ax[0].set_xlim(-30,30)\n",
    "ax[0].set_ylim(-30,30)\n",
    "\n",
    "# Add axis labels\n",
    "ax[0].set_xlabel('x (kpc)', fontsize=22)\n",
    "ax[0].set_ylabel('y (kpc)', fontsize=22)\n",
    "\n",
    "ax[1].hist2d(MW_Disk_x, MW_Disk_vy, bins=300, norm=LogNorm(), cmap='magma')\n",
    "\n",
    "#set axis limits\n",
    "ax[1].set_xlim(-30,30)\n",
    "\n",
    "# Add axis labels\n",
    "ax[1].set_xlabel('x (kpc)', fontsize=22)\n",
    "ax[1].set_ylabel('vy (km/s)', fontsize=22)\n",
    "\n",
    "\n",
    "## NEW: Rectangle Selector.     \n",
    "rs = mw.RectangleSelector( ax[0],                        # the axes to attach to\n",
    "                           callbackRectangle,         # the callback function\n",
    "                           drawtype='box',            # draw a box when selecting a region\n",
    "                           button=[1, 3],             # allow us to use left or right mouse button\n",
    "                                                      #button 1 is left mouse button\n",
    "                           minspanx=5, minspany=5,    # don't accept a box of fewer than 5 pixels\n",
    "                           spancoords='pixels' )      # units for above\n",
    "\n",
    "# ADDED THIS\n",
    "# to detect the 'R' key press to reset the image\n",
    "plt.connect(\"key_press_event\", onKeyPressed)\n",
    "\n"
   ]
  },
  {
   "cell_type": "code",
   "execution_count": 69,
   "metadata": {},
   "outputs": [
    {
     "data": {
      "text/plain": [
       "(-20.904774193548384,\n",
       " -14.977548387096768,\n",
       " 9.506493506493506,\n",
       " 14.103896103896105)"
      ]
     },
     "execution_count": 69,
     "metadata": {},
     "output_type": "execute_result"
    }
   ],
   "source": [
    "rs.extents"
   ]
  },
  {
   "cell_type": "markdown",
   "metadata": {},
   "source": [
    "# Part D:  Flip it around \n",
    "\n",
    "Now Pick based on kinematics and find out where they are in the disk.\n",
    "This would be a good way to find e.g. high velocity particles. or particles that are really not obeying the normal kinematics of the disk at the current time."
   ]
  },
  {
   "cell_type": "code",
   "execution_count": null,
   "metadata": {},
   "outputs": [],
   "source": [
    "# Copy over the Call back function and the onkeypressed function from Part C\n",
    "# flip the axes ax[0] < --- > ax[1]\n",
    "\n",
    "def callback_rectangle(click, release):\n",
    "    \"\"\"\n",
    "    \"\"\"\n",
    "    \n",
    "    # create a rectangle\n",
    "    width = np.abs(release.xdata - click.xdata)\n",
    "    height = np.abs(release.ydata - click.ydata)\n",
    "    \n",
    "    rect = plt.Rectangle( (click.xdata, click.ydata), width, height,\n",
    "                            fill=False, color='yellow', lw=3)\n",
    "    ax0.add_patch(rect)\n",
    "    \n",
    "    index = np.where( ())\n",
    "    \n",
    "    ax0.scatter(MW_disk_xyz[0], )"
   ]
  },
  {
   "cell_type": "code",
   "execution_count": null,
   "metadata": {},
   "outputs": [],
   "source": [
    "# Copy over the Density and phase diagram code\n",
    "# flip the axes ax[0]<--> ax[1]\n",
    "\n",
    "\n"
   ]
  },
  {
   "cell_type": "markdown",
   "metadata": {},
   "source": [
    "# Part E : Connecting particles across snapshots\n"
   ]
  },
  {
   "cell_type": "code",
   "execution_count": null,
   "metadata": {},
   "outputs": [],
   "source": [
    "# Load in a different snapshot\n",
    "COM_2 = CenterOfMass(\"MW_400.txt\",2)"
   ]
  },
  {
   "cell_type": "code",
   "execution_count": null,
   "metadata": {},
   "outputs": [],
   "source": [
    "\n",
    "# Compute COM of the MW at the new position using disk particles\n",
    "COMP_2 = COM_2.COM_P(0.1, 2)\n",
    "# Determine positions of disk particles relative to COM \n",
    "MW_Disk_2_x = COM_2.x - COMP_2[0].value \n",
    "MW_Disk_2_y = COM_2.y - COMP_2[1].value \n"
   ]
  },
  {
   "cell_type": "code",
   "execution_count": null,
   "metadata": {},
   "outputs": [],
   "source": [
    "# Copy over the Call back function and the onkeypressed function from Part C\n",
    "\n"
   ]
  },
  {
   "cell_type": "code",
   "execution_count": null,
   "metadata": {},
   "outputs": [],
   "source": [
    "# Copy over the plotting script from Part C\n",
    "# Instead of the phase plot, have the second panel be the MW at a different snapshot\n",
    "\n"
   ]
  },
  {
   "cell_type": "code",
   "execution_count": 49,
   "metadata": {},
   "outputs": [],
   "source": [
    "?plt.scatter"
   ]
  },
  {
   "cell_type": "code",
   "execution_count": null,
   "metadata": {},
   "outputs": [],
   "source": []
  }
 ],
 "metadata": {
  "kernelspec": {
   "display_name": "Python 3",
   "language": "python",
   "name": "python3"
  },
  "language_info": {
   "codemirror_mode": {
    "name": "ipython",
    "version": 3
   },
   "file_extension": ".py",
   "mimetype": "text/x-python",
   "name": "python",
   "nbconvert_exporter": "python",
   "pygments_lexer": "ipython3",
   "version": "3.6.7"
  },
  "toc": {
   "base_numbering": 1,
   "nav_menu": {},
   "number_sections": true,
   "sideBar": true,
   "skip_h1_title": false,
   "title_cell": "Table of Contents",
   "title_sidebar": "Contents",
   "toc_cell": false,
   "toc_position": {},
   "toc_section_display": true,
   "toc_window_display": false
  }
 },
 "nbformat": 4,
 "nbformat_minor": 2
}
