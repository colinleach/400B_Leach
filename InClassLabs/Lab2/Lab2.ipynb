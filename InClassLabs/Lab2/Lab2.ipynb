{
 "cells": [
  {
   "cell_type": "code",
   "execution_count": null,
   "metadata": {},
   "outputs": [],
   "source": [
    "# ASTR 400 B \n",
    "# In Class Lab 2\n",
    "\n",
    "import numpy as np\n",
    "import matplotlib\n",
    "import matplotlib.pyplot as plt\n",
    "%matplotlib inline\n",
    "from scipy.integrate import quad # For integration\n",
    "# Documentation and examples for quad : \n",
    "# https://docs.scipy.org/doc/scipy/reference/generated/scipy.integrate.quad.html\n",
    "# https://www.tutorialspoint.com/scipy/scipy_integrate.htm"
   ]
  },
  {
   "cell_type": "markdown",
   "metadata": {
    "collapsed": true
   },
   "source": [
    "## Part A:  Schechter Fxn\n",
    "\n",
    "The galaxy luminosity function in the nearby universe is well described by a Schechter Function:\n",
    "\n",
    "\\begin{equation}\n",
    "\\Phi(M)dM = ( 0.4 \\, ln10 ) \\, \\phi_\\ast \\, 10^{0.4(M_\\ast - M)(\\alpha +1)} e^{-10^{0.4(M_\\ast - M)}} dM\n",
    "\\end{equation}\n",
    "\n",
    "With the following parameters from Smith+2009 for Field Galaxies in SDSS at z$\\sim$0.1 in the Kband:\n",
    "\n",
    "\n",
    " $\\phi_\\ast$ =1.66 $  \\times 10^{-2}$  $h^3$ Mpc$^{-3}$\n",
    "\n",
    " $\\alpha$ =  -0.81 \n",
    "\n",
    "\n",
    "  M$_\\ast$ =  M$_k^\\ast$= -23.19  - 5*log($h$)\n",
    "  \n",
    " $h$ = the Hubble constant in units of 100 km/s/Mpc . At z=0 this is 0.7. But we are going to ignore it here. Units will then be in \"comoving\" coordinates.\n",
    "  \n",
    "  This function is defined for you below:"
   ]
  },
  {
   "cell_type": "code",
   "execution_count": null,
   "metadata": {},
   "outputs": [],
   "source": [
    "# Function for the Schechter Luminosity function (in terms of Magnitude)\n",
    "def Schechter(M,phistar=0.0166,Mstar=-23.19,alpha=-0.81):\n",
    "# Takes as input:  an array of Absolute Magnitudes M \n",
    "# phistar, number density of galaxies (normalization)\n",
    "#              0.0166*h^3 Mpc^-3  defaults from Smith+2009 in Kband\n",
    "# Mstar (Knee of the Schechter Fxn):\n",
    "#           -23.19 - 5*log(h) defaults from Smith+2009 in Kband\n",
    "# alpha (Slope of the Fxn) \n",
    "#             -0.81 defaults from Smith+2009 in Kband\n",
    "# Returns: number density of galaxies (comoving units) at that magnitude M.\n",
    "    return 0.4*np.log(10)*nstar*10**(0.4*(Mstar - M)*(alpha +1.0))*np.exp(-10**(0.4*(Mstar - M)))"
   ]
  },
  {
   "cell_type": "markdown",
   "metadata": {},
   "source": [
    "# Q1 \n",
    "\n",
    "Utilizing the defined function, plot the Schechter Function using the above parameter values over a magnitude range of -17 to -26. \n",
    "Try to reproduce the black solid line in Smith+2009 MNRAS 397,868 [UKIDSS Survey] Figure below.\n",
    "\n",
    "\n",
    "![Smith](./Smith09.png)"
   ]
  },
  {
   "cell_type": "markdown",
   "metadata": {},
   "source": [
    "# Q2 \n",
    "\n",
    "Galaxies in the Virgo Cluster have different parameters, like $\\alpha$=-1.35  (Ferrarese+2016 ApJ 824).\n",
    "\n",
    "Overplot the Schechter Function with this new value of $\\alpha$.  \n",
    "\n",
    "Try a smaller value of $\\alpha = -0.6$.\n",
    "\n",
    "How does the function change?  What does this mean? \n"
   ]
  },
  {
   "cell_type": "code",
   "execution_count": null,
   "metadata": {},
   "outputs": [],
   "source": [
    "# Create an array to store Kband Magnitudes from -26 to -17\n"
   ]
  },
  {
   "cell_type": "code",
   "execution_count": null,
   "metadata": {},
   "outputs": [],
   "source": [
    "# Plot the Schechter Function\n",
    "\n",
    "fig = plt.figure(figsize=(10,10))  # sets the scale of the figure\n",
    "ax = plt.subplot(111) \n",
    "\n",
    "# Plot the default values (y axis log)\n",
    "# ADD HERE\n",
    "\n",
    "# Q2 solutions: change alpha\n",
    "# ADD HERE\n",
    "\n",
    "\n",
    "# Add labels\n",
    "plt.xlabel(r'M$_k$ + 5Log($h$)', fontsize=22)\n",
    "plt.ylabel(r'$\\Phi$ (Mpc$^{-3}h^3$/mag)', fontsize=22)\n",
    "\n",
    "#set axis limits\n",
    "plt.xlim(-17,-26)\n",
    "\n",
    "#adjust tick label font size\n",
    "label_size = 22\n",
    "matplotlib.rcParams['xtick.labelsize'] = label_size \n",
    "matplotlib.rcParams['ytick.labelsize'] = label_size\n",
    "\n",
    "# add a legend with some customizations.\n",
    "legend = ax.legend(loc='upper right',fontsize='x-large')\n",
    "\n",
    "# Save to a file\n",
    "ax.set_rasterized(True)\n",
    "plt.savefig('Schechter.eps', rasterized=True, dpi=350)\n",
    "\n"
   ]
  },
  {
   "cell_type": "code",
   "execution_count": null,
   "metadata": {},
   "outputs": [],
   "source": []
  },
  {
   "cell_type": "markdown",
   "metadata": {},
   "source": [
    "## Part B: IMF \n",
    "\n",
    "Create a function called {\\it Salpeter} that defines the Salpeter IMF: \n",
    "\n",
    "\\begin{equation}\n",
    "\\xi(M) = \\xi_0 (M/M_\\odot)^{-\\alpha}\n",
    "\\end{equation}\n",
    "\n",
    "$\\alpha = 2.35$\n",
    "The function should take as input an array of stellar masses, M. \n",
    "You will need to determine the normalization, $\\xi_0$, by integrating this equation over mass from 0.1 to 120 M$_\\odot$\n",
    "and setting the value to 1.  The function should then return $\\xi(M)$, which will now represent the fractional number of stars. \n",
    "\n",
    "Integration: quad(lambda x:  fxn(x),xmin,xmax)\n",
    "\n",
    "quad returns an array with 2 values. you want the first value. \n",
    "Note I've used a \"lambda\" expression.   Python's lambda expressions allow a function to be created and passed around all in one line of code"
   ]
  },
  {
   "cell_type": "code",
   "execution_count": null,
   "metadata": {},
   "outputs": [],
   "source": []
  },
  {
   "cell_type": "markdown",
   "metadata": {},
   "source": [
    "## Q1: \n",
    "Integrate your normalized function to compute the fraction of stars with stellar masses greater than the sun and less \n",
    "than 120 M$_\\odot$.\n",
    "\n",
    "Double Check: if you integrate your function from 0.1 to 120 you should return 1.0 \n"
   ]
  },
  {
   "cell_type": "code",
   "execution_count": null,
   "metadata": {},
   "outputs": [],
   "source": []
  },
  {
   "cell_type": "markdown",
   "metadata": {},
   "source": [
    "## Q2:\n",
    "\n",
    "How might you modify the above to return the fraction of MASS ? instead of numbers of stars."
   ]
  },
  {
   "cell_type": "code",
   "execution_count": null,
   "metadata": {},
   "outputs": [],
   "source": []
  },
  {
   "cell_type": "code",
   "execution_count": null,
   "metadata": {},
   "outputs": [],
   "source": []
  }
 ],
 "metadata": {
  "kernelspec": {
   "display_name": "Python 3",
   "language": "python",
   "name": "python3"
  },
  "language_info": {
   "codemirror_mode": {
    "name": "ipython",
    "version": 3
   },
   "file_extension": ".py",
   "mimetype": "text/x-python",
   "name": "python",
   "nbconvert_exporter": "python",
   "pygments_lexer": "ipython3",
   "version": "3.7.6"
  },
  "toc": {
   "base_numbering": 1,
   "nav_menu": {},
   "number_sections": true,
   "sideBar": true,
   "skip_h1_title": false,
   "title_cell": "Table of Contents",
   "title_sidebar": "Contents",
   "toc_cell": false,
   "toc_position": {},
   "toc_section_display": true,
   "toc_window_display": false
  }
 },
 "nbformat": 4,
 "nbformat_minor": 2
}
