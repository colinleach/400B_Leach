{
 "cells": [
  {
   "cell_type": "markdown",
   "metadata": {},
   "source": [
    "# Lab 8 : Star Formation "
   ]
  },
  {
   "cell_type": "code",
   "execution_count": null,
   "metadata": {},
   "outputs": [],
   "source": [
    "import numpy as np\n",
    "from astropy import units as u\n",
    "from astropy import constants as const\n",
    "\n",
    "import matplotlib\n",
    "import matplotlib.pyplot as plt\n",
    "from matplotlib.colors import LogNorm\n",
    "%matplotlib inline"
   ]
  },
  {
   "cell_type": "markdown",
   "metadata": {},
   "source": [
    "# Part A\n",
    "\n",
    "Create a function that returns the SFR for a given luminosity (NUV, FUV, TIR, Halpha)\n",
    "\n",
    "$Log( {\\rm SFR} (M_\\odot/year)) = Log(Lx (erg/s)) - Log(Cx)$ \n",
    "\n",
    "Including corrections for dust absorption \n",
    "\n",
    "Kennicutt & Evans 2012 ARA&A Equation 12 and Table 1, 2"
   ]
  },
  {
   "cell_type": "code",
   "execution_count": null,
   "metadata": {},
   "outputs": [],
   "source": []
  },
  {
   "cell_type": "markdown",
   "metadata": {},
   "source": [
    "Let's try to reproduce SFRs derived for galaxies from UV luminosities measured with Galex. \n",
    "\n",
    "Using Table 1 from Lee et al. 2009\n",
    "https://ui.adsabs.harvard.edu/abs/2009ApJ...706..599L/abstract\n",
    "\n",
    "We will use galaxy properties from NED:\n",
    "https://ned.ipac.caltech.edu/"
   ]
  },
  {
   "cell_type": "code",
   "execution_count": null,
   "metadata": {},
   "outputs": [],
   "source": []
  },
  {
   "cell_type": "code",
   "execution_count": null,
   "metadata": {},
   "outputs": [],
   "source": [
    "#  WLM Dwarf Irregular Galaxy\n"
   ]
  },
  {
   "cell_type": "code",
   "execution_count": null,
   "metadata": {},
   "outputs": [],
   "source": [
    "#  N24 Sc galaxy\n"
   ]
  },
  {
   "cell_type": "markdown",
   "metadata": {},
   "source": [
    "# Part B Star formation main sequence\n",
    "\n",
    "Write a function that returns the average SFR of a galaxy at a given redshift. \n",
    "\n",
    "What is the average SFR of a MW mass galaxy today? at z=1?\n",
    "\n",
    "Plot the SFR main sequence for a few different redshifts.\n",
    "\n",
    "\n",
    "From Whitaker 2012:\n",
    "\n",
    "log(SFR) = $\\alpha(z)({\\rm log}M_\\ast - 10.5) + \\beta(z)$\n",
    "\n",
    "$\\alpha(z) = 0.7 - 0.13z$\n",
    "\n",
    "$\\beta(z) = 0.38 + 1.14z - 0.19z^2$"
   ]
  },
  {
   "cell_type": "code",
   "execution_count": null,
   "metadata": {},
   "outputs": [],
   "source": []
  },
  {
   "cell_type": "code",
   "execution_count": null,
   "metadata": {},
   "outputs": [],
   "source": [
    "# MW at z=0"
   ]
  },
  {
   "cell_type": "code",
   "execution_count": null,
   "metadata": {},
   "outputs": [],
   "source": [
    "# MW at z = 1\n"
   ]
  },
  {
   "cell_type": "code",
   "execution_count": null,
   "metadata": {},
   "outputs": [],
   "source": [
    "# create an array of stellar masses\n"
   ]
  },
  {
   "cell_type": "code",
   "execution_count": null,
   "metadata": {},
   "outputs": [],
   "source": [
    "\n",
    "fig = plt.figure(figsize=(8,8), dpi=500)\n",
    "ax = plt.subplot(111)\n",
    "\n",
    "# add log log plots\n",
    "\n",
    "\n",
    "# Add axis labels\n",
    "plt.xlabel('Log (Mstar (M$_\\odot$))', fontsize=12)\n",
    "plt.ylabel('Log(SFR (M$_\\odot$/year))', fontsize=12)\n",
    "\n",
    "\n",
    "#adjust tick label font size\n",
    "label_size = 12\n",
    "matplotlib.rcParams['xtick.labelsize'] = label_size \n",
    "matplotlib.rcParams['ytick.labelsize'] = label_size\n",
    "\n",
    "# add a legend with some customizations.\n",
    "legend = ax.legend(loc='upper left',fontsize='x-large')\n"
   ]
  },
  {
   "cell_type": "markdown",
   "metadata": {},
   "source": [
    "# Part C  Starbursts\n",
    "\n",
    "What are the star formation rates for :\n",
    "\n",
    "LIRG: $10^{11}$ L$_\\odot$\n",
    "\n",
    "ULIRG: $10^{12} $ L$_\\odot$\n",
    "\n",
    "HLIRG: $10^{13} $ L$_\\odot$"
   ]
  },
  {
   "cell_type": "code",
   "execution_count": null,
   "metadata": {},
   "outputs": [],
   "source": [
    "# normal galaxies \n"
   ]
  },
  {
   "cell_type": "code",
   "execution_count": null,
   "metadata": {},
   "outputs": [],
   "source": [
    "# LIRGs  \n"
   ]
  },
  {
   "cell_type": "code",
   "execution_count": null,
   "metadata": {},
   "outputs": [],
   "source": [
    "# ULIRGs"
   ]
  },
  {
   "cell_type": "code",
   "execution_count": null,
   "metadata": {},
   "outputs": [],
   "source": [
    "# HLIRGs"
   ]
  },
  {
   "cell_type": "code",
   "execution_count": null,
   "metadata": {},
   "outputs": [],
   "source": []
  }
 ],
 "metadata": {
  "kernelspec": {
   "display_name": "Python 3",
   "language": "python",
   "name": "python3"
  },
  "language_info": {
   "codemirror_mode": {
    "name": "ipython",
    "version": 3
   },
   "file_extension": ".py",
   "mimetype": "text/x-python",
   "name": "python",
   "nbconvert_exporter": "python",
   "pygments_lexer": "ipython3",
   "version": "3.7.6"
  }
 },
 "nbformat": 4,
 "nbformat_minor": 4
}
