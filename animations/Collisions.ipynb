{
 "cells": [
  {
   "cell_type": "markdown",
   "metadata": {},
   "source": [
    "# Collisons"
   ]
  },
  {
   "cell_type": "markdown",
   "metadata": {
    "toc": true
   },
   "source": [
    "<h1>Table of Contents<span class=\"tocSkip\"></span></h1>\n",
    "<div class=\"toc\"><ul class=\"toc-item\"></ul></div>"
   ]
  },
  {
   "cell_type": "code",
   "execution_count": 47,
   "metadata": {},
   "outputs": [],
   "source": [
    "import numpy as np\n",
    "from numpy.linalg import norm\n",
    "# import pandas as pd\n",
    "# import plotting modules\n",
    "import matplotlib\n",
    "import matplotlib.pyplot as plt\n",
    "from matplotlib.colors import LogNorm\n",
    "# from matplotlib.offsetbox import AnchoredText\n",
    "%matplotlib inline\n",
    "\n",
    "from galaxy.db import DB\n",
    "from galaxy.galaxies import Galaxies\n",
    "from galaxy.galaxy import Galaxy\n",
    "from galaxy.timecourse import TimeCourse\n",
    "from galaxy.plots import Plots"
   ]
  },
  {
   "cell_type": "code",
   "execution_count": 48,
   "metadata": {},
   "outputs": [],
   "source": [
    "import mpl_scatter_density\n",
    "\n",
    "# Make the norm object to define the image stretch\n",
    "from astropy.visualization import LogStretch\n",
    "from astropy.visualization.mpl_normalize import ImageNormalize\n",
    "lognorm = ImageNormalize(vmin=0., vmax=1000, stretch=LogStretch())"
   ]
  },
  {
   "cell_type": "code",
   "execution_count": 6,
   "metadata": {},
   "outputs": [],
   "source": [
    "#adjust tick label font size\n",
    "label_size = 14\n",
    "matplotlib.rcParams['xtick.labelsize'] = label_size \n",
    "matplotlib.rcParams['ytick.labelsize'] = label_size"
   ]
  },
  {
   "cell_type": "code",
   "execution_count": 36,
   "metadata": {},
   "outputs": [],
   "source": [
    "def get_xyz(snap, ptype=2):\n",
    "    MW = Galaxy('MW', snap, usesql=True, ptype=2)\n",
    "    M31 = Galaxy('M31', snap, usesql=True, ptype=2)\n",
    "    M33 = Galaxy('M33', snap, usesql=True, ptype=2)\n",
    "\n",
    "    MW_xyz = [MW.data[xi] for xi in ('x','y','z')]\n",
    "    M31_xyz = [M31.data[xi] for xi in ('x','y','z')]\n",
    "    M33_xyz = [M33.data[xi] for xi in ('x','y','z')]\n",
    "    MW_xyz = np.array(MW_xyz)\n",
    "    M31_xyz = np.array(M31_xyz)\n",
    "    M33_xyz = np.array(M33_xyz)\n",
    "\n",
    "    disks_raw = np.concatenate([MW_xyz, M31_xyz, M33_xyz], axis=1)\n",
    "    centroid = np.mean(disks_raw, axis=1)\n",
    "    \n",
    "    t = MW.time.value / 1000\n",
    "    return disks_raw - centroid[:,np.newaxis], t"
   ]
  },
  {
   "cell_type": "code",
   "execution_count": 68,
   "metadata": {
    "scrolled": false
   },
   "outputs": [],
   "source": [
    "def plot_density_views(disks, title, xlim=150, ylim=150, pngout=False, fname=None):\n",
    "    fig = plt.figure()\n",
    "    DPI = fig.get_dpi()\n",
    "    fig.set_size_inches(1400.0/float(DPI),1400.0/float(DPI))\n",
    "    fontsize = 16\n",
    "\n",
    "    # top left\n",
    "    ax0 = fig.add_subplot(2, 2, 1, projection='scatter_density')\n",
    "    ax0.scatter_density(disks[0], disks[1], norm=lognorm)\n",
    "\n",
    "    ax0.set_xlim(-xlim, xlim)\n",
    "    ax0.set_ylim(-ylim, ylim)\n",
    "\n",
    "    # Add axis labels (standard pyplot)\n",
    "    ax0.set_xlabel('x (kpc)', fontsize=fontsize)\n",
    "    ax0.set_ylabel('y (kpc)', fontsize=fontsize)\n",
    "\n",
    "    # top right\n",
    "    ax1 = fig.add_subplot(2, 2, 2, projection='scatter_density')\n",
    "    ax1.scatter_density(disks[0], disks[2], norm=lognorm)\n",
    "\n",
    "    ax1.set_xlim(-xlim, xlim)\n",
    "    ax1.set_ylim(-ylim, ylim)\n",
    "\n",
    "    # Add axis labels (standard pyplot)\n",
    "    ax1.set_xlabel('x (kpc)', fontsize=fontsize)\n",
    "    ax1.set_ylabel('z (kpc)', fontsize=fontsize)\n",
    "\n",
    "    # bottom left\n",
    "    ax2 = fig.add_subplot(2, 2, 3, projection='scatter_density')\n",
    "    ax2.scatter_density(disks[1], disks[2], norm=lognorm)\n",
    "\n",
    "    ax2.set_xlim(-xlim, xlim)\n",
    "    ax2.set_ylim(-ylim, ylim)\n",
    "\n",
    "    # Add axis labels (standard pyplot)\n",
    "    ax2.set_xlabel('y (kpc)', fontsize=fontsize)\n",
    "    ax2.set_ylabel('z (kpc)', fontsize=fontsize)\n",
    "\n",
    "    # bottom right\n",
    "    ax3 = fig.add_subplot(2, 2, 4)\n",
    "    ax3.axis('off')\n",
    "    ax3.text(0.1, 0.5, title, fontsize=28, transform=ax3.transAxes)\n",
    "    plt.tight_layout()\n",
    "    \n",
    "    # Save file\n",
    "    if pngout:\n",
    "        plt.savefig(fname, dpi='figure')\n",
    "        plt.close();  "
   ]
  },
  {
   "cell_type": "code",
   "execution_count": 51,
   "metadata": {},
   "outputs": [],
   "source": [
    "# my non-standard class\n",
    "tc = TimeCourse()\n",
    "\n",
    "# the next 2 lines only work on my machine, as it needs the postgres database\n",
    "com_MW = tc.read_com_db(galaxy='MW')\n",
    "com_M33 = tc.read_com_db(galaxy='M33')\n",
    "com_M31 = tc.read_com_db(galaxy='M31')\n",
    "\n",
    "# need the time values, not the same length as the sim values\n",
    "t_sim = com_M33['t']\n",
    "\n",
    "# calculate separations\n",
    "xyz_MW = np.array([com_MW[xi] for xi in ('x','y','z')])\n",
    "xyz_M31 = np.array([com_M31[xi] for xi in ('x','y','z')])\n",
    "xyz_M33 = np.array([com_M33[xi] for xi in ('x','y','z')])\n",
    "r_MW_M31 = norm(xyz_MW - xyz_M31, axis=0)\n",
    "r_M33_M31 = norm(xyz_M33 - xyz_M31, axis=0)\n",
    "r_MW_M33 = norm(xyz_MW - xyz_M33, axis=0)"
   ]
  },
  {
   "cell_type": "code",
   "execution_count": 53,
   "metadata": {},
   "outputs": [
    {
     "data": {
      "text/plain": [
       "(802,)"
      ]
     },
     "execution_count": 53,
     "metadata": {},
     "output_type": "execute_result"
    }
   ],
   "source": [
    "r_MW_M31.shape"
   ]
  },
  {
   "cell_type": "code",
   "execution_count": 73,
   "metadata": {},
   "outputs": [
    {
     "name": "stdout",
     "output_type": "stream",
     "text": [
      "0 1 2 3 4 5 6 7 8 9 10 11 12 13 14 15 16 17 18 19 20 21 22 23 24 25 26 27 28 29 30 31 32 33 34 35 36 37 38 39 40 41 42 43 44 45 46 47 48 49 50 51 52 53 54 55 56 57 58 59 60 61 62 63 64 65 66 67 68 69 70 71 72 73 74 75 76 77 78 79 80 81 82 83 84 85 86 87 88 89 90 91 92 93 94 95 96 97 98 99 100 101 102 103 104 105 106 107 108 109 110 111 112 113 114 115 116 117 118 119 120 121 122 123 124 125 126 127 128 129 130 131 132 133 134 135 136 137 138 139 140 141 142 143 144 145 146 147 148 149 150 151 152 153 154 155 156 157 158 159 160 161 162 163 164 165 166 167 168 169 170 171 172 173 174 175 176 177 178 179 180 181 182 183 184 185 186 187 188 189 190 191 192 193 194 195 196 197 198 199 "
     ]
    }
   ],
   "source": [
    "for snap in np.arange(0, 200):\n",
    "    disks, t = get_xyz(snap)\n",
    "    title = f\"\\n\\nSnap: {snap:03}\\nElapsed time: {t:5.3f} Gyr\\n\\nSeparations:\\n\"\n",
    "    title += f\"   MW-M31 : {r_MW_M31[snap]:7.1f} kpc\\n\"\n",
    "    title += f\"  M33-M31 : {r_M33_M31[snap]:7.1f} kpc\\n\"\n",
    "    title += f\"   MW-M33 : {r_MW_M33[snap]:7.1f} kpc\"\n",
    "\n",
    "    plot_density_views(disks, title, pngout=True, fname=f\"collision_{snap:03}.png\")\n",
    "    print(snap, end=' ')"
   ]
  },
  {
   "cell_type": "code",
   "execution_count": null,
   "metadata": {},
   "outputs": [],
   "source": []
  },
  {
   "cell_type": "code",
   "execution_count": null,
   "metadata": {},
   "outputs": [],
   "source": []
  },
  {
   "cell_type": "code",
   "execution_count": null,
   "metadata": {},
   "outputs": [],
   "source": []
  },
  {
   "cell_type": "code",
   "execution_count": null,
   "metadata": {},
   "outputs": [],
   "source": []
  },
  {
   "cell_type": "code",
   "execution_count": 7,
   "metadata": {},
   "outputs": [
    {
     "data": {
      "text/html": [
       "<style>.container { width:100% !important; }</style>"
      ],
      "text/plain": [
       "<IPython.core.display.HTML object>"
      ]
     },
     "metadata": {},
     "output_type": "display_data"
    }
   ],
   "source": [
    "from IPython.core.display import display, HTML\n",
    "display(HTML(\"<style>.container { width:100% !important; }</style>\"))"
   ]
  },
  {
   "cell_type": "code",
   "execution_count": null,
   "metadata": {},
   "outputs": [],
   "source": []
  }
 ],
 "metadata": {
  "kernelspec": {
   "display_name": "Python 3",
   "language": "python",
   "name": "python3"
  },
  "language_info": {
   "codemirror_mode": {
    "name": "ipython",
    "version": 3
   },
   "file_extension": ".py",
   "mimetype": "text/x-python",
   "name": "python",
   "nbconvert_exporter": "python",
   "pygments_lexer": "ipython3",
   "version": "3.6.7"
  },
  "toc": {
   "base_numbering": 1,
   "nav_menu": {},
   "number_sections": true,
   "sideBar": false,
   "skip_h1_title": true,
   "title_cell": "Table of Contents",
   "title_sidebar": "Contents",
   "toc_cell": true,
   "toc_position": {
    "height": "calc(100% - 180px)",
    "left": "10px",
    "top": "150px",
    "width": "299.594px"
   },
   "toc_section_display": true,
   "toc_window_display": false
  }
 },
 "nbformat": 4,
 "nbformat_minor": 4
}
