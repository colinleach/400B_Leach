{
 "cells": [
  {
   "cell_type": "markdown",
   "metadata": {},
   "source": [
    "# Close approach"
   ]
  },
  {
   "cell_type": "markdown",
   "metadata": {
    "toc": true
   },
   "source": [
    "<h1>Table of Contents<span class=\"tocSkip\"></span></h1>\n",
    "<div class=\"toc\"><ul class=\"toc-item\"><li><span><a href=\"#Setup\" data-toc-modified-id=\"Setup-1\"><span class=\"toc-item-num\">1&nbsp;&nbsp;</span>Setup</a></span></li><li><span><a href=\"#Static-plot\" data-toc-modified-id=\"Static-plot-2\"><span class=\"toc-item-num\">2&nbsp;&nbsp;</span>Static plot</a></span></li><li><span><a href=\"#Interactive-plot\" data-toc-modified-id=\"Interactive-plot-3\"><span class=\"toc-item-num\">3&nbsp;&nbsp;</span>Interactive plot</a></span><ul class=\"toc-item\"><li><span><a href=\"#Define-interaction-methods\" data-toc-modified-id=\"Define-interaction-methods-3.1\"><span class=\"toc-item-num\">3.1&nbsp;&nbsp;</span>Define interaction methods</a></span></li><li><span><a href=\"#Run-interactive-plot\" data-toc-modified-id=\"Run-interactive-plot-3.2\"><span class=\"toc-item-num\">3.2&nbsp;&nbsp;</span>Run interactive plot</a></span></li></ul></li><li><span><a href=\"#Looking-at-the-midplane\" data-toc-modified-id=\"Looking-at-the-midplane-4\"><span class=\"toc-item-num\">4&nbsp;&nbsp;</span>Looking at the midplane</a></span></li></ul></div>"
   ]
  },
  {
   "cell_type": "markdown",
   "metadata": {},
   "source": [
    "## Setup"
   ]
  },
  {
   "cell_type": "code",
   "execution_count": 1,
   "metadata": {},
   "outputs": [],
   "source": [
    "import numpy as np\n",
    "from numpy.linalg import norm\n",
    "import pandas as pd\n",
    "\n",
    "# import plotting modules\n",
    "import matplotlib\n",
    "import matplotlib.pyplot as plt\n",
    "from matplotlib.colors import LogNorm\n",
    "import matplotlib.widgets as mw  # get access to the widgets\n",
    "\n",
    "%matplotlib qt\n",
    "\n",
    "from galaxy.db import DB\n",
    "from galaxy.galaxies import Galaxies\n",
    "from galaxy.galaxy import Galaxy\n",
    "from galaxy.timecourse import TimeCourse\n",
    "from galaxy.plots import Plots\n",
    "from galaxy.approaches import Approaches\n",
    "\n",
    "from galaxy.utilities import rotation_matrix_to_vector, z_rotation_matrix"
   ]
  },
  {
   "cell_type": "code",
   "execution_count": 2,
   "metadata": {},
   "outputs": [],
   "source": [
    "import mpl_scatter_density\n",
    "\n",
    "# Make the norm object to define the image stretch\n",
    "from astropy.visualization import LogStretch\n",
    "from astropy.visualization.mpl_normalize import ImageNormalize\n",
    "lognorm = ImageNormalize(vmin=0., vmax=1000, stretch=LogStretch())"
   ]
  },
  {
   "cell_type": "code",
   "execution_count": 3,
   "metadata": {},
   "outputs": [],
   "source": [
    "#adjust tick label font size\n",
    "label_size = 14\n",
    "matplotlib.rcParams['xtick.labelsize'] = label_size \n",
    "matplotlib.rcParams['ytick.labelsize'] = label_size"
   ]
  },
  {
   "cell_type": "markdown",
   "metadata": {},
   "source": [
    "## Static plot"
   ]
  },
  {
   "cell_type": "code",
   "execution_count": 4,
   "metadata": {},
   "outputs": [],
   "source": [
    "def plot_density_views(disks, title, xlim=150, ylim=150, pngout=False, fname=None):\n",
    "    fig = plt.figure(figsize=(10,10))\n",
    "    fontsize = 16\n",
    "\n",
    "    # top left\n",
    "    ax0 = fig.add_subplot(1, 1, 1, projection='scatter_density')\n",
    "    ax0.scatter_density(disks[0], disks[1], norm=lognorm)\n",
    "\n",
    "    ax0.set_xlim(-xlim, xlim)\n",
    "    ax0.set_ylim(-ylim, ylim)\n",
    "\n",
    "    # Add axis labels (standard pyplot)\n",
    "    ax0.set_xlabel('x (kpc)', fontsize=fontsize)\n",
    "    ax0.set_ylabel('y (kpc)', fontsize=fontsize)\n",
    "    \n",
    "    # Save file\n",
    "    if pngout:\n",
    "        plt.savefig(fname, dpi='figure')\n",
    "        plt.close();  "
   ]
  },
  {
   "cell_type": "code",
   "execution_count": 5,
   "metadata": {},
   "outputs": [],
   "source": [
    "snap = 301\n",
    "app = Approaches(snap=snap, usesql=True)\n",
    "t = app.time.value / 1000\n",
    "disks = app.xyz()\n",
    "title = f\"\\n\\nSnap: {snap:03}\\nElapsed time: {t:5.3f} Gyr\""
   ]
  },
  {
   "cell_type": "code",
   "execution_count": 6,
   "metadata": {},
   "outputs": [
    {
     "name": "stdout",
     "output_type": "stream",
     "text": [
      "301 "
     ]
    },
    {
     "name": "stderr",
     "output_type": "stream",
     "text": [
      "/home/colin/.pyenv/versions/miniconda3-4.2.12/envs/400b/lib/python3.6/site-packages/mpl_scatter_density/generic_density_artist.py:74: RuntimeWarning: All-NaN slice encountered\n",
      "  vmin = self._density_vmin(array)\n",
      "/home/colin/.pyenv/versions/miniconda3-4.2.12/envs/400b/lib/python3.6/site-packages/mpl_scatter_density/generic_density_artist.py:79: RuntimeWarning: All-NaN slice encountered\n",
      "  vmax = self._density_vmax(array)\n"
     ]
    }
   ],
   "source": [
    "plot_density_views(disks, title, pngout=False, fname=f\"approach_{snap:03}.png\")\n",
    "print(snap, end=' ')"
   ]
  },
  {
   "cell_type": "markdown",
   "metadata": {},
   "source": [
    "## Interactive plot"
   ]
  },
  {
   "cell_type": "markdown",
   "metadata": {},
   "source": [
    "Get the raw data"
   ]
  },
  {
   "cell_type": "code",
   "execution_count": 7,
   "metadata": {},
   "outputs": [
    {
     "data": {
      "text/plain": [
       "4.28571"
      ]
     },
     "execution_count": 7,
     "metadata": {},
     "output_type": "execute_result"
    }
   ],
   "source": [
    "snap = 300\n",
    "app = Approaches(snap=snap, usesql=True)\n",
    "t = app.time.value / 1000\n",
    "t"
   ]
  },
  {
   "cell_type": "markdown",
   "metadata": {},
   "source": [
    "Center coordinates visually for plotting"
   ]
  },
  {
   "cell_type": "code",
   "execution_count": 8,
   "metadata": {},
   "outputs": [
    {
     "data": {
      "text/plain": [
       "((3, 1166500), (1166500,))"
      ]
     },
     "execution_count": 8,
     "metadata": {},
     "output_type": "execute_result"
    }
   ],
   "source": [
    "# get two (3,N) arrays with just position/velocity coordinates\n",
    "xyz = app.xyz()\n",
    "vxyz = app.vxyz()\n",
    "\n",
    "v = norm(vxyz, axis=0)\n",
    "\n",
    "# center the collection visually (not CoM)\n",
    "centroid = np.mean(xyz, axis=1)\n",
    "xyz -= centroid[:,np.newaxis]\n",
    "xyz.shape, v.shape"
   ]
  },
  {
   "cell_type": "markdown",
   "metadata": {},
   "source": [
    "### Define interaction methods"
   ]
  },
  {
   "cell_type": "code",
   "execution_count": 9,
   "metadata": {},
   "outputs": [],
   "source": [
    "index = None\n",
    "\n",
    "def callbackRectangle( click, release ): # the events are click and release\n",
    "    \"\"\"\n",
    "    \"\"\"\n",
    "    \n",
    "    global index\n",
    "    \n",
    "    # create a rectangle\n",
    "    width = np.abs(release.xdata - click.xdata)\n",
    "    height = np.abs(release.ydata - click.ydata)\n",
    "    \n",
    "    rect = plt.Rectangle( (click.xdata, click.ydata), width, height,\n",
    "                            fill=False, color='yellow', lw=1)\n",
    "    \n",
    "    # clear old rectangles, add new one\n",
    "    [p.remove() for p in reversed(ax0.patches)]\n",
    "    ax0.add_patch(rect)\n",
    "    \n",
    "    # extrema will be useful for setting axes\n",
    "    xmin = min([click.xdata, release.xdata])\n",
    "    xmax = max([click.xdata, release.xdata])\n",
    "    ymin = min([click.ydata, release.ydata])\n",
    "    ymax = max([click.ydata, release.ydata])\n",
    "    \n",
    "    index = np.where( (x > xmin) & (x < xmax) & (y > ymin) & (y < ymax) )\n",
    "    \n",
    "    # fill in mid and right panels\n",
    "    add_velocity_plot(ax1, xmin, xmax, ymin, ymax)\n",
    "    add_origin_plot(ax2, xmin, xmax, ymin, ymax)\n",
    "    plt.tight_layout()\n",
    "    \n",
    "#     ref = ax[1].scatter(x[index], y[index], s=1)\n",
    "\n",
    "    # Save the file"
   ]
  },
  {
   "cell_type": "code",
   "execution_count": 10,
   "metadata": {},
   "outputs": [],
   "source": [
    "def onKeyPressed(event):\n",
    "    \n",
    "    # eventually want to reset by removing selection\n",
    "    pass\n",
    "\n",
    "#     if event.key in ['R', 'r']:\n",
    "#         ax.set_xlim(-30,30)\n",
    "#         ax.set_ylim(-30,30)"
   ]
  },
  {
   "cell_type": "code",
   "execution_count": 11,
   "metadata": {},
   "outputs": [],
   "source": [
    "def add_velocity_plot(ax, xmin, xmax, ymin, ymax):\n",
    "\n",
    "    sel_inx = index[0]\n",
    "    sel_xyz = xyz[:,sel_inx]\n",
    "    sel_vxyz = vxyz[:,sel_inx]\n",
    "#     print('x: ', len(selected['x']), selected['x'])\n",
    "\n",
    "    if index is not None:\n",
    "#         ax1.quiver(x[index], y[index], vx[index], vy[index], color='gray')\n",
    "        ax1.quiver(sel_xyz[0], sel_xyz[1], sel_vxyz[0], sel_vxyz[1], color='gray')\n",
    "\n",
    "    ax.set_xlim(xmin, xmax)\n",
    "    ax.set_ylim(ymin, ymax)\n",
    "\n",
    "    # Add axis labels (standard pyplot)\n",
    "    ax.set_xlabel('x (kpc)', fontsize=fontsize)\n",
    "    ax.set_ylabel('y (kpc)', fontsize=fontsize)"
   ]
  },
  {
   "cell_type": "code",
   "execution_count": 12,
   "metadata": {},
   "outputs": [],
   "source": [
    "def add_origin_plot(ax, xmin, xmax, ymin, ymax):\n",
    "\n",
    "    if index is not None:\n",
    "        sel_inx = index[0]\n",
    "        sel_x, sel_y, sel_z = xyz[:,sel_inx]\n",
    "        sel_data = app.data[sel_inx]\n",
    "        sel_galname = sel_data['galname']\n",
    "        sel_type = sel_data['type']\n",
    "        \n",
    "        markersize = 5\n",
    "        group = np.where((sel_galname=='MW ') & (sel_type==2))\n",
    "        ax.scatter(sel_x[group], sel_y[group], color='k', s=markersize, label='MW disk')\n",
    "        \n",
    "        group = np.where((sel_galname=='M31') & (sel_type==2))\n",
    "        ax.scatter(sel_x[group], sel_y[group], color='g', s=markersize, label='M31 disk')\n",
    "        \n",
    "        group = np.where((sel_galname=='MW ') & (sel_type==3))\n",
    "        ax.scatter(sel_x[group], sel_y[group], color='r', s=markersize, marker='^', label='MW bulge')\n",
    "        \n",
    "        group = np.where((sel_galname=='M31') & (sel_type==3))\n",
    "        ax.scatter(sel_x[group], sel_y[group], color='b', s=markersize, marker='^', label='M31 bulge')\n",
    "\n",
    "    ax.set_xlim(xmin, xmax)\n",
    "    ax.set_ylim(ymin, ymax)\n",
    "\n",
    "    # Add axis labels (standard pyplot)\n",
    "    ax.set_xlabel('x (kpc)', fontsize=fontsize)\n",
    "    ax.set_ylabel('y (kpc)', fontsize=fontsize)\n",
    "    \n",
    "    if ax.get_legend() is not None:\n",
    "        ax.get_legend().remove()\n",
    "    ax.legend(shadow=True)"
   ]
  },
  {
   "cell_type": "markdown",
   "metadata": {},
   "source": [
    "### Run interactive plot"
   ]
  },
  {
   "cell_type": "code",
   "execution_count": 13,
   "metadata": {
    "scrolled": false
   },
   "outputs": [],
   "source": [
    "x,y,z = xyz\n",
    "vx,vy,vz = vxyz\n",
    "\n",
    "fig = plt.figure(figsize=(18,6))\n",
    "fontsize = 16\n",
    "titlesize = 20\n",
    "\n",
    "xlim = ylim = 150\n",
    "\n",
    "# top left\n",
    "ax0 = fig.add_subplot(1, 3, 1, projection='scatter_density')\n",
    "ax0.scatter_density(x, y, norm=lognorm)\n",
    "\n",
    "ax0.set_xlim(-xlim, xlim)\n",
    "ax0.set_ylim(-ylim, ylim)\n",
    "\n",
    "# Add axis labels (standard pyplot)\n",
    "ax0.set_xlabel('x (kpc)', fontsize=fontsize)\n",
    "ax0.set_ylabel('y (kpc)', fontsize=fontsize)\n",
    "\n",
    "ax0.set_title(f\"Density at t={t:5.2f} Gyr\", fontsize=titlesize)\n",
    "\n",
    "ax1 = fig.add_subplot(1, 3, 2)\n",
    "ax1.set_title('Velocities of selected stars', fontsize=titlesize)\n",
    "\n",
    "ax2 = fig.add_subplot(1, 3, 3)\n",
    "ax2.set_title('Origins of selected stars', fontsize=titlesize)\n",
    "\n",
    "\n",
    "\n",
    "rs = mw.RectangleSelector( ax0,                        # the axes to attach to\n",
    "                           callbackRectangle,         # the callback function\n",
    "                           drawtype='box',            # draw a box when selecting a region\n",
    "                           button=[1, 3],             # allow us to use left or right mouse button\n",
    "                                                      #button 1 is left mouse button\n",
    "                           minspanx=5, minspany=5,    # don't accept a box of fewer than 5 pixels\n",
    "                           spancoords='pixels' )      # units for above\n",
    "\n",
    "# to detect the 'R' key press to reset the image\n",
    "plt.connect(\"key_press_event\", onKeyPressed);"
   ]
  },
  {
   "cell_type": "code",
   "execution_count": 14,
   "metadata": {},
   "outputs": [
    {
     "ename": "TypeError",
     "evalue": "'NoneType' object is not subscriptable",
     "output_type": "error",
     "traceback": [
      "\u001b[0;31m---------------------------------------------------------------------------\u001b[0m",
      "\u001b[0;31mTypeError\u001b[0m                                 Traceback (most recent call last)",
      "\u001b[0;32m<ipython-input-14-4a63ac7b53e1>\u001b[0m in \u001b[0;36m<module>\u001b[0;34m\u001b[0m\n\u001b[0;32m----> 1\u001b[0;31m \u001b[0msel_inx\u001b[0m \u001b[0;34m=\u001b[0m \u001b[0mindex\u001b[0m\u001b[0;34m[\u001b[0m\u001b[0;36m0\u001b[0m\u001b[0;34m]\u001b[0m\u001b[0;34m\u001b[0m\u001b[0;34m\u001b[0m\u001b[0m\n\u001b[0m\u001b[1;32m      2\u001b[0m \u001b[0;34m\u001b[0m\u001b[0m\n\u001b[1;32m      3\u001b[0m \u001b[0mselected\u001b[0m \u001b[0;34m=\u001b[0m \u001b[0mapp\u001b[0m\u001b[0;34m.\u001b[0m\u001b[0mdata\u001b[0m\u001b[0;34m[\u001b[0m\u001b[0msel_inx\u001b[0m\u001b[0;34m]\u001b[0m\u001b[0;34m\u001b[0m\u001b[0;34m\u001b[0m\u001b[0m\n\u001b[1;32m      4\u001b[0m \u001b[0mprint\u001b[0m\u001b[0;34m(\u001b[0m\u001b[0mlen\u001b[0m\u001b[0;34m(\u001b[0m\u001b[0msel_inx\u001b[0m\u001b[0;34m)\u001b[0m\u001b[0;34m)\u001b[0m\u001b[0;34m\u001b[0m\u001b[0;34m\u001b[0m\u001b[0m\n\u001b[1;32m      5\u001b[0m \u001b[0mselected\u001b[0m\u001b[0;34m[\u001b[0m\u001b[0;34m'x'\u001b[0m\u001b[0;34m]\u001b[0m\u001b[0;34m\u001b[0m\u001b[0;34m\u001b[0m\u001b[0m\n",
      "\u001b[0;31mTypeError\u001b[0m: 'NoneType' object is not subscriptable"
     ]
    }
   ],
   "source": [
    "sel_inx = index[0]\n",
    "\n",
    "selected = app.data[sel_inx]\n",
    "print(len(sel_inx))\n",
    "selected['x']"
   ]
  },
  {
   "cell_type": "markdown",
   "metadata": {},
   "source": [
    "## Looking at the midplane"
   ]
  },
  {
   "cell_type": "code",
   "execution_count": 15,
   "metadata": {},
   "outputs": [],
   "source": [
    "tc = TimeCourse()"
   ]
  },
  {
   "cell_type": "markdown",
   "metadata": {},
   "source": [
    "Get the MW, M31 CoM positions:"
   ]
  },
  {
   "cell_type": "code",
   "execution_count": 16,
   "metadata": {},
   "outputs": [
    {
     "data": {
      "text/plain": [
       "array([-53.84, 262.48, -15.17], dtype=float32)"
      ]
     },
     "execution_count": 16,
     "metadata": {},
     "output_type": "execute_result"
    }
   ],
   "source": [
    "snap = 300\n",
    "MW_com, _ = tc.get_one_com('MW', snap)\n",
    "M31_com, _ = tc.get_one_com('M31', snap)\n",
    "MW_com"
   ]
  },
  {
   "cell_type": "markdown",
   "metadata": {},
   "source": [
    "Rotate and translate the coordinate system so the CoMs are along the x-axis.\n",
    "\n",
    "First rotate:"
   ]
  },
  {
   "cell_type": "code",
   "execution_count": 17,
   "metadata": {},
   "outputs": [
    {
     "data": {
      "text/plain": [
       "array([[ 0.04675856, -0.9672069 , -0.24964871],\n",
       "       [ 0.9672069 ,  0.10629901, -0.23067587],\n",
       "       [ 0.24964871, -0.23067587,  0.94045955]])"
      ]
     },
     "execution_count": 17,
     "metadata": {},
     "output_type": "execute_result"
    }
   ],
   "source": [
    "MW_M31_vec = M31_com - MW_com\n",
    "MW_M31_vec /= norm(MW_M31_vec)\n",
    "x_hat = np.array([1.,0.,0.])\n",
    "R = rotation_matrix_to_vector(MW_M31_vec, x_hat)\n",
    "R"
   ]
  },
  {
   "cell_type": "code",
   "execution_count": 18,
   "metadata": {},
   "outputs": [
    {
     "data": {
      "text/plain": [
       "(array([-252.60278664,  -20.67370071,  -88.25566336]),\n",
       " array([-128.98909469,  -20.67370007,  -88.25566438]))"
      ]
     },
     "execution_count": 18,
     "metadata": {},
     "output_type": "execute_result"
    }
   ],
   "source": [
    "MW_com_rot = R @ MW_com\n",
    "M31_com_rot = R @ M31_com\n",
    "MW_com_rot, M31_com_rot"
   ]
  },
  {
   "cell_type": "markdown",
   "metadata": {},
   "source": [
    "Next translate:"
   ]
  },
  {
   "cell_type": "code",
   "execution_count": null,
   "metadata": {},
   "outputs": [],
   "source": [
    "offset = np.array([(M31_com_rot[0]  + MW_com_rot[0])/2, MW_com_rot[1], MW_com_rot[2]])\n",
    "offset"
   ]
  },
  {
   "cell_type": "code",
   "execution_count": null,
   "metadata": {},
   "outputs": [],
   "source": [
    "xyz = app.xyz()\n",
    "\n",
    "xyz_rot = R @ xyz\n",
    "xyz_rot -= offset[:, np.newaxis]"
   ]
  },
  {
   "cell_type": "markdown",
   "metadata": {},
   "source": [
    "Plot in the new coordinate system:"
   ]
  },
  {
   "cell_type": "code",
   "execution_count": 19,
   "metadata": {},
   "outputs": [],
   "source": [
    "def midplane_view_coords(raw_xyz, snap):\n",
    "    \"\"\"\n",
    "    Rotate the raw coordinates to put MW, M31 along the x-axis, \n",
    "    equally spaced about the origin\n",
    "    \"\"\"\n",
    "    \n",
    "    # get CoM positions\n",
    "    tc = TimeCourse()\n",
    "    MW_com, _ = tc.get_one_com('MW', snap)\n",
    "    M31_com, _ = tc.get_one_com('M31', snap)\n",
    "\n",
    "    # calculate rotation matrix\n",
    "    MW_M31_vec = M31_com - MW_com\n",
    "    MW_M31_vec /= norm(MW_M31_vec)\n",
    "    x_hat = np.array([1.,0.,0.])\n",
    "    R = rotation_matrix_to_vector(MW_M31_vec, x_hat)\n",
    "\n",
    "    # calculate offset from desired position\n",
    "    MW_com_rot = R @ MW_com\n",
    "    M31_com_rot = R @ M31_com\n",
    "    offset = np.array([(M31_com_rot[0]  + MW_com_rot[0])/2, \n",
    "                       MW_com_rot[1], MW_com_rot[2]])\n",
    "    \n",
    "    # transform coordinates and return\n",
    "    xyz_rot = R @ raw_xyz\n",
    "    xyz_rot -= offset[:, np.newaxis]\n",
    "    return xyz_rot"
   ]
  },
  {
   "cell_type": "code",
   "execution_count": 22,
   "metadata": {},
   "outputs": [
    {
     "data": {
      "text/plain": [
       "4.28571"
      ]
     },
     "execution_count": 22,
     "metadata": {},
     "output_type": "execute_result"
    }
   ],
   "source": [
    "snap = 300\n",
    "app = Approaches(snap=snap, usesql=True)\n",
    "t = app.time.value / 1000\n",
    "t"
   ]
  },
  {
   "cell_type": "code",
   "execution_count": 23,
   "metadata": {},
   "outputs": [
    {
     "name": "stderr",
     "output_type": "stream",
     "text": [
      "/home/colin/.pyenv/versions/miniconda3-4.2.12/envs/400b/lib/python3.6/site-packages/mpl_scatter_density/generic_density_artist.py:74: RuntimeWarning: All-NaN slice encountered\n",
      "  vmin = self._density_vmin(array)\n",
      "/home/colin/.pyenv/versions/miniconda3-4.2.12/envs/400b/lib/python3.6/site-packages/mpl_scatter_density/generic_density_artist.py:79: RuntimeWarning: All-NaN slice encountered\n",
      "  vmax = self._density_vmax(array)\n"
     ]
    }
   ],
   "source": [
    "x, y, z = midplane_view_coords(app.xyz(), snap)\n",
    "\n",
    "fig = plt.figure(figsize=(10,6))\n",
    "fontsize = 16\n",
    "titlesize = 20\n",
    "\n",
    "xlim = 120\n",
    "ylim = 70\n",
    "\n",
    "# top left\n",
    "ax0 = fig.add_subplot(1, 1, 1, projection='scatter_density')\n",
    "ax0.plot([-xlim, xlim], [0,0], color='gray', lw=1)\n",
    "ax0.plot([0,0], [-ylim, ylim], color='gray', lw=1)\n",
    "ax0.scatter_density(x, z, norm=lognorm)\n",
    "\n",
    "ax0.set_xlim(-xlim, xlim)\n",
    "ax0.set_ylim(-ylim, ylim)\n",
    "\n",
    "# Add axis labels (standard pyplot)\n",
    "ax0.set_xlabel('x (kpc)', fontsize=fontsize)\n",
    "ax0.set_ylabel('z (kpc)', fontsize=fontsize)\n",
    "\n",
    "ax0.set_title(f\"Density at t={t:5.2f} Gyr\", fontsize=titlesize)\n",
    "\n",
    "fname = f'density_rot_{snap}.pdf'\n",
    "plt.savefig(fname, dpi='figure');"
   ]
  },
  {
   "cell_type": "markdown",
   "metadata": {},
   "source": [
    "Select stars that are roughly equidistant from both CoMs (i.e. near x=0):"
   ]
  },
  {
   "cell_type": "code",
   "execution_count": 24,
   "metadata": {},
   "outputs": [
    {
     "data": {
      "text/plain": [
       "(2763,\n",
       " array([('M31', 2, 2.000e-05, -28.7791, 186.126, -80.1723,  117.818 , -117.963 , -22.2706),\n",
       "        ('M31', 2, 2.000e-05, -39.6964, 198.329, -75.5905,   89.4208,  -89.1834,  18.0413),\n",
       "        ('M31', 2, 2.000e-05, -30.214 , 186.801, -81.1952,  116.911 , -106.009 , -47.9533),\n",
       "        ...,\n",
       "        ('MW ', 3, 2.001e-05, -83.8462, 216.74 , -49.5789,  134.361 ,  -40.9643,  26.6477),\n",
       "        ('MW ', 3, 2.001e-05, -69.709 , 227.603, -68.0291,  118.112 ,  -49.8217, -13.2683),\n",
       "        ('MW ', 3, 2.001e-05, -66.5686, 220.342, -44.1338, -187.922 ,  160.635 , 255.322 )],\n",
       "       dtype=[('galname', '<U3'), ('type', 'u1'), ('m', '<f4'), ('x', '<f4'), ('y', '<f4'), ('z', '<f4'), ('vx', '<f4'), ('vy', '<f4'), ('vz', '<f4')]))"
      ]
     },
     "execution_count": 24,
     "metadata": {},
     "output_type": "execute_result"
    }
   ],
   "source": [
    "bridge_index = np.where( (x > -20) & (x < 30) )\n",
    "bridge_data = app.data[bridge_index]\n",
    "len(bridge_data), bridge_data"
   ]
  },
  {
   "cell_type": "markdown",
   "metadata": {},
   "source": [
    "Get the data into a pandas df for easier analysis:"
   ]
  },
  {
   "cell_type": "code",
   "execution_count": null,
   "metadata": {},
   "outputs": [],
   "source": [
    "df = pd.DataFrame()\n",
    "df['galname'] = bridge_data['galname']\n",
    "df['type'] = bridge_data['type']\n",
    "df['x'] = x[bridge_index]\n",
    "df['y'] = y[bridge_index]\n",
    "df['z'] = z[bridge_index]"
   ]
  },
  {
   "cell_type": "code",
   "execution_count": null,
   "metadata": {},
   "outputs": [],
   "source": [
    "# create some better column names\n",
    "types = {1: 'Halo', 2: 'Disk', 3: 'Bulge'}\n",
    "df['origin'] = df['type'].map(types)\n",
    "df.head()"
   ]
  },
  {
   "cell_type": "markdown",
   "metadata": {},
   "source": [
    "Show the counts in a pivot table:"
   ]
  },
  {
   "cell_type": "code",
   "execution_count": null,
   "metadata": {},
   "outputs": [],
   "source": [
    "df_piv = pd.pivot_table(df, values='x',\n",
    "        index='galname', columns='origin',\n",
    "        aggfunc='count', fill_value=0, margins=True)\n",
    "df_piv"
   ]
  },
  {
   "cell_type": "code",
   "execution_count": null,
   "metadata": {},
   "outputs": [],
   "source": [
    "print(df_piv.to_latex(column_format='lrrr'))"
   ]
  },
  {
   "cell_type": "code",
   "execution_count": null,
   "metadata": {},
   "outputs": [],
   "source": [
    "import plotly.express as px"
   ]
  },
  {
   "cell_type": "code",
   "execution_count": null,
   "metadata": {},
   "outputs": [],
   "source": []
  },
  {
   "cell_type": "code",
   "execution_count": null,
   "metadata": {},
   "outputs": [],
   "source": [
    "counts = df.groupby(['galname', 'origin'])['x'].count()\n",
    "counts = counts.reset_index().rename(columns={'galname': 'Galaxy', 'x': 'Count'})\n",
    "counts.head()"
   ]
  },
  {
   "cell_type": "code",
   "execution_count": null,
   "metadata": {},
   "outputs": [],
   "source": [
    "px.bar(counts, x='Galaxy', y='Count', color='origin')"
   ]
  },
  {
   "cell_type": "code",
   "execution_count": null,
   "metadata": {},
   "outputs": [],
   "source": []
  }
 ],
 "metadata": {
  "kernelspec": {
   "display_name": "Python 3",
   "language": "python",
   "name": "python3"
  },
  "language_info": {
   "codemirror_mode": {
    "name": "ipython",
    "version": 3
   },
   "file_extension": ".py",
   "mimetype": "text/x-python",
   "name": "python",
   "nbconvert_exporter": "python",
   "pygments_lexer": "ipython3",
   "version": "3.6.7"
  },
  "toc": {
   "base_numbering": 1,
   "nav_menu": {},
   "number_sections": true,
   "sideBar": true,
   "skip_h1_title": true,
   "title_cell": "Table of Contents",
   "title_sidebar": "Contents",
   "toc_cell": true,
   "toc_position": {},
   "toc_section_display": true,
   "toc_window_display": true
  }
 },
 "nbformat": 4,
 "nbformat_minor": 4
}
