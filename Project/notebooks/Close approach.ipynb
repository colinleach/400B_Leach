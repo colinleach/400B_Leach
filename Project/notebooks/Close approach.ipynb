{
 "cells": [
  {
   "cell_type": "markdown",
   "metadata": {},
   "source": [
    "# Close approach"
   ]
  },
  {
   "cell_type": "markdown",
   "metadata": {
    "toc": true
   },
   "source": [
    "<h1>Table of Contents<span class=\"tocSkip\"></span></h1>\n",
    "<div class=\"toc\"><ul class=\"toc-item\"></ul></div>"
   ]
  },
  {
   "cell_type": "code",
   "execution_count": 28,
   "metadata": {},
   "outputs": [],
   "source": [
    "import numpy as np\n",
    "from numpy.linalg import norm\n",
    "\n",
    "# import plotting modules\n",
    "import matplotlib\n",
    "import matplotlib.pyplot as plt\n",
    "from matplotlib.colors import LogNorm\n",
    "import matplotlib.widgets as mw  # get access to the widgets\n",
    "\n",
    "%matplotlib qt\n",
    "\n",
    "from galaxy.db import DB\n",
    "from galaxy.galaxies import Galaxies\n",
    "from galaxy.galaxy import Galaxy\n",
    "from galaxy.timecourse import TimeCourse\n",
    "from galaxy.plots import Plots\n",
    "from galaxy.approaches import Approaches"
   ]
  },
  {
   "cell_type": "code",
   "execution_count": 2,
   "metadata": {},
   "outputs": [],
   "source": [
    "import mpl_scatter_density\n",
    "\n",
    "# Make the norm object to define the image stretch\n",
    "from astropy.visualization import LogStretch\n",
    "from astropy.visualization.mpl_normalize import ImageNormalize\n",
    "lognorm = ImageNormalize(vmin=0., vmax=1000, stretch=LogStretch())"
   ]
  },
  {
   "cell_type": "code",
   "execution_count": 3,
   "metadata": {},
   "outputs": [],
   "source": [
    "#adjust tick label font size\n",
    "label_size = 14\n",
    "matplotlib.rcParams['xtick.labelsize'] = label_size \n",
    "matplotlib.rcParams['ytick.labelsize'] = label_size"
   ]
  },
  {
   "cell_type": "code",
   "execution_count": 29,
   "metadata": {},
   "outputs": [],
   "source": [
    "def plot_density_views(disks, title, xlim=150, ylim=150, pngout=False, fname=None):\n",
    "    fig = plt.figure(figsize=(10,10))\n",
    "    fontsize = 16\n",
    "\n",
    "    # top left\n",
    "    ax0 = fig.add_subplot(1, 1, 1, projection='scatter_density')\n",
    "    ax0.scatter_density(disks[0], disks[1], norm=lognorm)\n",
    "\n",
    "    ax0.set_xlim(-xlim, xlim)\n",
    "    ax0.set_ylim(-ylim, ylim)\n",
    "\n",
    "    # Add axis labels (standard pyplot)\n",
    "    ax0.set_xlabel('x (kpc)', fontsize=fontsize)\n",
    "    ax0.set_ylabel('y (kpc)', fontsize=fontsize)\n",
    "    \n",
    "    # Save file\n",
    "    if pngout:\n",
    "        plt.savefig(fname, dpi='figure')\n",
    "        plt.close();  "
   ]
  },
  {
   "cell_type": "code",
   "execution_count": 6,
   "metadata": {},
   "outputs": [],
   "source": [
    "snap = 301\n",
    "disks, t = get_xyz(snap)\n",
    "title = f\"\\n\\nSnap: {snap:03}\\nElapsed time: {t:5.3f} Gyr\""
   ]
  },
  {
   "cell_type": "code",
   "execution_count": 7,
   "metadata": {},
   "outputs": [
    {
     "name": "stdout",
     "output_type": "stream",
     "text": [
      "301 "
     ]
    },
    {
     "name": "stderr",
     "output_type": "stream",
     "text": [
      "/home/colin/.pyenv/versions/miniconda3-4.2.12/envs/400b/lib/python3.6/site-packages/mpl_scatter_density/generic_density_artist.py:74: RuntimeWarning: All-NaN slice encountered\n",
      "  vmin = self._density_vmin(array)\n",
      "/home/colin/.pyenv/versions/miniconda3-4.2.12/envs/400b/lib/python3.6/site-packages/mpl_scatter_density/generic_density_artist.py:79: RuntimeWarning: All-NaN slice encountered\n",
      "  vmax = self._density_vmax(array)\n"
     ]
    }
   ],
   "source": [
    "plot_density_views(disks, title, pngout=False, fname=f\"approach_{snap:03}.png\")\n",
    "print(snap, end=' ')"
   ]
  },
  {
   "cell_type": "code",
   "execution_count": 62,
   "metadata": {},
   "outputs": [],
   "source": [
    "snap = 300\n",
    "app = Approaches(snap=snap, usesql=True)\n",
    "t = app.time.value / 1000"
   ]
  },
  {
   "cell_type": "code",
   "execution_count": 64,
   "metadata": {},
   "outputs": [
    {
     "data": {
      "text/plain": [
       "((3, 1166500), (1166500,))"
      ]
     },
     "execution_count": 64,
     "metadata": {},
     "output_type": "execute_result"
    }
   ],
   "source": [
    "# get two (3,N) arrays with just position/velocity coordinates\n",
    "xyz = app.xyz()\n",
    "vxyz = app.vxyz()\n",
    "\n",
    "v = norm(vxyz, axis=0)\n",
    "\n",
    "# center the collection visually (not CoM)\n",
    "centroid = np.mean(xyz, axis=1)\n",
    "xyz -= centroid[:,np.newaxis]\n",
    "xyz.shape, v.shape"
   ]
  },
  {
   "cell_type": "code",
   "execution_count": 87,
   "metadata": {},
   "outputs": [],
   "source": [
    "index = None\n",
    "\n",
    "def callbackRectangle( click, release ): # the events are click and release\n",
    "    \"\"\"\n",
    "    \"\"\"\n",
    "    \n",
    "    global index\n",
    "    \n",
    "#     extent = [ click.xdata, release.xdata, click.ydata, release.ydata ]\n",
    "#     print( f\"box extent is {extent}\") \n",
    "    \n",
    "    # create a rectangle\n",
    "    width = np.abs(release.xdata - click.xdata)\n",
    "    height = np.abs(release.ydata - click.ydata)\n",
    "    \n",
    "    rect = plt.Rectangle( (click.xdata, click.ydata), width, height,\n",
    "                            fill=False, color='yellow', lw=1)\n",
    "    ax0.add_patch(rect)\n",
    "    \n",
    "    xmin = min([click.xdata, release.xdata])\n",
    "    xmax = max([click.xdata, release.xdata])\n",
    "    ymin = min([click.ydata, release.ydata])\n",
    "    ymax = max([click.ydata, release.ydata])\n",
    "    \n",
    "    index = np.where( (x > xmin) & (x < xmax) & (y > ymin) & (y < ymax) )\n",
    "    \n",
    "    add_velocity_plot()\n",
    "    \n",
    "#     ref = ax[1].scatter(x[index], y[index], s=1)\n",
    "\n",
    "    # Save the file"
   ]
  },
  {
   "cell_type": "code",
   "execution_count": 88,
   "metadata": {},
   "outputs": [],
   "source": [
    "def onKeyPressed(event):\n",
    "    \n",
    "    # eventuallywant to reset by removing selection\n",
    "    pass\n",
    "\n",
    "#     if event.key in ['R', 'r']:\n",
    "#         ax.set_xlim(-30,30)\n",
    "#         ax.set_ylim(-30,30)"
   ]
  },
  {
   "cell_type": "code",
   "execution_count": 106,
   "metadata": {},
   "outputs": [],
   "source": [
    "def add_velocity_plot():\n",
    "    ax1 = fig.add_subplot(1, 3, 2)\n",
    "\n",
    "    if index is not None:\n",
    "        ax1.scatter(x[index], y[index], c=v[index], cmap='magma', s=3)\n",
    "#     plt.colorbar()\n",
    "\n",
    "    # Add axis labels (standard pyplot)\n",
    "    ax1.set_xlabel('x (kpc)', fontsize=fontsize)\n",
    "    ax1.set_ylabel('y (kpc)', fontsize=fontsize)\n"
   ]
  },
  {
   "cell_type": "code",
   "execution_count": 107,
   "metadata": {
    "scrolled": true
   },
   "outputs": [
    {
     "name": "stderr",
     "output_type": "stream",
     "text": [
      "/home/colin/.pyenv/versions/miniconda3-4.2.12/envs/400b/lib/python3.6/site-packages/ipykernel_launcher.py:2: MatplotlibDeprecationWarning: Adding an axes using the same arguments as a previous axes currently reuses the earlier instance.  In a future version, a new instance will always be created and returned.  Meanwhile, this warning can be suppressed, and the future behavior ensured, by passing a unique label to each axes instance.\n",
      "  \n"
     ]
    }
   ],
   "source": [
    "x,y,z = xyz\n",
    "\n",
    "fig = plt.figure(figsize=(18,6))\n",
    "fontsize = 16\n",
    "\n",
    "xlim = ylim = 150\n",
    "\n",
    "# top left\n",
    "ax0 = fig.add_subplot(1, 3, 1, projection='scatter_density')\n",
    "ax0.scatter_density(x, y, norm=lognorm)\n",
    "\n",
    "ax0.set_xlim(-xlim, xlim)\n",
    "ax0.set_ylim(-ylim, ylim)\n",
    "\n",
    "# Add axis labels (standard pyplot)\n",
    "ax0.set_xlabel('x (kpc)', fontsize=fontsize)\n",
    "ax0.set_ylabel('y (kpc)', fontsize=fontsize)\n",
    "\n",
    "\n",
    "\n",
    "\n",
    "rs = mw.RectangleSelector( ax0,                        # the axes to attach to\n",
    "                           callbackRectangle,         # the callback function\n",
    "                           drawtype='box',            # draw a box when selecting a region\n",
    "                           button=[1, 3],             # allow us to use left or right mouse button\n",
    "                                                      #button 1 is left mouse button\n",
    "                           minspanx=5, minspany=5,    # don't accept a box of fewer than 5 pixels\n",
    "                           spancoords='pixels' )      # units for above\n",
    "\n",
    "# to detect the 'R' key press to reset the image\n",
    "plt.connect(\"key_press_event\", onKeyPressed);"
   ]
  },
  {
   "cell_type": "code",
   "execution_count": 78,
   "metadata": {},
   "outputs": [
    {
     "name": "stdout",
     "output_type": "stream",
     "text": [
      "281\n"
     ]
    },
    {
     "data": {
      "text/plain": [
       "array([('M31', 2, 2.e-05, -23.9505, 173.416, -81.1963,  94.7691, -163.578, -11.0373 ),\n",
       "       ('M31', 2, 2.e-05, -28.3972, 182.507, -80.4641, 117.235 , -125.089, -39.2443 ),\n",
       "       ('M31', 2, 2.e-05, -25.0362, 170.492, -79.321 , 138.061 , -182.646,  -3.75729),\n",
       "       ('M31', 2, 2.e-05, -24.6503, 171.797, -79.4012, 104.626 , -183.118,  19.3082 )],\n",
       "      dtype=[('galname', '<U3'), ('type', 'u1'), ('m', '<f4'), ('x', '<f4'), ('y', '<f4'), ('z', '<f4'), ('vx', '<f4'), ('vy', '<f4'), ('vz', '<f4')])"
      ]
     },
     "execution_count": 78,
     "metadata": {},
     "output_type": "execute_result"
    }
   ],
   "source": [
    "sel_inx = index[0]\n",
    "\n",
    "selected = app.data[sel_inx]\n",
    "print(len(sel_inx))\n",
    "selected[:4]"
   ]
  },
  {
   "cell_type": "code",
   "execution_count": null,
   "metadata": {},
   "outputs": [],
   "source": []
  },
  {
   "cell_type": "code",
   "execution_count": null,
   "metadata": {},
   "outputs": [],
   "source": []
  }
 ],
 "metadata": {
  "kernelspec": {
   "display_name": "Python 3",
   "language": "python",
   "name": "python3"
  },
  "language_info": {
   "codemirror_mode": {
    "name": "ipython",
    "version": 3
   },
   "file_extension": ".py",
   "mimetype": "text/x-python",
   "name": "python",
   "nbconvert_exporter": "python",
   "pygments_lexer": "ipython3",
   "version": "3.6.7"
  },
  "toc": {
   "base_numbering": 1,
   "nav_menu": {},
   "number_sections": true,
   "sideBar": true,
   "skip_h1_title": true,
   "title_cell": "Table of Contents",
   "title_sidebar": "Contents",
   "toc_cell": true,
   "toc_position": {},
   "toc_section_display": true,
   "toc_window_display": true
  }
 },
 "nbformat": 4,
 "nbformat_minor": 4
}
