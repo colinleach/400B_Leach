{
 "cells": [
  {
   "cell_type": "markdown",
   "metadata": {},
   "source": [
    "# Close approach"
   ]
  },
  {
   "cell_type": "markdown",
   "metadata": {
    "toc": true
   },
   "source": [
    "<h1>Table of Contents<span class=\"tocSkip\"></span></h1>\n",
    "<div class=\"toc\"><ul class=\"toc-item\"></ul></div>"
   ]
  },
  {
   "cell_type": "code",
   "execution_count": 28,
   "metadata": {},
   "outputs": [],
   "source": [
    "import numpy as np\n",
    "from numpy.linalg import norm\n",
    "\n",
    "# import plotting modules\n",
    "import matplotlib\n",
    "import matplotlib.pyplot as plt\n",
    "from matplotlib.colors import LogNorm\n",
    "import matplotlib.widgets as mw  # get access to the widgets\n",
    "\n",
    "%matplotlib qt\n",
    "\n",
    "from galaxy.db import DB\n",
    "from galaxy.galaxies import Galaxies\n",
    "from galaxy.galaxy import Galaxy\n",
    "from galaxy.timecourse import TimeCourse\n",
    "from galaxy.plots import Plots\n",
    "from galaxy.approaches import Approaches"
   ]
  },
  {
   "cell_type": "code",
   "execution_count": 2,
   "metadata": {},
   "outputs": [],
   "source": [
    "import mpl_scatter_density\n",
    "\n",
    "# Make the norm object to define the image stretch\n",
    "from astropy.visualization import LogStretch\n",
    "from astropy.visualization.mpl_normalize import ImageNormalize\n",
    "lognorm = ImageNormalize(vmin=0., vmax=1000, stretch=LogStretch())"
   ]
  },
  {
   "cell_type": "code",
   "execution_count": 3,
   "metadata": {},
   "outputs": [],
   "source": [
    "#adjust tick label font size\n",
    "label_size = 14\n",
    "matplotlib.rcParams['xtick.labelsize'] = label_size \n",
    "matplotlib.rcParams['ytick.labelsize'] = label_size"
   ]
  },
  {
   "cell_type": "code",
   "execution_count": 29,
   "metadata": {},
   "outputs": [],
   "source": [
    "def plot_density_views(disks, title, xlim=150, ylim=150, pngout=False, fname=None):\n",
    "    fig = plt.figure(figsize=(10,10))\n",
    "    fontsize = 16\n",
    "\n",
    "    # top left\n",
    "    ax0 = fig.add_subplot(1, 1, 1, projection='scatter_density')\n",
    "    ax0.scatter_density(disks[0], disks[1], norm=lognorm)\n",
    "\n",
    "    ax0.set_xlim(-xlim, xlim)\n",
    "    ax0.set_ylim(-ylim, ylim)\n",
    "\n",
    "    # Add axis labels (standard pyplot)\n",
    "    ax0.set_xlabel('x (kpc)', fontsize=fontsize)\n",
    "    ax0.set_ylabel('y (kpc)', fontsize=fontsize)\n",
    "    \n",
    "    # Save file\n",
    "    if pngout:\n",
    "        plt.savefig(fname, dpi='figure')\n",
    "        plt.close();  "
   ]
  },
  {
   "cell_type": "code",
   "execution_count": 6,
   "metadata": {},
   "outputs": [],
   "source": [
    "snap = 301\n",
    "disks, t = get_xyz(snap)\n",
    "title = f\"\\n\\nSnap: {snap:03}\\nElapsed time: {t:5.3f} Gyr\""
   ]
  },
  {
   "cell_type": "code",
   "execution_count": 7,
   "metadata": {},
   "outputs": [
    {
     "name": "stdout",
     "output_type": "stream",
     "text": [
      "301 "
     ]
    },
    {
     "name": "stderr",
     "output_type": "stream",
     "text": [
      "/home/colin/.pyenv/versions/miniconda3-4.2.12/envs/400b/lib/python3.6/site-packages/mpl_scatter_density/generic_density_artist.py:74: RuntimeWarning: All-NaN slice encountered\n",
      "  vmin = self._density_vmin(array)\n",
      "/home/colin/.pyenv/versions/miniconda3-4.2.12/envs/400b/lib/python3.6/site-packages/mpl_scatter_density/generic_density_artist.py:79: RuntimeWarning: All-NaN slice encountered\n",
      "  vmax = self._density_vmax(array)\n"
     ]
    }
   ],
   "source": [
    "plot_density_views(disks, title, pngout=False, fname=f\"approach_{snap:03}.png\")\n",
    "print(snap, end=' ')"
   ]
  },
  {
   "cell_type": "code",
   "execution_count": 62,
   "metadata": {},
   "outputs": [],
   "source": [
    "snap = 300\n",
    "app = Approaches(snap=snap, usesql=True)\n",
    "t = app.time.value / 1000"
   ]
  },
  {
   "cell_type": "code",
   "execution_count": 64,
   "metadata": {},
   "outputs": [
    {
     "data": {
      "text/plain": [
       "((3, 1166500), (1166500,))"
      ]
     },
     "execution_count": 64,
     "metadata": {},
     "output_type": "execute_result"
    }
   ],
   "source": [
    "# get two (3,N) arrays with just position/velocity coordinates\n",
    "xyz = app.xyz()\n",
    "vxyz = app.vxyz()\n",
    "\n",
    "v = norm(vxyz, axis=0)\n",
    "\n",
    "# center the collection visually (not CoM)\n",
    "centroid = np.mean(xyz, axis=1)\n",
    "xyz -= centroid[:,np.newaxis]\n",
    "xyz.shape, v.shape"
   ]
  },
  {
   "cell_type": "code",
   "execution_count": 168,
   "metadata": {},
   "outputs": [],
   "source": [
    "index = None\n",
    "\n",
    "def callbackRectangle( click, release ): # the events are click and release\n",
    "    \"\"\"\n",
    "    \"\"\"\n",
    "    \n",
    "    global index\n",
    "    \n",
    "    # create a rectangle\n",
    "    width = np.abs(release.xdata - click.xdata)\n",
    "    height = np.abs(release.ydata - click.ydata)\n",
    "    \n",
    "    rect = plt.Rectangle( (click.xdata, click.ydata), width, height,\n",
    "                            fill=False, color='yellow', lw=1)\n",
    "    \n",
    "    # clear old rectangles, add new one\n",
    "    [p.remove() for p in reversed(ax0.patches)]\n",
    "    ax0.add_patch(rect)\n",
    "    \n",
    "    # extrema will be useful for setting axes\n",
    "    xmin = min([click.xdata, release.xdata])\n",
    "    xmax = max([click.xdata, release.xdata])\n",
    "    ymin = min([click.ydata, release.ydata])\n",
    "    ymax = max([click.ydata, release.ydata])\n",
    "    \n",
    "    index = np.where( (x > xmin) & (x < xmax) & (y > ymin) & (y < ymax) )\n",
    "    \n",
    "    # fill in mid and right panels\n",
    "    add_velocity_plot(ax1, xmin, xmax, ymin, ymax)\n",
    "    add_origin_plot(ax2, xmin, xmax, ymin, ymax)\n",
    "    plt.tight_layout()\n",
    "    \n",
    "#     ref = ax[1].scatter(x[index], y[index], s=1)\n",
    "\n",
    "    # Save the file"
   ]
  },
  {
   "cell_type": "code",
   "execution_count": 162,
   "metadata": {},
   "outputs": [],
   "source": [
    "def onKeyPressed(event):\n",
    "    \n",
    "    # eventually want to reset by removing selection\n",
    "    pass\n",
    "\n",
    "#     if event.key in ['R', 'r']:\n",
    "#         ax.set_xlim(-30,30)\n",
    "#         ax.set_ylim(-30,30)"
   ]
  },
  {
   "cell_type": "code",
   "execution_count": 203,
   "metadata": {},
   "outputs": [],
   "source": [
    "def add_velocity_plot(ax, xmin, xmax, ymin, ymax):\n",
    "\n",
    "    sel_inx = index[0]\n",
    "    sel_xyz = xyz[:,sel_inx]\n",
    "    sel_vxyz = vxyz[:,sel_inx]\n",
    "#     print('x: ', len(selected['x']), selected['x'])\n",
    "\n",
    "    if index is not None:\n",
    "#         ax1.quiver(x[index], y[index], vx[index], vy[index], color='gray')\n",
    "        ax1.quiver(sel_xyz[0], sel_xyz[1], sel_vxyz[0], sel_vxyz[1], color='gray')\n",
    "\n",
    "    ax.set_xlim(xmin, xmax)\n",
    "    ax.set_ylim(ymin, ymax)\n",
    "\n",
    "    # Add axis labels (standard pyplot)\n",
    "    ax.set_xlabel('x (kpc)', fontsize=fontsize)\n",
    "    ax.set_ylabel('y (kpc)', fontsize=fontsize)"
   ]
  },
  {
   "cell_type": "code",
   "execution_count": 230,
   "metadata": {},
   "outputs": [],
   "source": [
    "def add_origin_plot(ax, xmin, xmax, ymin, ymax):\n",
    "\n",
    "    if index is not None:\n",
    "        sel_inx = index[0]\n",
    "        sel_x, sel_y, sel_z = xyz[:,sel_inx]\n",
    "        sel_data = app.data[sel_inx]\n",
    "        sel_galname = sel_data['galname']\n",
    "        sel_type = sel_data['type']\n",
    "        \n",
    "        markersize = 5\n",
    "        group = np.where((sel_galname=='MW ') & (sel_type==2))\n",
    "        ax.scatter(sel_x[group], sel_y[group], color='k', s=markersize, label='MW disk')\n",
    "        \n",
    "        group = np.where((sel_galname=='M31') & (sel_type==2))\n",
    "        ax.scatter(sel_x[group], sel_y[group], color='g', s=markersize, label='M31 disk')\n",
    "        \n",
    "        group = np.where((sel_galname=='MW ') & (sel_type==3))\n",
    "        ax.scatter(sel_x[group], sel_y[group], color='r', s=markersize, marker='^', label='MW bulge')\n",
    "        \n",
    "        group = np.where((sel_galname=='M31') & (sel_type==3))\n",
    "        ax.scatter(sel_x[group], sel_y[group], color='b', s=markersize, marker='^', label='M31 bulge')\n",
    "\n",
    "    ax.set_xlim(xmin, xmax)\n",
    "    ax.set_ylim(ymin, ymax)\n",
    "\n",
    "    # Add axis labels (standard pyplot)\n",
    "    ax.set_xlabel('x (kpc)', fontsize=fontsize)\n",
    "    ax.set_ylabel('y (kpc)', fontsize=fontsize)\n",
    "    \n",
    "    if ax.get_legend() is not None:\n",
    "        ax.get_legend().remove()\n",
    "    ax.legend(shadow=True)"
   ]
  },
  {
   "cell_type": "code",
   "execution_count": 231,
   "metadata": {
    "scrolled": false
   },
   "outputs": [],
   "source": [
    "x,y,z = xyz\n",
    "vx,vy,vz = vxyz\n",
    "\n",
    "fig = plt.figure(figsize=(18,6))\n",
    "fontsize = 16\n",
    "titlesize = 20\n",
    "\n",
    "xlim = ylim = 150\n",
    "\n",
    "# top left\n",
    "ax0 = fig.add_subplot(1, 3, 1, projection='scatter_density')\n",
    "ax0.scatter_density(x, y, norm=lognorm)\n",
    "\n",
    "ax0.set_xlim(-xlim, xlim)\n",
    "ax0.set_ylim(-ylim, ylim)\n",
    "\n",
    "# Add axis labels (standard pyplot)\n",
    "ax0.set_xlabel('x (kpc)', fontsize=fontsize)\n",
    "ax0.set_ylabel('y (kpc)', fontsize=fontsize)\n",
    "\n",
    "ax0.set_title(f\"Density at t={t:5.2f} Gyr\", fontsize=titlesize)\n",
    "\n",
    "ax1 = fig.add_subplot(1, 3, 2)\n",
    "ax1.set_title('Velocities of selected stars', fontsize=titlesize)\n",
    "\n",
    "ax2 = fig.add_subplot(1, 3, 3)\n",
    "ax2.set_title('Origins of selected stars', fontsize=titlesize)\n",
    "\n",
    "\n",
    "\n",
    "rs = mw.RectangleSelector( ax0,                        # the axes to attach to\n",
    "                           callbackRectangle,         # the callback function\n",
    "                           drawtype='box',            # draw a box when selecting a region\n",
    "                           button=[1, 3],             # allow us to use left or right mouse button\n",
    "                                                      #button 1 is left mouse button\n",
    "                           minspanx=5, minspany=5,    # don't accept a box of fewer than 5 pixels\n",
    "                           spancoords='pixels' )      # units for above\n",
    "\n",
    "# to detect the 'R' key press to reset the image\n",
    "plt.connect(\"key_press_event\", onKeyPressed);"
   ]
  },
  {
   "cell_type": "code",
   "execution_count": 189,
   "metadata": {},
   "outputs": [
    {
     "name": "stdout",
     "output_type": "stream",
     "text": [
      "1443\n"
     ]
    },
    {
     "data": {
      "text/plain": [
       "array([-57.2011, -49.2731, -59.6344, ..., -57.7633, -60.6629, -63.7627],\n",
       "      dtype=float32)"
      ]
     },
     "execution_count": 189,
     "metadata": {},
     "output_type": "execute_result"
    },
    {
     "name": "stdout",
     "output_type": "stream",
     "text": [
      "x:  1211 [-39.6964 -57.2011 -49.2731 ... -60.6629 -60.6496 -63.7627]\n"
     ]
    }
   ],
   "source": [
    "sel_inx = index[0]\n",
    "\n",
    "selected = app.data[sel_inx]\n",
    "print(len(sel_inx))\n",
    "selected['x']"
   ]
  },
  {
   "cell_type": "code",
   "execution_count": 129,
   "metadata": {},
   "outputs": [
    {
     "data": {
      "text/plain": [
       "Text(0, 0.5, 'y (kpc)')"
      ]
     },
     "execution_count": 129,
     "metadata": {},
     "output_type": "execute_result"
    }
   ],
   "source": [
    "x,y,z = xyz[:,sel_inx]\n",
    "vx,vy,vz = vxyz[:,sel_inx]\n",
    "\n",
    "fig = plt.figure(figsize=(10,10))\n",
    "fontsize = 16\n",
    "\n",
    "xlim = ylim = 150\n",
    "\n",
    "# top left\n",
    "ax0 = fig.add_subplot(1, 1, 1)\n",
    "ax0.quiver(x, y, vx, vy, color='gray')\n",
    "\n",
    "# ax0.set_xlim(-xlim, xlim)\n",
    "# ax0.set_ylim(-ylim, ylim)\n",
    "\n",
    "# Add axis labels (standard pyplot)\n",
    "ax0.set_xlabel('x (kpc)', fontsize=fontsize)\n",
    "ax0.set_ylabel('y (kpc)', fontsize=fontsize)\n"
   ]
  },
  {
   "cell_type": "code",
   "execution_count": 149,
   "metadata": {},
   "outputs": [
    {
     "data": {
      "text/plain": [
       "[<matplotlib.patches.Rectangle at 0x7f907005fb70>,\n",
       " <matplotlib.patches.Rectangle at 0x7f906bfff358>,\n",
       " <matplotlib.patches.Rectangle at 0x7f90700b81d0>]"
      ]
     },
     "execution_count": 149,
     "metadata": {},
     "output_type": "execute_result"
    }
   ],
   "source": [
    "ax0.patches"
   ]
  },
  {
   "cell_type": "code",
   "execution_count": 222,
   "metadata": {},
   "outputs": [],
   "source": [
    "?plt.scatter"
   ]
  },
  {
   "cell_type": "code",
   "execution_count": null,
   "metadata": {},
   "outputs": [],
   "source": []
  }
 ],
 "metadata": {
  "kernelspec": {
   "display_name": "Python 3",
   "language": "python",
   "name": "python3"
  },
  "language_info": {
   "codemirror_mode": {
    "name": "ipython",
    "version": 3
   },
   "file_extension": ".py",
   "mimetype": "text/x-python",
   "name": "python",
   "nbconvert_exporter": "python",
   "pygments_lexer": "ipython3",
   "version": "3.6.7"
  },
  "toc": {
   "base_numbering": 1,
   "nav_menu": {},
   "number_sections": true,
   "sideBar": true,
   "skip_h1_title": true,
   "title_cell": "Table of Contents",
   "title_sidebar": "Contents",
   "toc_cell": true,
   "toc_position": {},
   "toc_section_display": true,
   "toc_window_display": true
  }
 },
 "nbformat": 4,
 "nbformat_minor": 4
}
