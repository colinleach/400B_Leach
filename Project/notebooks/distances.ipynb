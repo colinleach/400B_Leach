{
 "cells": [
  {
   "cell_type": "markdown",
   "metadata": {
    "toc": true
   },
   "source": [
    "<h1>Table of Contents<span class=\"tocSkip\"></span></h1>\n",
    "<div class=\"toc\"><ul class=\"toc-item\"></ul></div>"
   ]
  },
  {
   "cell_type": "code",
   "execution_count": 80,
   "metadata": {},
   "outputs": [],
   "source": [
    "# scientific package imports\n",
    "import numpy as np\n",
    "from numpy.linalg import norm\n",
    "import matplotlib.pyplot as plt\n",
    "from matplotlib import rcParams\n",
    "\n",
    "import astropy.units as u\n",
    "\n",
    "from psycopg2.extras import execute_values\n",
    "\n",
    "# import my own classes\n",
    "# from galaxy.galaxy import Galaxy\n",
    "# from galaxy.galaxies import Galaxies\n",
    "# from galaxy.massprofile import MassProfile\n",
    "from galaxy.timecourse import TimeCourse\n",
    "# from galaxy.centerofmass import CenterOfMass\n",
    "# from galaxy.plots import Plots\n",
    "from galaxy.db import DB"
   ]
  },
  {
   "cell_type": "code",
   "execution_count": 2,
   "metadata": {},
   "outputs": [],
   "source": [
    "db = DB()\n",
    "tc = TimeCourse()\n",
    "cur = db.get_cursor()"
   ]
  },
  {
   "cell_type": "code",
   "execution_count": 32,
   "metadata": {},
   "outputs": [],
   "source": [
    "def get_distances(gal, snap):\n",
    "    data = np.array(db.get_xyz(gal, snap),\n",
    "                    dtype=[('pnum', '<i4'), ('x', '<f4'), ('y', '<f4'), ('z', '<f4')])\n",
    "    xyz = np.array([data[xi] for xi in ('x','y','z')])\n",
    "    MW_com, _ = tc.get_one_com('MW', snap)\n",
    "    M31_com, _ = tc.get_one_com('M31', snap)\n",
    "    M33_com, _ = tc.get_one_com('M33', snap)\n",
    "    d_MW = norm(xyz - MW_com[:, np.newaxis], axis=0)\n",
    "    d_M31 = norm(xyz - M31_com[:, np.newaxis], axis=0)\n",
    "    d_M33 = norm(xyz - M33_com[:, np.newaxis], axis=0)\n",
    "    return data['pnum'], d_MW, d_M31, d_M33"
   ]
  },
  {
   "cell_type": "code",
   "execution_count": 79,
   "metadata": {},
   "outputs": [],
   "source": [
    "def write_dist_db_old(gal, snap):\n",
    "    pnum, d_MW, d_M31, d_M33 = get_distances(gal, snap)\n",
    "    dist = np.array([d_MW, d_M31, d_M33])\n",
    "    nearest = np.argmin(dist, axis=0)\n",
    "\n",
    "\n",
    "    colheads = ','.join(['galname','snap','pnum','d_mw','d_m31','d_m33','nearest'])\n",
    "    query = f\"\"\"\n",
    "        INSERT INTO distances( {colheads} ) \n",
    "        VALUES (%s,%s,%s,%s,%s,%s,%s)\n",
    "        ON CONFLICT DO NOTHING\n",
    "        \"\"\"\n",
    "\n",
    "    for i in range(len(d_MW)):\n",
    "        rec = [gal, snap, int(pnum[i]), float(d_MW[i]), \n",
    "               float(d_M31[i]), float(d_M33[i]), float(nearest[i])]\n",
    "        cur.execute(query, rec)\n",
    "        if i%1000 == 0:\n",
    "            print(i//1000, end=', ')"
   ]
  },
  {
   "cell_type": "code",
   "execution_count": 99,
   "metadata": {},
   "outputs": [],
   "source": [
    "def write_dist_db(gal, snap):\n",
    "    pnum, d_MW, d_M31, d_M33 = get_distances(gal, snap)\n",
    "    dist = np.array([d_MW, d_M31, d_M33])\n",
    "    nearest = np.argmin(dist, axis=0)\n",
    "    \n",
    "    data = [(gal, snap, int(pnum[i]), float(d_MW[i]), \n",
    "               float(d_M31[i]), float(d_M33[i]), int(nearest[i]))\n",
    "                for i in range(len(pnum))]\n",
    "#     return data\n",
    "\n",
    "    colheads = ','.join(['galname','snap','pnum','d_mw','d_m31','d_m33','nearest'])\n",
    "    query = f\"\"\"\n",
    "        INSERT INTO distances( {colheads} ) \n",
    "        VALUES %s\n",
    "        ON CONFLICT DO NOTHING\n",
    "        \"\"\"\n",
    "    \n",
    "    execute_values(cur, query, data, page_size=1000)"
   ]
  },
  {
   "cell_type": "code",
   "execution_count": null,
   "metadata": {},
   "outputs": [
    {
     "name": "stdout",
     "output_type": "stream",
     "text": [
      "MW 10\n",
      "M31 10\n"
     ]
    }
   ],
   "source": [
    "for snap in range(10, 802, 10):\n",
    "    for gal in ('MW','M31','M33'):\n",
    "        print(gal, snap)\n",
    "        data = write_dist_db(gal, snap)"
   ]
  },
  {
   "cell_type": "code",
   "execution_count": 103,
   "metadata": {},
   "outputs": [],
   "source": [
    "?range"
   ]
  },
  {
   "cell_type": "code",
   "execution_count": null,
   "metadata": {},
   "outputs": [],
   "source": []
  },
  {
   "cell_type": "code",
   "execution_count": 88,
   "metadata": {},
   "outputs": [],
   "source": [
    "nearest = np.argmin(dist, axis=0)"
   ]
  },
  {
   "cell_type": "code",
   "execution_count": 89,
   "metadata": {},
   "outputs": [],
   "source": [
    "np.save('MW_0_nearest', nearest)"
   ]
  },
  {
   "cell_type": "code",
   "execution_count": 60,
   "metadata": {},
   "outputs": [],
   "source": [
    "index = np.where(nearest > 0)"
   ]
  },
  {
   "cell_type": "code",
   "execution_count": 61,
   "metadata": {},
   "outputs": [
    {
     "data": {
      "text/plain": [
       "(array([     3,      5,      8, ..., 670280, 673446, 673927]),)"
      ]
     },
     "execution_count": 61,
     "metadata": {},
     "output_type": "execute_result"
    }
   ],
   "source": [
    "index"
   ]
  },
  {
   "cell_type": "code",
   "execution_count": 63,
   "metadata": {},
   "outputs": [
    {
     "data": {
      "text/plain": [
       "18035"
      ]
     },
     "execution_count": 63,
     "metadata": {},
     "output_type": "execute_result"
    }
   ],
   "source": [
    "len(index[0])"
   ]
  },
  {
   "cell_type": "code",
   "execution_count": 64,
   "metadata": {},
   "outputs": [],
   "source": [
    "data = np.array(db.get_xyz(gal, snap),\n",
    "                    dtype=[('pnum', '<i4'), ('x', '<f4'), ('y', '<f4'), ('z', '<f4')])"
   ]
  },
  {
   "cell_type": "code",
   "execution_count": 65,
   "metadata": {},
   "outputs": [
    {
     "data": {
      "text/plain": [
       "array([(     3, 2759.02  , 1955.83 , -1998.68  ),\n",
       "       (     5, -983.576 , -490.894,  -316.738 ),\n",
       "       (     8,  -33.2658,  884.657,  -311.281 ), ...,\n",
       "       (670280, -661.786 ,  240.814,    20.1039),\n",
       "       (673446, -460.166 ,  150.04 ,  -873.53  ),\n",
       "       (673927,  -99.3205,  251.37 ,  -552.577 )],\n",
       "      dtype=[('pnum', '<i4'), ('x', '<f4'), ('y', '<f4'), ('z', '<f4')])"
      ]
     },
     "execution_count": 65,
     "metadata": {},
     "output_type": "execute_result"
    }
   ],
   "source": [
    "data[index]"
   ]
  },
  {
   "cell_type": "code",
   "execution_count": 66,
   "metadata": {},
   "outputs": [
    {
     "data": {
      "text/plain": [
       "array([3927.0854 , 1143.8733 ,  935.6398 , ...,  702.9106 ,  996.64685,\n",
       "        612.7346 ], dtype=float32)"
      ]
     },
     "execution_count": 66,
     "metadata": {},
     "output_type": "execute_result"
    }
   ],
   "source": [
    "d_MW[index]"
   ]
  },
  {
   "cell_type": "code",
   "execution_count": 67,
   "metadata": {},
   "outputs": [
    {
     "data": {
      "text/plain": [
       "array([3818.949  , 1258.2881 ,  440.44144, ...,  557.62036,  752.66907,\n",
       "        528.1677 ], dtype=float32)"
      ]
     },
     "execution_count": 67,
     "metadata": {},
     "output_type": "execute_result"
    }
   ],
   "source": [
    "d_M31[index]"
   ]
  },
  {
   "cell_type": "code",
   "execution_count": null,
   "metadata": {},
   "outputs": [],
   "source": []
  }
 ],
 "metadata": {
  "kernelspec": {
   "display_name": "Python 3",
   "language": "python",
   "name": "python3"
  },
  "language_info": {
   "codemirror_mode": {
    "name": "ipython",
    "version": 3
   },
   "file_extension": ".py",
   "mimetype": "text/x-python",
   "name": "python",
   "nbconvert_exporter": "python",
   "pygments_lexer": "ipython3",
   "version": "3.6.7"
  },
  "toc": {
   "base_numbering": 1,
   "nav_menu": {},
   "number_sections": true,
   "sideBar": true,
   "skip_h1_title": true,
   "title_cell": "Table of Contents",
   "title_sidebar": "Contents",
   "toc_cell": true,
   "toc_position": {
    "height": "calc(100% - 180px)",
    "left": "10px",
    "top": "150px",
    "width": "221.264px"
   },
   "toc_section_display": true,
   "toc_window_display": true
  }
 },
 "nbformat": 4,
 "nbformat_minor": 4
}
