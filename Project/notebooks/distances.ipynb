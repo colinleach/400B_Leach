{
 "cells": [
  {
   "cell_type": "markdown",
   "metadata": {
    "toc": true
   },
   "source": [
    "<h1>Table of Contents<span class=\"tocSkip\"></span></h1>\n",
    "<div class=\"toc\"><ul class=\"toc-item\"></ul></div>"
   ]
  },
  {
   "cell_type": "code",
   "execution_count": 80,
   "metadata": {},
   "outputs": [],
   "source": [
    "# scientific package imports\n",
    "import numpy as np\n",
    "from numpy.linalg import norm\n",
    "import matplotlib.pyplot as plt\n",
    "from matplotlib import rcParams\n",
    "\n",
    "import astropy.units as u\n",
    "\n",
    "from psycopg2.extras import execute_values\n",
    "\n",
    "# import my own classes\n",
    "# from galaxy.galaxy import Galaxy\n",
    "# from galaxy.galaxies import Galaxies\n",
    "# from galaxy.massprofile import MassProfile\n",
    "from galaxy.timecourse import TimeCourse\n",
    "# from galaxy.centerofmass import CenterOfMass\n",
    "# from galaxy.plots import Plots\n",
    "from galaxy.db import DB"
   ]
  },
  {
   "cell_type": "code",
   "execution_count": 2,
   "metadata": {},
   "outputs": [],
   "source": [
    "db = DB()\n",
    "tc = TimeCourse()\n",
    "cur = db.get_cursor()"
   ]
  },
  {
   "cell_type": "code",
   "execution_count": 32,
   "metadata": {},
   "outputs": [],
   "source": [
    "def get_distances(gal, snap):\n",
    "    data = np.array(db.get_xyz(gal, snap),\n",
    "                    dtype=[('pnum', '<i4'), ('x', '<f4'), ('y', '<f4'), ('z', '<f4')])\n",
    "    xyz = np.array([data[xi] for xi in ('x','y','z')])\n",
    "    MW_com, _ = tc.get_one_com('MW', snap)\n",
    "    M31_com, _ = tc.get_one_com('M31', snap)\n",
    "    M33_com, _ = tc.get_one_com('M33', snap)\n",
    "    d_MW = norm(xyz - MW_com[:, np.newaxis], axis=0)\n",
    "    d_M31 = norm(xyz - M31_com[:, np.newaxis], axis=0)\n",
    "    d_M33 = norm(xyz - M33_com[:, np.newaxis], axis=0)\n",
    "    return data['pnum'], d_MW, d_M31, d_M33"
   ]
  },
  {
   "cell_type": "code",
   "execution_count": 79,
   "metadata": {},
   "outputs": [],
   "source": [
    "def write_dist_db_old(gal, snap):\n",
    "    pnum, d_MW, d_M31, d_M33 = get_distances(gal, snap)\n",
    "    dist = np.array([d_MW, d_M31, d_M33])\n",
    "    nearest = np.argmin(dist, axis=0)\n",
    "\n",
    "\n",
    "    colheads = ','.join(['galname','snap','pnum','d_mw','d_m31','d_m33','nearest'])\n",
    "    query = f\"\"\"\n",
    "        INSERT INTO distances( {colheads} ) \n",
    "        VALUES (%s,%s,%s,%s,%s,%s,%s)\n",
    "        ON CONFLICT DO NOTHING\n",
    "        \"\"\"\n",
    "\n",
    "    for i in range(len(d_MW)):\n",
    "        rec = [gal, snap, int(pnum[i]), float(d_MW[i]), \n",
    "               float(d_M31[i]), float(d_M33[i]), float(nearest[i])]\n",
    "        cur.execute(query, rec)\n",
    "        if i%1000 == 0:\n",
    "            print(i//1000, end=', ')"
   ]
  },
  {
   "cell_type": "code",
   "execution_count": 99,
   "metadata": {},
   "outputs": [],
   "source": [
    "def write_dist_db(gal, snap):\n",
    "    pnum, d_MW, d_M31, d_M33 = get_distances(gal, snap)\n",
    "    dist = np.array([d_MW, d_M31, d_M33])\n",
    "    nearest = np.argmin(dist, axis=0)\n",
    "    \n",
    "    data = [(gal, snap, int(pnum[i]), float(d_MW[i]), \n",
    "               float(d_M31[i]), float(d_M33[i]), int(nearest[i]))\n",
    "                for i in range(len(pnum))]\n",
    "#     return data\n",
    "\n",
    "    colheads = ','.join(['galname','snap','pnum','d_mw','d_m31','d_m33','nearest'])\n",
    "    query = f\"\"\"\n",
    "        INSERT INTO distances( {colheads} ) \n",
    "        VALUES %s\n",
    "        ON CONFLICT DO NOTHING\n",
    "        \"\"\"\n",
    "    \n",
    "    execute_values(cur, query, data, page_size=1000)"
   ]
  },
  {
   "cell_type": "code",
   "execution_count": 104,
   "metadata": {},
   "outputs": [
    {
     "name": "stdout",
     "output_type": "stream",
     "text": [
      "MW 10\n",
      "M31 10\n",
      "M33 10\n",
      "MW 20\n",
      "M31 20\n",
      "M33 20\n",
      "MW 30\n",
      "M31 30\n",
      "M33 30\n",
      "MW 40\n",
      "M31 40\n",
      "M33 40\n",
      "MW 50\n",
      "M31 50\n",
      "M33 50\n",
      "MW 60\n",
      "M31 60\n",
      "M33 60\n",
      "MW 70\n",
      "M31 70\n",
      "M33 70\n",
      "MW 80\n",
      "M31 80\n",
      "M33 80\n",
      "MW 90\n",
      "M31 90\n",
      "M33 90\n",
      "MW 100\n",
      "M31 100\n",
      "M33 100\n",
      "MW 110\n",
      "M31 110\n",
      "M33 110\n",
      "MW 120\n",
      "M31 120\n",
      "M33 120\n",
      "MW 130\n",
      "M31 130\n",
      "M33 130\n",
      "MW 140\n",
      "M31 140\n",
      "M33 140\n",
      "MW 150\n",
      "M31 150\n",
      "M33 150\n",
      "MW 160\n",
      "M31 160\n",
      "M33 160\n",
      "MW 170\n",
      "M31 170\n",
      "M33 170\n",
      "MW 180\n",
      "M31 180\n",
      "M33 180\n",
      "MW 190\n",
      "M31 190\n",
      "M33 190\n",
      "MW 200\n",
      "M31 200\n",
      "M33 200\n",
      "MW 210\n",
      "M31 210\n",
      "M33 210\n",
      "MW 220\n",
      "M31 220\n",
      "M33 220\n",
      "MW 230\n",
      "M31 230\n",
      "M33 230\n",
      "MW 240\n",
      "M31 240\n",
      "M33 240\n",
      "MW 250\n",
      "M31 250\n",
      "M33 250\n",
      "MW 260\n",
      "M31 260\n",
      "M33 260\n",
      "MW 270\n",
      "M31 270\n",
      "M33 270\n",
      "MW 280\n",
      "M31 280\n",
      "M33 280\n",
      "MW 290\n",
      "M31 290\n",
      "M33 290\n",
      "MW 300\n",
      "M31 300\n",
      "M33 300\n",
      "MW 310\n",
      "M31 310\n",
      "M33 310\n",
      "MW 320\n",
      "M31 320\n",
      "M33 320\n",
      "MW 330\n",
      "M31 330\n",
      "M33 330\n",
      "MW 340\n",
      "M31 340\n",
      "M33 340\n",
      "MW 350\n",
      "M31 350\n",
      "M33 350\n",
      "MW 360\n",
      "M31 360\n",
      "M33 360\n",
      "MW 370\n",
      "M31 370\n",
      "M33 370\n",
      "MW 380\n",
      "M31 380\n",
      "M33 380\n",
      "MW 390\n",
      "M31 390\n",
      "M33 390\n",
      "MW 400\n",
      "M31 400\n",
      "M33 400\n",
      "MW 410\n",
      "M31 410\n",
      "M33 410\n",
      "MW 420\n",
      "M31 420\n",
      "M33 420\n",
      "MW 430\n",
      "M31 430\n",
      "M33 430\n",
      "MW 440\n",
      "M31 440\n",
      "M33 440\n",
      "MW 450\n",
      "M31 450\n",
      "M33 450\n",
      "MW 460\n",
      "M31 460\n",
      "M33 460\n",
      "MW 470\n",
      "M31 470\n",
      "M33 470\n",
      "MW 480\n",
      "M31 480\n",
      "M33 480\n",
      "MW 490\n",
      "M31 490\n",
      "M33 490\n",
      "MW 500\n",
      "M31 500\n",
      "M33 500\n",
      "MW 510\n",
      "M31 510\n",
      "M33 510\n",
      "MW 520\n",
      "M31 520\n",
      "M33 520\n",
      "MW 530\n",
      "M31 530\n",
      "M33 530\n",
      "MW 540\n",
      "M31 540\n",
      "M33 540\n",
      "MW 550\n",
      "M31 550\n",
      "M33 550\n",
      "MW 560\n",
      "M31 560\n",
      "M33 560\n",
      "MW 570\n",
      "M31 570\n",
      "M33 570\n",
      "MW 580\n",
      "M31 580\n",
      "M33 580\n",
      "MW 590\n",
      "M31 590\n",
      "M33 590\n",
      "MW 600\n",
      "M31 600\n",
      "M33 600\n",
      "MW 610\n",
      "M31 610\n",
      "M33 610\n",
      "MW 620\n",
      "M31 620\n",
      "M33 620\n",
      "MW 630\n",
      "M31 630\n",
      "M33 630\n",
      "MW 640\n",
      "M31 640\n",
      "M33 640\n",
      "MW 650\n",
      "M31 650\n",
      "M33 650\n",
      "MW 660\n",
      "M31 660\n",
      "M33 660\n",
      "MW 670\n",
      "M31 670\n",
      "M33 670\n",
      "MW 680\n",
      "M31 680\n",
      "M33 680\n",
      "MW 690\n",
      "M31 690\n",
      "M33 690\n",
      "MW 700\n",
      "M31 700\n",
      "M33 700\n",
      "MW 710\n",
      "M31 710\n",
      "M33 710\n",
      "MW 720\n",
      "M31 720\n",
      "M33 720\n",
      "MW 730\n",
      "M31 730\n",
      "M33 730\n",
      "MW 740\n",
      "M31 740\n",
      "M33 740\n",
      "MW 750\n",
      "M31 750\n",
      "M33 750\n",
      "MW 760\n",
      "M31 760\n",
      "M33 760\n",
      "MW 770\n",
      "M31 770\n",
      "M33 770\n",
      "MW 780\n",
      "M31 780\n",
      "M33 780\n",
      "MW 790\n",
      "M31 790\n",
      "M33 790\n",
      "MW 800\n",
      "M31 800\n",
      "M33 800\n"
     ]
    }
   ],
   "source": [
    "for snap in range(10, 802, 10):\n",
    "    for gal in ('MW','M31','M33'):\n",
    "        print(gal, snap)\n",
    "        data = write_dist_db(gal, snap)"
   ]
  },
  {
   "cell_type": "code",
   "execution_count": 103,
   "metadata": {},
   "outputs": [],
   "source": [
    "?range"
   ]
  },
  {
   "cell_type": "code",
   "execution_count": null,
   "metadata": {},
   "outputs": [],
   "source": []
  },
  {
   "cell_type": "code",
   "execution_count": 88,
   "metadata": {},
   "outputs": [],
   "source": [
    "nearest = np.argmin(dist, axis=0)"
   ]
  },
  {
   "cell_type": "code",
   "execution_count": 89,
   "metadata": {},
   "outputs": [],
   "source": [
    "np.save('MW_0_nearest', nearest)"
   ]
  },
  {
   "cell_type": "code",
   "execution_count": 60,
   "metadata": {},
   "outputs": [],
   "source": [
    "index = np.where(nearest > 0)"
   ]
  },
  {
   "cell_type": "code",
   "execution_count": 61,
   "metadata": {},
   "outputs": [
    {
     "data": {
      "text/plain": [
       "(array([     3,      5,      8, ..., 670280, 673446, 673927]),)"
      ]
     },
     "execution_count": 61,
     "metadata": {},
     "output_type": "execute_result"
    }
   ],
   "source": [
    "index"
   ]
  },
  {
   "cell_type": "code",
   "execution_count": 63,
   "metadata": {},
   "outputs": [
    {
     "data": {
      "text/plain": [
       "18035"
      ]
     },
     "execution_count": 63,
     "metadata": {},
     "output_type": "execute_result"
    }
   ],
   "source": [
    "len(index[0])"
   ]
  },
  {
   "cell_type": "code",
   "execution_count": 64,
   "metadata": {},
   "outputs": [],
   "source": [
    "data = np.array(db.get_xyz(gal, snap),\n",
    "                    dtype=[('pnum', '<i4'), ('x', '<f4'), ('y', '<f4'), ('z', '<f4')])"
   ]
  },
  {
   "cell_type": "code",
   "execution_count": 65,
   "metadata": {},
   "outputs": [
    {
     "data": {
      "text/plain": [
       "array([(     3, 2759.02  , 1955.83 , -1998.68  ),\n",
       "       (     5, -983.576 , -490.894,  -316.738 ),\n",
       "       (     8,  -33.2658,  884.657,  -311.281 ), ...,\n",
       "       (670280, -661.786 ,  240.814,    20.1039),\n",
       "       (673446, -460.166 ,  150.04 ,  -873.53  ),\n",
       "       (673927,  -99.3205,  251.37 ,  -552.577 )],\n",
       "      dtype=[('pnum', '<i4'), ('x', '<f4'), ('y', '<f4'), ('z', '<f4')])"
      ]
     },
     "execution_count": 65,
     "metadata": {},
     "output_type": "execute_result"
    }
   ],
   "source": [
    "data[index]"
   ]
  },
  {
   "cell_type": "code",
   "execution_count": 66,
   "metadata": {},
   "outputs": [
    {
     "data": {
      "text/plain": [
       "array([3927.0854 , 1143.8733 ,  935.6398 , ...,  702.9106 ,  996.64685,\n",
       "        612.7346 ], dtype=float32)"
      ]
     },
     "execution_count": 66,
     "metadata": {},
     "output_type": "execute_result"
    }
   ],
   "source": [
    "d_MW[index]"
   ]
  },
  {
   "cell_type": "code",
   "execution_count": 67,
   "metadata": {},
   "outputs": [
    {
     "data": {
      "text/plain": [
       "array([3818.949  , 1258.2881 ,  440.44144, ...,  557.62036,  752.66907,\n",
       "        528.1677 ], dtype=float32)"
      ]
     },
     "execution_count": 67,
     "metadata": {},
     "output_type": "execute_result"
    }
   ],
   "source": [
    "d_M31[index]"
   ]
  },
  {
   "cell_type": "code",
   "execution_count": null,
   "metadata": {},
   "outputs": [],
   "source": []
  }
 ],
 "metadata": {
  "kernelspec": {
   "display_name": "Python 3",
   "language": "python",
   "name": "python3"
  },
  "language_info": {
   "codemirror_mode": {
    "name": "ipython",
    "version": 3
   },
   "file_extension": ".py",
   "mimetype": "text/x-python",
   "name": "python",
   "nbconvert_exporter": "python",
   "pygments_lexer": "ipython3",
   "version": "3.6.7"
  },
  "toc": {
   "base_numbering": 1,
   "nav_menu": {},
   "number_sections": true,
   "sideBar": true,
   "skip_h1_title": true,
   "title_cell": "Table of Contents",
   "title_sidebar": "Contents",
   "toc_cell": true,
   "toc_position": {
    "height": "calc(100% - 180px)",
    "left": "10px",
    "top": "150px",
    "width": "221.264px"
   },
   "toc_section_display": true,
   "toc_window_display": true
  }
 },
 "nbformat": 4,
 "nbformat_minor": 4
}
