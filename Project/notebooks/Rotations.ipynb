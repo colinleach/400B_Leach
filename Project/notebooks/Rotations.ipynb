{
 "cells": [
  {
   "cell_type": "markdown",
   "metadata": {},
   "source": [
    "# Rework of Lab 7"
   ]
  },
  {
   "cell_type": "markdown",
   "metadata": {
    "toc": true
   },
   "source": [
    "<h1>Table of Contents<span class=\"tocSkip\"></span></h1>\n",
    "<div class=\"toc\"><ul class=\"toc-item\"><li><span><a href=\"#This-Lab:\" data-toc-modified-id=\"This-Lab:-1\"><span class=\"toc-item-num\">1&nbsp;&nbsp;</span>This Lab:</a></span></li><li><span><a href=\"#Disk-density-plot:\" data-toc-modified-id=\"Disk-density-plot:-2\"><span class=\"toc-item-num\">2&nbsp;&nbsp;</span>Disk density plot:</a></span></li><li><span><a href=\"#Edge-on-plot\" data-toc-modified-id=\"Edge-on-plot-3\"><span class=\"toc-item-num\">3&nbsp;&nbsp;</span>Edge-on plot</a></span></li><li><span><a href=\"#Face-on-plot\" data-toc-modified-id=\"Face-on-plot-4\"><span class=\"toc-item-num\">4&nbsp;&nbsp;</span>Face-on plot</a></span></li><li><span><a href=\"#Velocities\" data-toc-modified-id=\"Velocities-5\"><span class=\"toc-item-num\">5&nbsp;&nbsp;</span>Velocities</a></span></li></ul></div>"
   ]
  },
  {
   "cell_type": "code",
   "execution_count": 1,
   "metadata": {},
   "outputs": [
    {
     "ename": "ImportError",
     "evalue": "cannot import name 'density_contour'",
     "output_type": "error",
     "traceback": [
      "\u001b[0;31m---------------------------------------------------------------------------\u001b[0m",
      "\u001b[0;31mImportError\u001b[0m                               Traceback (most recent call last)",
      "\u001b[0;32m<ipython-input-1-acd731f82403>\u001b[0m in \u001b[0;36m<module>\u001b[0;34m\u001b[0m\n\u001b[1;32m     15\u001b[0m \u001b[0;32mfrom\u001b[0m \u001b[0mgalaxy\u001b[0m\u001b[0;34m.\u001b[0m\u001b[0mcenterofmass\u001b[0m \u001b[0;32mimport\u001b[0m \u001b[0mCenterOfMass\u001b[0m\u001b[0;34m\u001b[0m\u001b[0;34m\u001b[0m\u001b[0m\n\u001b[1;32m     16\u001b[0m \u001b[0;32mfrom\u001b[0m \u001b[0mgalaxy\u001b[0m\u001b[0;34m.\u001b[0m\u001b[0mmassprofile\u001b[0m \u001b[0;32mimport\u001b[0m \u001b[0mMassProfile\u001b[0m\u001b[0;34m\u001b[0m\u001b[0;34m\u001b[0m\u001b[0m\n\u001b[0;32m---> 17\u001b[0;31m \u001b[0;32mfrom\u001b[0m \u001b[0mgalaxy\u001b[0m\u001b[0;34m.\u001b[0m\u001b[0mutilities\u001b[0m \u001b[0;32mimport\u001b[0m \u001b[0mdensity_contour\u001b[0m\u001b[0;34m\u001b[0m\u001b[0;34m\u001b[0m\u001b[0m\n\u001b[0m\u001b[1;32m     18\u001b[0m \u001b[0;32mfrom\u001b[0m \u001b[0mgalaxy\u001b[0m\u001b[0;34m.\u001b[0m\u001b[0mtimecourse\u001b[0m \u001b[0;32mimport\u001b[0m \u001b[0mTimeCourse\u001b[0m\u001b[0;34m\u001b[0m\u001b[0;34m\u001b[0m\u001b[0m\n",
      "\u001b[0;31mImportError\u001b[0m: cannot import name 'density_contour'"
     ]
    }
   ],
   "source": [
    "# import modules\n",
    "import numpy as np\n",
    "from numpy.linalg import norm\n",
    "import astropy.units as u\n",
    "from astropy.constants import G\n",
    "\n",
    "# import plotting modules\n",
    "import matplotlib\n",
    "import matplotlib.pyplot as plt\n",
    "from matplotlib.colors import LogNorm\n",
    "%matplotlib inline\n",
    "\n",
    "# my modules\n",
    "from galaxy.galaxy import Galaxy\n",
    "from galaxy.centerofmass import CenterOfMass\n",
    "from galaxy.massprofile import MassProfile\n",
    "from galaxy.utilities import density_contour\n",
    "from galaxy.timecourse import TimeCourse"
   ]
  },
  {
   "cell_type": "markdown",
   "metadata": {},
   "source": [
    "## This Lab:\n",
    "\n",
    "A) Using Contour plots to identify substructure within the stellar disk of M31.\n",
    "\n",
    "B) Rotating the disk so that we are seeing it edge on\n",
    "\n",
    "C) Create plots to examine the kinematics of the disk"
   ]
  },
  {
   "cell_type": "code",
   "execution_count": null,
   "metadata": {},
   "outputs": [],
   "source": [
    "gname = 'M31'\n",
    "snap = 0\n",
    "\n",
    "gal = Galaxy(gname, snap, usesql=True, ptype=2)\n",
    "com = CenterOfMass(gal)"
   ]
  },
  {
   "cell_type": "code",
   "execution_count": null,
   "metadata": {},
   "outputs": [],
   "source": [
    "tc = TimeCourse(usesql=True)\n",
    "com_xyz, com_vxyz = tc.get_one_com(gname, snap)"
   ]
  },
  {
   "cell_type": "code",
   "execution_count": null,
   "metadata": {},
   "outputs": [],
   "source": [
    "gal_xyzD, gal_vxyzD = com.center_com(com_xyz, com_vxyz)"
   ]
  },
  {
   "cell_type": "code",
   "execution_count": null,
   "metadata": {},
   "outputs": [],
   "source": [
    "gal_xyzD.shape, gal_vxyzD.shape"
   ]
  },
  {
   "cell_type": "code",
   "execution_count": null,
   "metadata": {},
   "outputs": [],
   "source": [
    "# # Determine positions of disk particles relative to COM \n",
    "# gal_xyz = np.array([gal.data[xi] for xi in ('x','y','z')]) - com_xyz\n",
    "\n",
    "# # total magnitude\n",
    "# rtot = norm(gal_xyz, axis=0)\n",
    "\n",
    "# # Determine velocities of disk particles relatiev to COM motion\n",
    "# gal_vxyz = np.array([gal.data[vxi] for vxi in ('vx','vy','vz')]) - com_vxyz\n",
    "\n",
    "# # total velocity \n",
    "# vtot = norm(gal_vxyz, axis=0)"
   ]
  },
  {
   "cell_type": "markdown",
   "metadata": {},
   "source": [
    "## Disk density plot:\n",
    "\n",
    "Create plot of M31's disk density, using 2D Histograms "
   ]
  },
  {
   "cell_type": "code",
   "execution_count": null,
   "metadata": {
    "scrolled": false
   },
   "outputs": [],
   "source": [
    "# 1) Make plots \n",
    "\n",
    "xD, yD = gal_xyzD[0], gal_xyzD[1]\n",
    "\n",
    "# M31 Disk Density \n",
    "fig, ax= plt.subplots(figsize=(10, 10))\n",
    "\n",
    "# plot the particle density for M31 using a 2D historgram\n",
    "# can modify bin number to make the plot smoother\n",
    "plt.hist2d(xD, yD, bins=150, norm=LogNorm(), cmap='magma')\n",
    "plt.colorbar()\n",
    "\n",
    "# Add axis labels\n",
    "plt.xlabel('x (kpc)', fontsize=22)\n",
    "plt.ylabel('y (kpc)', fontsize=22)\n",
    "\n",
    "#set axis limits\n",
    "plt.ylim(-40,40)\n",
    "plt.xlim(-40,40)\n",
    "\n",
    "#adjust tick label font size\n",
    "label_size = 22\n",
    "matplotlib.rcParams['xtick.labelsize'] = label_size \n",
    "matplotlib.rcParams['ytick.labelsize'] = label_size\n",
    "\n",
    "# make the contour plot\n",
    "# x pos, y pos, contour res, contour res, axis, colors for contours.\n",
    "level_vals = [0.68, 0.8, 0.9, 0.95, 0.99]\n",
    "colors = ['red','orange', 'yellow', 'orange', 'yellow']\n",
    "density_contour(xD, yD, 80, 80, level_vals, ax=ax, colors=colors);\n",
    "\n",
    "\n",
    "# Save to a file\n",
    "#plt.savefig('XY_Disk_M31.pdf', rasterized=True, dpi=350)"
   ]
  },
  {
   "cell_type": "markdown",
   "metadata": {},
   "source": [
    "In this projection, if the spiral arms are trailing it looks like M31 is rotating CW.\n",
    "But we don't know the inclination of the galaxy! This can change the interpretation."
   ]
  },
  {
   "cell_type": "markdown",
   "metadata": {},
   "source": [
    "## Edge-on plot\n",
    "\n",
    "Rotate the M31 disk and plot it edge on and face on.\n",
    "\n",
    "What is the sense of rotation of M31 ? "
   ]
  },
  {
   "cell_type": "code",
   "execution_count": null,
   "metadata": {},
   "outputs": [],
   "source": [
    "# determine the rotated velocity vectors\n",
    "rn, vn = com.rotate_frame(com_p=com_xyz, com_v=com_vxyz)"
   ]
  },
  {
   "cell_type": "code",
   "execution_count": null,
   "metadata": {},
   "outputs": [],
   "source": [
    "L, pos, v = com.angular_momentum(com_p=com_xyz, com_v=com_vxyz)\n",
    "L /= norm(L)\n",
    "L"
   ]
  },
  {
   "cell_type": "code",
   "execution_count": null,
   "metadata": {},
   "outputs": [],
   "source": [
    "# Rotated M31 Disk - EDGE ON\n",
    "\n",
    "# M31 Disk Density \n",
    "fig, ax= plt.subplots(figsize=(10, 10))\n",
    "\n",
    "# plot the particle density for M31 \n",
    "# can modify bin number (bin =100 smoothest)\n",
    "plt.hist2d(rn[0,:], rn[2,:], bins=150, norm=LogNorm(), cmap='magma')\n",
    "plt.colorbar()\n",
    "\n",
    "# Add axis labels\n",
    "plt.xlabel('x (kpc)', fontsize=22)\n",
    "plt.ylabel('z (kpc)', fontsize=22)\n",
    "\n",
    "#set axis limits\n",
    "plt.ylim(-40,40)\n",
    "plt.xlim(-40,40)\n",
    "\n",
    "#adjust tick label font size\n",
    "label_size = 22\n",
    "matplotlib.rcParams['xtick.labelsize'] = label_size \n",
    "matplotlib.rcParams['ytick.labelsize'] = label_size\n",
    "\n",
    "# make the contour plot\n",
    "# x pos, y pos, contour res, contour res, axis, colors for contours.\n",
    "#density_contour(rn[:,0], rn[:,2], 80, 80, ax=ax, colors=['red','orange', 'yellow', 'orange', 'yellow'])\n"
   ]
  },
  {
   "cell_type": "markdown",
   "metadata": {},
   "source": [
    "## Face-on plot"
   ]
  },
  {
   "cell_type": "code",
   "execution_count": null,
   "metadata": {
    "scrolled": false
   },
   "outputs": [],
   "source": [
    "# Rotated M31 Disk - FACE ON\n",
    "\n",
    "# M31 Disk Density \n",
    "fig, ax= plt.subplots(figsize=(10, 10))\n",
    "\n",
    "# plot the particle density for M31 \n",
    "# can modify bin number (bin =100 smoothest)\n",
    "plt.hist2d(rn[0,:], rn[1,:], bins=150, norm=LogNorm(), cmap='magma')\n",
    "plt.colorbar()\n",
    "\n",
    "# Add axis labels\n",
    "plt.xlabel('x (kpc)', fontsize=22)\n",
    "plt.ylabel('y (kpc)', fontsize=22)\n",
    "\n",
    "#set axis limits\n",
    "plt.ylim(-40,40)\n",
    "plt.xlim(-40,40)\n",
    "\n",
    "#adjust tick label font size\n",
    "label_size = 22\n",
    "matplotlib.rcParams['xtick.labelsize'] = label_size \n",
    "matplotlib.rcParams['ytick.labelsize'] = label_size\n",
    "\n",
    "# make the contour plot\n",
    "# x pos, y pos, contour res, contour res, axis, colors for contours.\n",
    "level_vals = [0.68, 0.8, 0.9, 0.95, 0.99]\n",
    "colors = ['red','orange', 'yellow', 'orange', 'yellow']\n",
    "density_contour(rn[0,:], rn[1,:], 80, 80, level_vals, ax=ax, colors=colors);"
   ]
  },
  {
   "cell_type": "markdown",
   "metadata": {},
   "source": [
    "If the arms are trailing, then the disk should be rotating towards  NEGATIVE Y  along NEGATIVE X  (CCW)"
   ]
  },
  {
   "cell_type": "code",
   "execution_count": null,
   "metadata": {},
   "outputs": [],
   "source": [
    "galname = 'M31'\n",
    "t = 0.0\n",
    "\n",
    "fig = plt.figure(figsize=(20,9))\n",
    "subplots = (121, 122)\n",
    "\n",
    "# set up the left subplot: Rotated Disk - FACE ON\n",
    "ax0 = plt.subplot(121)\n",
    "\n",
    "# plot the particle density\n",
    "# can modify bin number (bin =100 smoothest)\n",
    "h0 = ax0.hist2d(rn[0,:], rn[1,:], bins=150, norm=LogNorm(), cmap='magma')\n",
    "fig.colorbar(h0[3], ax=ax0)\n",
    "\n",
    "# Add axis labels\n",
    "ax0.set_xlabel('x (kpc)', fontsize=22)\n",
    "ax0.set_ylabel('y (kpc)', fontsize=22)\n",
    "\n",
    "#set axis limits\n",
    "ax0.set_ylim(-40,40)\n",
    "ax0.set_xlim(-40,40)\n",
    "\n",
    "# make the contour plot\n",
    "# x pos, y pos, contour res, contour res, axis, colors for contours.\n",
    "level_vals = [0.68, 0.8, 0.9, 0.95, 0.99]\n",
    "colors = ['red','orange', 'yellow', 'orange', 'yellow']\n",
    "density_contour(rn[0,:], rn[1,:], 80, 80, level_vals, ax=ax0, colors=colors)\n",
    "\n",
    "# set up the right subplot: Rotated Disk - EDGE ON\n",
    "ax1 = plt.subplot(122)\n",
    "\n",
    "# plot the particle density\n",
    "# can modify bin number (bin =100 smoothest)\n",
    "h1 = ax1.hist2d(rn[0,:], rn[2,:], bins=150, norm=LogNorm(), cmap='magma')\n",
    "fig.colorbar(h1[3], ax=ax1)\n",
    "\n",
    "# Add axis labels\n",
    "ax1.set_xlabel('x (kpc)', fontsize=22)\n",
    "ax1.set_ylabel('z (kpc)', fontsize=22)\n",
    "\n",
    "#set axis limits\n",
    "ax1.set_ylim(-40,40)\n",
    "ax1.set_xlim(-40,40)\n",
    "\n",
    "#adjust tick label font size\n",
    "label_size = 22\n",
    "matplotlib.rcParams['xtick.labelsize'] = label_size \n",
    "matplotlib.rcParams['ytick.labelsize'] = label_size\n",
    "\n",
    "fig.suptitle(f'{galname}, t = {t:5.2f} Gyr', fontsize=26, weight='bold')\n",
    "\n",
    "# Save to a file\n",
    "plt.savefig('M31_face_edge.png', dpi='figure', bbox_inches='tight', pad_inches=0.1);"
   ]
  },
  {
   "cell_type": "markdown",
   "metadata": {},
   "source": [
    "## Velocities\n",
    "\n",
    "a) Create a scatter plot of the edge on disk particles, weighted by velocity.\n",
    "\n",
    "b) Create a phase diagram for the edge on disk (Position vs. Velocity) using a 2D Histogram."
   ]
  },
  {
   "cell_type": "code",
   "execution_count": null,
   "metadata": {},
   "outputs": [],
   "source": [
    "# Plot velocity weighted EDGE ON DISK\n",
    "\n",
    "fig = plt.figure(figsize=(10,10))\n",
    "ax = plt.subplot(111)\n",
    "n = 5 # step size through arrays\n",
    "\n",
    "# plot position of disk particles color coded by velocity along the 3rd axis\n",
    "plt.scatter(rn[0,::n],rn[2,::n],c=vn[1,::n], s=2)\n",
    "\n",
    "#colorbar\n",
    "cbar = plt.colorbar()\n",
    "cbar.set_label(r'Vy (km/s)', size=22)\n",
    "\n",
    "# Add axis labels\n",
    "plt.xlabel('x (kpc)', fontsize=22)\n",
    "plt.ylabel('z (kpc)', fontsize=22)\n",
    "\n",
    "\n",
    "#adjust tick label font size\n",
    "label_size = 22\n",
    "matplotlib.rcParams['xtick.labelsize'] = label_size \n",
    "matplotlib.rcParams['ytick.labelsize'] = label_size\n",
    "\n",
    "#set axis limits\n",
    "plt.ylim(-40,40)\n",
    "plt.xlim(-40,40);\n",
    "\n",
    "# Save file\n",
    "#plt.savefig('XZ_VelRotate_M31.pdf', rasterized=True, dpi=350)"
   ]
  },
  {
   "cell_type": "markdown",
   "metadata": {},
   "source": [
    "Indeed, along NEGATIVE X the disk is rotating into the page, which is in the direction of NEGATIVE Y. So M31 is rotating Counter Clock Wise"
   ]
  },
  {
   "cell_type": "code",
   "execution_count": null,
   "metadata": {},
   "outputs": [],
   "source": [
    "# a)  Create a mass profile object for M31\n",
    "M31 =  Galaxy(gname, snap, usesql=True)\n",
    "M31_mp = MassProfile(M31, com_p=com_xyz)"
   ]
  },
  {
   "cell_type": "code",
   "execution_count": null,
   "metadata": {
    "scrolled": false
   },
   "outputs": [],
   "source": [
    "R = np.arange(0.01,40,0.1) * u.kpc\n",
    "Vcirc = M31_mp.circular_velocity_total(R)"
   ]
  },
  {
   "cell_type": "code",
   "execution_count": null,
   "metadata": {
    "scrolled": false
   },
   "outputs": [],
   "source": [
    "# Make a phase diagram\n",
    "# MW Disk Velocity Field edge on.\n",
    "\n",
    "fig = plt.figure(figsize=(10,10))\n",
    "ax = plt.subplot(111)\n",
    "\n",
    "# looking at MW edge on along x axis, vy is line of sight velocity\n",
    "\n",
    "plt.hist2d(rn[0,:], vn[1,:], bins=150, norm=LogNorm())\n",
    "plt.colorbar()\n",
    "\n",
    "# Add the circular velocity\n",
    "plt.plot(R, Vcirc, color=\"red\")\n",
    "plt.plot(-R, -Vcirc, color=\"red\")\n",
    "\n",
    "# Add axis labels\n",
    "plt.xlabel('x (kpc)', fontsize=22)\n",
    "plt.ylabel('Velocity Y Direction (km/s)', fontsize=22)\n",
    "\n",
    "#set axis limits\n",
    "#plt.ylim(0,200)\n",
    "#plt.xlim(-30,30)\n",
    "\n",
    "#adjust tick label font size\n",
    "label_size = 22\n",
    "matplotlib.rcParams['xtick.labelsize'] = label_size \n",
    "matplotlib.rcParams['ytick.labelsize'] = label_size;\n",
    "\n",
    "\n",
    "# Save to a file\n",
    "plt.savefig('M31_Vy_X.png', dpi='figure', bbox_inches='tight', pad_inches=0.1);"
   ]
  },
  {
   "cell_type": "code",
   "execution_count": null,
   "metadata": {},
   "outputs": [],
   "source": [
    "plt.savefig('M31_Vy_X.pdf', rasterized=True, dpi=350)"
   ]
  },
  {
   "cell_type": "code",
   "execution_count": 2,
   "metadata": {},
   "outputs": [],
   "source": [
    "?plt.savefig"
   ]
  },
  {
   "cell_type": "code",
   "execution_count": null,
   "metadata": {},
   "outputs": [],
   "source": [
    "plt.show()"
   ]
  },
  {
   "cell_type": "code",
   "execution_count": null,
   "metadata": {},
   "outputs": [],
   "source": [
    "rn[0,:].shape, rn[0,::10].shape"
   ]
  },
  {
   "cell_type": "code",
   "execution_count": null,
   "metadata": {},
   "outputs": [],
   "source": []
  }
 ],
 "metadata": {
  "kernelspec": {
   "display_name": "Python 3",
   "language": "python",
   "name": "python3"
  },
  "language_info": {
   "codemirror_mode": {
    "name": "ipython",
    "version": 3
   },
   "file_extension": ".py",
   "mimetype": "text/x-python",
   "name": "python",
   "nbconvert_exporter": "python",
   "pygments_lexer": "ipython3",
   "version": "3.6.7"
  },
  "toc": {
   "base_numbering": 1,
   "nav_menu": {},
   "number_sections": true,
   "sideBar": true,
   "skip_h1_title": true,
   "title_cell": "Table of Contents",
   "title_sidebar": "Contents",
   "toc_cell": true,
   "toc_position": {},
   "toc_section_display": true,
   "toc_window_display": true
  }
 },
 "nbformat": 4,
 "nbformat_minor": 4
}
