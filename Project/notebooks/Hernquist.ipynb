{
 "cells": [
  {
   "cell_type": "code",
   "execution_count": 1,
   "metadata": {},
   "outputs": [],
   "source": [
    "# scientific package imports\n",
    "import numpy as np\n",
    "from numpy.linalg import norm\n",
    "import matplotlib.pyplot as plt\n",
    "from matplotlib import rcParams\n",
    "\n",
    "import astropy.units as u\n",
    "from astropy.constants import G\n",
    "\n",
    "# import my own classes\n",
    "from galaxy.galaxy import Galaxy\n",
    "from galaxy.galaxies import Galaxies\n",
    "from galaxy.massprofile import MassProfile\n",
    "from galaxy.timecourse import TimeCourse\n",
    "from galaxy.centerofmass import CenterOfMass\n",
    "from galaxy.plots import Plots"
   ]
  },
  {
   "cell_type": "code",
   "execution_count": 5,
   "metadata": {},
   "outputs": [],
   "source": [
    "tc = TimeCourse(usesql=True)"
   ]
  },
  {
   "cell_type": "code",
   "execution_count": 6,
   "metadata": {},
   "outputs": [],
   "source": [
    "galname = 'MW'\n",
    "snap = 0"
   ]
  },
  {
   "cell_type": "code",
   "execution_count": 14,
   "metadata": {},
   "outputs": [],
   "source": [
    "def get_a(galname, snap, r_outer=100):\n",
    "    gal = Galaxy(galname, snap, usesql=True)\n",
    "    com_p, _ = tc.get_one_com(galname, snap)\n",
    "    mp = MassProfile(gal, com_p)\n",
    "    fitted_a, perr = mp.fit_hernquist_a(r_outer=r_outer, get_details=True)\n",
    "    return fitted_a, perr"
   ]
  },
  {
   "cell_type": "code",
   "execution_count": 20,
   "metadata": {},
   "outputs": [
    {
     "name": "stdout",
     "output_type": "stream",
     "text": [
      "MW\n",
      "M31\n",
      "M33\n"
     ]
    }
   ],
   "source": [
    "with open('./hqa.txt', 'w') as f:\n",
    "    f.write(\"gal, snap, a, err\\n\")\n",
    "for galname in ('MW','M31','M33'):\n",
    "    print(galname)\n",
    "    for snap in np.arange(0, 10):\n",
    "        a, err = get_a(galname, snap)\n",
    "        with open('./hqa.txt', 'a') as f:\n",
    "            f.write(f\" {galname}, {snap:03}, {a.value:6.1f}, {err.value:4.1f}\\n\")        "
   ]
  },
  {
   "cell_type": "code",
   "execution_count": null,
   "metadata": {},
   "outputs": [],
   "source": []
  }
 ],
 "metadata": {
  "kernelspec": {
   "display_name": "Python 3",
   "language": "python",
   "name": "python3"
  },
  "language_info": {
   "codemirror_mode": {
    "name": "ipython",
    "version": 3
   },
   "file_extension": ".py",
   "mimetype": "text/x-python",
   "name": "python",
   "nbconvert_exporter": "python",
   "pygments_lexer": "ipython3",
   "version": "3.6.7"
  },
  "toc": {
   "base_numbering": 1,
   "nav_menu": {},
   "number_sections": true,
   "sideBar": true,
   "skip_h1_title": false,
   "title_cell": "Table of Contents",
   "title_sidebar": "Contents",
   "toc_cell": false,
   "toc_position": {},
   "toc_section_display": true,
   "toc_window_display": false
  }
 },
 "nbformat": 4,
 "nbformat_minor": 4
}
