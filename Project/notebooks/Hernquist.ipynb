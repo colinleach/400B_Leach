{
 "cells": [
  {
   "cell_type": "markdown",
   "metadata": {},
   "source": [
    "# Hernquist fit of DM halos"
   ]
  },
  {
   "cell_type": "markdown",
   "metadata": {
    "toc": true
   },
   "source": [
    "<h1>Table of Contents<span class=\"tocSkip\"></span></h1>\n",
    "<div class=\"toc\"><ul class=\"toc-item\"><li><span><a href=\"#Estimate-scale-lengths\" data-toc-modified-id=\"Estimate-scale-lengths-1\"><span class=\"toc-item-num\">1&nbsp;&nbsp;</span>Estimate scale lengths</a></span></li></ul></div>"
   ]
  },
  {
   "cell_type": "code",
   "execution_count": 1,
   "metadata": {},
   "outputs": [],
   "source": [
    "# scientific package imports\n",
    "import numpy as np\n",
    "from numpy.linalg import norm\n",
    "import matplotlib.pyplot as plt\n",
    "from matplotlib import rcParams\n",
    "\n",
    "import astropy.units as u\n",
    "from astropy.constants import G\n",
    "\n",
    "# import my own classes\n",
    "from galaxy.galaxy import Galaxy\n",
    "from galaxy.galaxies import Galaxies\n",
    "from galaxy.massprofile import MassProfile\n",
    "from galaxy.timecourse import TimeCourse\n",
    "from galaxy.centerofmass import CenterOfMass\n",
    "from galaxy.plots import Plots"
   ]
  },
  {
   "cell_type": "code",
   "execution_count": 2,
   "metadata": {},
   "outputs": [],
   "source": [
    "tc = TimeCourse(usesql=True)"
   ]
  },
  {
   "cell_type": "markdown",
   "metadata": {},
   "source": [
    "## Estimate scale lengths"
   ]
  },
  {
   "cell_type": "code",
   "execution_count": 3,
   "metadata": {},
   "outputs": [],
   "source": [
    "def get_a(galname, snap, r_outer=100):\n",
    "    gal = Galaxy(galname, snap, usesql=True)\n",
    "    t = gal.time.value / 1000\n",
    "    com_p, _ = tc.get_one_com(galname, snap)\n",
    "    mp = MassProfile(gal, com_p)\n",
    "    fitted_a, perr = mp.fit_hernquist_a(r_outer=r_outer, get_details=True)\n",
    "    return t, fitted_a.value, perr.value"
   ]
  },
  {
   "cell_type": "code",
   "execution_count": 4,
   "metadata": {
    "scrolled": false
   },
   "outputs": [
    {
     "name": "stdout",
     "output_type": "stream",
     "text": [
      "MW\n"
     ]
    },
    {
     "name": "stderr",
     "output_type": "stream",
     "text": [
      "/home/colin/lcode/400b/400B_Leach/source/galaxy/massprofile.py:181: RuntimeWarning: divide by zero encountered in log\n",
      "  halo = np.log(self.mass_enclosed(radii_outer, 1).value)\n"
     ]
    },
    {
     "name": "stdout",
     "output_type": "stream",
     "text": [
      "MW 438\n",
      "MW 439\n",
      "MW 444\n",
      "M31\n",
      "M31 446\n",
      "M33\n",
      "M33 733\n"
     ]
    }
   ],
   "source": [
    "with open('./hqa.txt', 'w') as f:\n",
    "    f.write(f\"# {'gal':>5s}{'snap':>8s}{'t':>8s}{'a':>8s}{'err':>8s}\\n\")\n",
    "for galname in ('MW','M31','M33'):\n",
    "    print(galname)\n",
    "    for snap in np.arange(0, 802):\n",
    "        try:\n",
    "            t, a, err = get_a(galname, snap)\n",
    "            with open('./hqa.txt', 'a') as f:\n",
    "                f.write(f\"{galname:>7s}{snap:8d}{t:8.3f}{a:8.1f}{err:8.1f}\\n\")   \n",
    "        except ValueError:\n",
    "            print(galname, snap)"
   ]
  },
  {
   "cell_type": "code",
   "execution_count": 21,
   "metadata": {},
   "outputs": [],
   "source": [
    "hqa = np.genfromtxt('hqa.csv', delimiter=',', names=True, skip_header=0,\n",
    "                    dtype=[('gal', 'U3'), ('snap', '<i8'), ('a', '<f8'), ('err', '<f8')])"
   ]
  },
  {
   "cell_type": "code",
   "execution_count": 22,
   "metadata": {},
   "outputs": [
    {
     "data": {
      "text/plain": [
       "array([('MW',   0,  61.6, 0.5), ('MW',   1,  61. , 0.1),\n",
       "       ('MW',   2,  60.1, 0.4), ..., ('M33', 799, 114.6, 9.6),\n",
       "       ('M33', 800, 114.5, 9.8), ('M33', 801, 112.7, 9.8)],\n",
       "      dtype=[('gal', '<U3'), ('snap', '<i8'), ('a', '<f8'), ('err', '<f8')])"
      ]
     },
     "execution_count": 22,
     "metadata": {},
     "output_type": "execute_result"
    }
   ],
   "source": [
    "hqa"
   ]
  },
  {
   "cell_type": "code",
   "execution_count": 24,
   "metadata": {},
   "outputs": [],
   "source": [
    "MW = hqa[hqa['gal'] == 'MW']\n",
    "M31 = hqa[hqa['gal'] == 'M31']\n",
    "M33 = hqa[hqa['gal'] == 'M33']\n"
   ]
  },
  {
   "cell_type": "code",
   "execution_count": 29,
   "metadata": {},
   "outputs": [
    {
     "data": {
      "text/plain": [
       "[<matplotlib.lines.Line2D at 0x7ff7b37e17b8>]"
      ]
     },
     "execution_count": 29,
     "metadata": {},
     "output_type": "execute_result"
    },
    {
     "data": {
      "image/png": "[encoded data removed]",
      "text/plain": [
       "<Figure size 432x288 with 1 Axes>"
      ]
     },
     "metadata": {
      "needs_background": "light"
     },
     "output_type": "display_data"
    }
   ],
   "source": [
    "plt.plot(MW['snap'], MW['a'])\n",
    "plt.plot(M31['snap'], M31['a'])\n",
    "plt.plot(M33['snap'], M33['a'])\n"
   ]
  },
  {
   "cell_type": "code",
   "execution_count": null,
   "metadata": {},
   "outputs": [],
   "source": []
  }
 ],
 "metadata": {
  "kernelspec": {
   "display_name": "Python 3",
   "language": "python",
   "name": "python3"
  },
  "language_info": {
   "codemirror_mode": {
    "name": "ipython",
    "version": 3
   },
   "file_extension": ".py",
   "mimetype": "text/x-python",
   "name": "python",
   "nbconvert_exporter": "python",
   "pygments_lexer": "ipython3",
   "version": "3.6.7"
  },
  "toc": {
   "base_numbering": 1,
   "nav_menu": {},
   "number_sections": true,
   "sideBar": true,
   "skip_h1_title": true,
   "title_cell": "Table of Contents",
   "title_sidebar": "Contents",
   "toc_cell": true,
   "toc_position": {},
   "toc_section_display": true,
   "toc_window_display": true
  }
 },
 "nbformat": 4,
 "nbformat_minor": 4
}
