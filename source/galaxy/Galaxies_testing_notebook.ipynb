{
 "cells": [
  {
   "cell_type": "code",
   "execution_count": 1,
   "metadata": {},
   "outputs": [],
   "source": [
    "# standard Python imports\n",
    "from pathlib import Path\n",
    "\n",
    "# scientific package imports\n",
    "import numpy as np\n",
    "from numpy.linalg import norm\n",
    "\n",
    "import astropy.units as u\n",
    "from astropy.table import QTable\n",
    "\n",
    "import pandas as pd\n",
    "\n",
    "# import my own class for this homework\n",
    "from galaxies import Galaxies"
   ]
  },
  {
   "cell_type": "code",
   "execution_count": 2,
   "metadata": {},
   "outputs": [],
   "source": [
    "g = Galaxies()"
   ]
  },
  {
   "cell_type": "code",
   "execution_count": 3,
   "metadata": {},
   "outputs": [
    {
     "data": {
      "text/plain": [
       "['MW_000', 'M31_000', 'M33_000']"
      ]
     },
     "execution_count": 3,
     "metadata": {},
     "output_type": "execute_result"
    }
   ],
   "source": [
    "g.filenames"
   ]
  },
  {
   "cell_type": "code",
   "execution_count": 4,
   "metadata": {},
   "outputs": [
    {
     "data": {
      "text/html": [
       "<i>Table length=4</i>\n",
       "<table id=\"table140693140067600\" class=\"table-striped table-bordered table-condensed\">\n",
       "<thead><tr><th>Galaxy Name</th><th>Halo Mass</th><th>Disk Mass</th><th>Bulge Mass</th><th>Total</th><th>f_bar</th></tr></thead>\n",
       "<thead><tr><th>str11</th><th>object</th><th>object</th><th>object</th><th>object</th><th>object</th></tr></thead>\n",
       "<tr><td>MW</td><td>1974924999999.9995 solMass</td><td>75000000000.00003 solMass</td><td>10004999999.999998 solMass</td><td>2059929999999.9995 solMass</td><td>0.041265965348337104</td></tr>\n",
       "<tr><td>M31</td><td>1920880000000.0002 solMass</td><td>120000000000.00003 solMass</td><td>19049969999.999992 solMass</td><td>2059929970000.0002 solMass</td><td>0.0675022801867386</td></tr>\n",
       "<tr><td>M33</td><td>186613000000.0 solMass</td><td>9300000000.000002 solMass</td><td>0.0 solMass</td><td>195913000000.0 solMass</td><td>0.04747005048159133</td></tr>\n",
       "<tr><td>Local Group</td><td>4082418000000.0 solMass</td><td>204300000000.00006 solMass</td><td>29054969999.999992 solMass</td><td>4315772970000.0 solMass</td><td>0.05407026079038631</td></tr>\n",
       "</table>"
      ],
      "text/plain": [
       "<Table length=4>\n",
       "Galaxy Name         Halo Mass          ...        f_bar        \n",
       "   str11              object           ...        object       \n",
       "----------- -------------------------- ... --------------------\n",
       "         MW 1974924999999.9995 solMass ... 0.041265965348337104\n",
       "        M31 1920880000000.0002 solMass ...   0.0675022801867386\n",
       "        M33     186613000000.0 solMass ...  0.04747005048159133\n",
       "Local Group    4082418000000.0 solMass ...  0.05407026079038631"
      ]
     },
     "execution_count": 4,
     "metadata": {},
     "output_type": "execute_result"
    }
   ],
   "source": [
    "g.get_masses()"
   ]
  },
  {
   "cell_type": "code",
   "execution_count": 5,
   "metadata": {},
   "outputs": [
    {
     "data": {
      "text/html": [
       "<div>\n",
       "<style scoped>\n",
       "    .dataframe tbody tr th:only-of-type {\n",
       "        vertical-align: middle;\n",
       "    }\n",
       "\n",
       "    .dataframe tbody tr th {\n",
       "        vertical-align: top;\n",
       "    }\n",
       "\n",
       "    .dataframe thead th {\n",
       "        text-align: right;\n",
       "    }\n",
       "</style>\n",
       "<table border=\"1\" class=\"dataframe\">\n",
       "  <thead>\n",
       "    <tr style=\"text-align: right;\">\n",
       "      <th></th>\n",
       "      <th>Galaxy Name</th>\n",
       "      <th>Halo Mass (Msun*1e12)</th>\n",
       "      <th>Disk Mass (Msun*1e12)</th>\n",
       "      <th>Bulge Mass (Msun*1e12)</th>\n",
       "      <th>Total</th>\n",
       "      <th>f_bar</th>\n",
       "    </tr>\n",
       "  </thead>\n",
       "  <tbody>\n",
       "    <tr>\n",
       "      <th>0</th>\n",
       "      <td>MW</td>\n",
       "      <td>1.975</td>\n",
       "      <td>0.075</td>\n",
       "      <td>0.010</td>\n",
       "      <td>2.060</td>\n",
       "      <td>0.041</td>\n",
       "    </tr>\n",
       "    <tr>\n",
       "      <th>1</th>\n",
       "      <td>M31</td>\n",
       "      <td>1.921</td>\n",
       "      <td>0.120</td>\n",
       "      <td>0.019</td>\n",
       "      <td>2.060</td>\n",
       "      <td>0.067</td>\n",
       "    </tr>\n",
       "    <tr>\n",
       "      <th>2</th>\n",
       "      <td>M33</td>\n",
       "      <td>0.187</td>\n",
       "      <td>0.009</td>\n",
       "      <td>0.000</td>\n",
       "      <td>0.196</td>\n",
       "      <td>0.046</td>\n",
       "    </tr>\n",
       "    <tr>\n",
       "      <th>3</th>\n",
       "      <td>Local Group</td>\n",
       "      <td>4.082</td>\n",
       "      <td>0.204</td>\n",
       "      <td>0.029</td>\n",
       "      <td>4.315</td>\n",
       "      <td>0.054</td>\n",
       "    </tr>\n",
       "  </tbody>\n",
       "</table>\n",
       "</div>"
      ],
      "text/plain": [
       "   Galaxy Name  Halo Mass (Msun*1e12)  Disk Mass (Msun*1e12)  \\\n",
       "0           MW                  1.975                  0.075   \n",
       "1          M31                  1.921                  0.120   \n",
       "2          M33                  0.187                  0.009   \n",
       "3  Local Group                  4.082                  0.204   \n",
       "\n",
       "   Bulge Mass (Msun*1e12)  Total  f_bar  \n",
       "0                   0.010  2.060  0.041  \n",
       "1                   0.019  2.060  0.067  \n",
       "2                   0.000  0.196  0.046  \n",
       "3                   0.029  4.315  0.054  "
      ]
     },
     "execution_count": 5,
     "metadata": {},
     "output_type": "execute_result"
    }
   ],
   "source": [
    "masses = g.get_masses_df()\n",
    "masses"
   ]
  },
  {
   "cell_type": "code",
   "execution_count": 6,
   "metadata": {},
   "outputs": [
    {
     "name": "stdout",
     "output_type": "stream",
     "text": [
      "\\begin{tabular}{lccccc}\n",
      "\\toprule\n",
      " Galaxy Name &  Halo Mass (Msun*1e12) &  Disk Mass (Msun*1e12) &  Bulge Mass (Msun*1e12) &  Total &  f\\_bar \\\\\n",
      "\\midrule\n",
      "          MW &                  1.975 &                  0.075 &                   0.010 &  2.060 &  0.041 \\\\\n",
      "         M31 &                  1.921 &                  0.120 &                   0.019 &  2.060 &  0.067 \\\\\n",
      "         M33 &                  0.187 &                  0.009 &                   0.000 &  0.196 &  0.046 \\\\\n",
      " Local Group &                  4.082 &                  0.204 &                   0.029 &  4.315 &  0.054 \\\\\n",
      "\\bottomrule\n",
      "\\end{tabular}\n",
      "\n"
     ]
    }
   ],
   "source": [
    "print(masses.to_latex(index=False, column_format='lccccc'))"
   ]
  },
  {
   "cell_type": "code",
   "execution_count": 7,
   "metadata": {},
   "outputs": [
    {
     "data": {
      "text/html": [
       "<div>\n",
       "<style scoped>\n",
       "    .dataframe tbody tr th:only-of-type {\n",
       "        vertical-align: middle;\n",
       "    }\n",
       "\n",
       "    .dataframe tbody tr th {\n",
       "        vertical-align: top;\n",
       "    }\n",
       "\n",
       "    .dataframe thead th {\n",
       "        text-align: right;\n",
       "    }\n",
       "</style>\n",
       "<table border=\"1\" class=\"dataframe\">\n",
       "  <thead>\n",
       "    <tr style=\"text-align: right;\">\n",
       "      <th>typename</th>\n",
       "      <th>1 Halo</th>\n",
       "      <th>2 Disk</th>\n",
       "      <th>3 Bulge</th>\n",
       "      <th>All</th>\n",
       "    </tr>\n",
       "    <tr>\n",
       "      <th>name</th>\n",
       "      <th></th>\n",
       "      <th></th>\n",
       "      <th></th>\n",
       "      <th></th>\n",
       "    </tr>\n",
       "  </thead>\n",
       "  <tbody>\n",
       "    <tr>\n",
       "      <th>M31</th>\n",
       "      <td>50000</td>\n",
       "      <td>120000</td>\n",
       "      <td>19000</td>\n",
       "      <td>189000</td>\n",
       "    </tr>\n",
       "    <tr>\n",
       "      <th>M33</th>\n",
       "      <td>5000</td>\n",
       "      <td>9300</td>\n",
       "      <td>0</td>\n",
       "      <td>14300</td>\n",
       "    </tr>\n",
       "    <tr>\n",
       "      <th>MW</th>\n",
       "      <td>50000</td>\n",
       "      <td>75000</td>\n",
       "      <td>10000</td>\n",
       "      <td>135000</td>\n",
       "    </tr>\n",
       "    <tr>\n",
       "      <th>All</th>\n",
       "      <td>105000</td>\n",
       "      <td>204300</td>\n",
       "      <td>29000</td>\n",
       "      <td>338300</td>\n",
       "    </tr>\n",
       "  </tbody>\n",
       "</table>\n",
       "</div>"
      ],
      "text/plain": [
       "typename  1 Halo  2 Disk  3 Bulge     All\n",
       "name                                     \n",
       "M31        50000  120000    19000  189000\n",
       "M33         5000    9300        0   14300\n",
       "MW         50000   75000    10000  135000\n",
       "All       105000  204300    29000  338300"
      ]
     },
     "execution_count": 7,
     "metadata": {},
     "output_type": "execute_result"
    }
   ],
   "source": [
    "g.get_counts_pivot()"
   ]
  },
  {
   "cell_type": "code",
   "execution_count": 39,
   "metadata": {},
   "outputs": [
    {
     "data": {
      "text/html": [
       "<div>\n",
       "<style scoped>\n",
       "    .dataframe tbody tr th:only-of-type {\n",
       "        vertical-align: middle;\n",
       "    }\n",
       "\n",
       "    .dataframe tbody tr th {\n",
       "        vertical-align: top;\n",
       "    }\n",
       "\n",
       "    .dataframe thead th {\n",
       "        text-align: right;\n",
       "    }\n",
       "</style>\n",
       "<table border=\"1\" class=\"dataframe\">\n",
       "  <thead>\n",
       "    <tr style=\"text-align: right;\">\n",
       "      <th>typename</th>\n",
       "      <th>1 Halo</th>\n",
       "      <th>2 Disk</th>\n",
       "      <th>3 Bulge</th>\n",
       "      <th>All</th>\n",
       "    </tr>\n",
       "    <tr>\n",
       "      <th>name</th>\n",
       "      <th></th>\n",
       "      <th></th>\n",
       "      <th></th>\n",
       "      <th></th>\n",
       "    </tr>\n",
       "  </thead>\n",
       "  <tbody>\n",
       "    <tr>\n",
       "      <th>M31</th>\n",
       "      <td>1.921</td>\n",
       "      <td>0.120</td>\n",
       "      <td>0.019</td>\n",
       "      <td>2.060</td>\n",
       "    </tr>\n",
       "    <tr>\n",
       "      <th>M33</th>\n",
       "      <td>0.187</td>\n",
       "      <td>0.009</td>\n",
       "      <td>0.000</td>\n",
       "      <td>0.196</td>\n",
       "    </tr>\n",
       "    <tr>\n",
       "      <th>MW</th>\n",
       "      <td>1.975</td>\n",
       "      <td>0.075</td>\n",
       "      <td>0.010</td>\n",
       "      <td>2.060</td>\n",
       "    </tr>\n",
       "    <tr>\n",
       "      <th>All</th>\n",
       "      <td>4.082</td>\n",
       "      <td>0.204</td>\n",
       "      <td>0.029</td>\n",
       "      <td>4.316</td>\n",
       "    </tr>\n",
       "  </tbody>\n",
       "</table>\n",
       "</div>"
      ],
      "text/plain": [
       "typename  1 Halo  2 Disk  3 Bulge   All\n",
       "name                                   \n",
       "M31        1.921   0.120    0.019 2.060\n",
       "M33        0.187   0.009    0.000 0.196\n",
       "MW         1.975   0.075    0.010 2.060\n",
       "All        4.082   0.204    0.029 4.316"
      ]
     },
     "execution_count": 39,
     "metadata": {},
     "output_type": "execute_result"
    }
   ],
   "source": [
    "pd.options.display.float_format = '{:,.3f}'.format\n",
    "masses = g.get_masses_pivot()/1e12\n",
    "masses"
   ]
  },
  {
   "cell_type": "code",
   "execution_count": 12,
   "metadata": {},
   "outputs": [
    {
     "name": "stdout",
     "output_type": "stream",
     "text": [
      "\\begin{tabular}{lccccc}\n",
      "\\toprule\n",
      "typename &  1 Halo &  2 Disk &  3 Bulge &   All \\\\\n",
      "name &         &         &          &       \\\\\n",
      "\\midrule\n",
      "M31  &   1.921 &   0.120 &    0.019 & 2.060 \\\\\n",
      "M33  &   0.187 &   0.009 &    0.000 & 0.196 \\\\\n",
      "MW   &   1.975 &   0.075 &    0.010 & 2.060 \\\\\n",
      "All  &   4.082 &   0.204 &    0.029 & 4.316 \\\\\n",
      "\\bottomrule\n",
      "\\end{tabular}\n",
      "\n"
     ]
    }
   ],
   "source": [
    "print(masses.to_latex(index=True, column_format='lccccc'))"
   ]
  },
  {
   "cell_type": "code",
   "execution_count": 34,
   "metadata": {},
   "outputs": [],
   "source": [
    "df2 = pd.DataFrame()\n",
    "df2['Galaxy Name'] = masses.index.values\n",
    "df2['Halo Mass'] = masses['1 Halo'].values\n",
    "df2['Disk Mass'] = masses['2 Disk'].values\n",
    "df2['Bulge Mass'] = masses['3 Bulge'].values\n",
    "df2['Total'] = masses['All'].values\n",
    "df2['f_bar'] = (df2['Disk Mass'] + df2['Bulge Mass']) / df2['Total']"
   ]
  },
  {
   "cell_type": "code",
   "execution_count": 35,
   "metadata": {},
   "outputs": [
    {
     "data": {
      "text/html": [
       "<div>\n",
       "<style scoped>\n",
       "    .dataframe tbody tr th:only-of-type {\n",
       "        vertical-align: middle;\n",
       "    }\n",
       "\n",
       "    .dataframe tbody tr th {\n",
       "        vertical-align: top;\n",
       "    }\n",
       "\n",
       "    .dataframe thead th {\n",
       "        text-align: right;\n",
       "    }\n",
       "</style>\n",
       "<table border=\"1\" class=\"dataframe\">\n",
       "  <thead>\n",
       "    <tr style=\"text-align: right;\">\n",
       "      <th></th>\n",
       "      <th>Galaxy Name</th>\n",
       "      <th>Halo Mass</th>\n",
       "      <th>Disk Mass</th>\n",
       "      <th>Bulge Mass</th>\n",
       "      <th>Total</th>\n",
       "      <th>f_bar</th>\n",
       "    </tr>\n",
       "  </thead>\n",
       "  <tbody>\n",
       "    <tr>\n",
       "      <th>0</th>\n",
       "      <td>M31</td>\n",
       "      <td>1.921</td>\n",
       "      <td>0.120</td>\n",
       "      <td>0.019</td>\n",
       "      <td>2.060</td>\n",
       "      <td>0.068</td>\n",
       "    </tr>\n",
       "    <tr>\n",
       "      <th>1</th>\n",
       "      <td>M33</td>\n",
       "      <td>0.187</td>\n",
       "      <td>0.009</td>\n",
       "      <td>0.000</td>\n",
       "      <td>0.196</td>\n",
       "      <td>0.047</td>\n",
       "    </tr>\n",
       "    <tr>\n",
       "      <th>2</th>\n",
       "      <td>MW</td>\n",
       "      <td>1.975</td>\n",
       "      <td>0.075</td>\n",
       "      <td>0.010</td>\n",
       "      <td>2.060</td>\n",
       "      <td>0.041</td>\n",
       "    </tr>\n",
       "    <tr>\n",
       "      <th>3</th>\n",
       "      <td>All</td>\n",
       "      <td>4.082</td>\n",
       "      <td>0.204</td>\n",
       "      <td>0.029</td>\n",
       "      <td>4.316</td>\n",
       "      <td>0.054</td>\n",
       "    </tr>\n",
       "  </tbody>\n",
       "</table>\n",
       "</div>"
      ],
      "text/plain": [
       "  Galaxy Name  Halo Mass  Disk Mass  Bulge Mass  Total  f_bar\n",
       "0         M31      1.921      0.120       0.019  2.060  0.068\n",
       "1         M33      0.187      0.009       0.000  0.196  0.047\n",
       "2          MW      1.975      0.075       0.010  2.060  0.041\n",
       "3         All      4.082      0.204       0.029  4.316  0.054"
      ]
     },
     "execution_count": 35,
     "metadata": {},
     "output_type": "execute_result"
    }
   ],
   "source": [
    "df2"
   ]
  },
  {
   "cell_type": "code",
   "execution_count": 37,
   "metadata": {},
   "outputs": [
    {
     "name": "stdout",
     "output_type": "stream",
     "text": [
      "\\begin{tabular}{lccccc}\n",
      "\\toprule\n",
      "Galaxy Name &  Halo Mass &  Disk Mass &  Bulge Mass &  Total &  f\\_bar \\\\\n",
      "\\midrule\n",
      "        M31 &      1.921 &      0.120 &       0.019 &  2.060 &  0.068 \\\\\n",
      "        M33 &      0.187 &      0.009 &       0.000 &  0.196 &  0.047 \\\\\n",
      "         MW &      1.975 &      0.075 &       0.010 &  2.060 &  0.041 \\\\\n",
      "        All &      4.082 &      0.204 &       0.029 &  4.316 &  0.054 \\\\\n",
      "\\bottomrule\n",
      "\\end{tabular}\n",
      "\n"
     ]
    }
   ],
   "source": [
    "print(df2.to_latex(index=False, column_format='lccccc'))"
   ]
  },
  {
   "cell_type": "code",
   "execution_count": null,
   "metadata": {},
   "outputs": [],
   "source": []
  }
 ],
 "metadata": {
  "kernelspec": {
   "display_name": "Python 3",
   "language": "python",
   "name": "python3"
  },
  "language_info": {
   "codemirror_mode": {
    "name": "ipython",
    "version": 3
   },
   "file_extension": ".py",
   "mimetype": "text/x-python",
   "name": "python",
   "nbconvert_exporter": "python",
   "pygments_lexer": "ipython3",
   "version": "3.7.6"
  },
  "toc": {
   "base_numbering": 1,
   "nav_menu": {},
   "number_sections": true,
   "sideBar": true,
   "skip_h1_title": false,
   "title_cell": "Table of Contents",
   "title_sidebar": "Contents",
   "toc_cell": false,
   "toc_position": {},
   "toc_section_display": true,
   "toc_window_display": false
  }
 },
 "nbformat": 4,
 "nbformat_minor": 2
}
