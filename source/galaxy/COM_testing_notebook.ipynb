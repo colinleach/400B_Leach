{
 "cells": [
  {
   "cell_type": "code",
   "execution_count": 1,
   "metadata": {},
   "outputs": [],
   "source": [
    "# import modules\n",
    "import numpy as np\n",
    "from numpy.linalg import norm\n",
    "import astropy.units as u\n",
    "import astropy.table as tbl\n",
    "\n",
    "from galaxy import Galaxy\n",
    "from galaxies import Galaxies"
   ]
  },
  {
   "cell_type": "code",
   "execution_count": 2,
   "metadata": {},
   "outputs": [],
   "source": [
    "from centerofmass import CenterOfMass"
   ]
  },
  {
   "cell_type": "code",
   "execution_count": 3,
   "metadata": {},
   "outputs": [],
   "source": [
    "gals = Galaxies()"
   ]
  },
  {
   "cell_type": "code",
   "execution_count": 15,
   "metadata": {
    "scrolled": true
   },
   "outputs": [
    {
     "name": "stdout",
     "output_type": "stream",
     "text": [
      "MW_000, type 1\n",
      "  Position:  [-1.9   2.62 -1.6 ] kpc  Velocity:  [-10.88   9.03  -0.08] km / s\n",
      "MW_000, type 2\n",
      "  Position:  [-2.07  2.95 -1.45] kpc  Velocity:  [ 0.94  6.32 -1.35] km / s\n",
      "MW_000, type 3\n",
      "  Position:  [-1.92  2.64 -1.32] kpc  Velocity:  [-2.62  9.74 -1.49] km / s\n",
      "M33_000, type 1\n",
      "  Position:  [-478.76  490.41 -411.68] kpc  Velocity:  [ 46.62 103.38 141.99] km / s\n",
      "M33_000, type 2\n",
      "  Position:  [-476.22  491.44 -412.4 ] kpc  Velocity:  [ 44.42 101.78 142.23] km / s\n",
      "M33_000, type 3\n",
      "***  No particles of type 3 in M33_000.txt\n",
      "M31_000, type 1\n",
      "  Position:  [-377.03  611.41 -284.81] kpc  Velocity:  [ 70.46 -76.36  50.7 ] km / s\n",
      "M31_000, type 2\n",
      "  Position:  [-377.66  611.43 -284.64] kpc  Velocity:  [ 72.85 -72.14  49.  ] km / s\n",
      "M31_000, type 3\n",
      "  Position:  [-377.23  610.98 -284.37] kpc  Velocity:  [ 72.67 -68.9   45.65] km / s\n"
     ]
    }
   ],
   "source": [
    "tolerance = 0.1 # kpc\n",
    "\n",
    "for name in ('MW_000', 'M33_000', 'M31_000'):\n",
    "    for ptype in (1,2,3):\n",
    "        print(f'{name}, type {ptype}')\n",
    "        g = gals.galaxies[name]\n",
    "        try:\n",
    "            com = CenterOfMass(g, ptype)\n",
    "        except ValueError as err:\n",
    "            print('*** ', err)\n",
    "            continue\n",
    "        xyzCOM = com.COM_P(tolerance)\n",
    "        vxyzCOM = com.COM_V(xyzCOM)\n",
    "        print('  Position: ', xyzCOM, ' Velocity: ', vxyzCOM)"
   ]
  },
  {
   "cell_type": "code",
   "execution_count": null,
   "metadata": {},
   "outputs": [],
   "source": []
  },
  {
   "cell_type": "code",
   "execution_count": null,
   "metadata": {},
   "outputs": [],
   "source": []
  }
 ],
 "metadata": {
  "kernelspec": {
   "display_name": "Python 3",
   "language": "python",
   "name": "python3"
  },
  "language_info": {
   "codemirror_mode": {
    "name": "ipython",
    "version": 3
   },
   "file_extension": ".py",
   "mimetype": "text/x-python",
   "name": "python",
   "nbconvert_exporter": "python",
   "pygments_lexer": "ipython3",
   "version": "3.6.7"
  },
  "toc": {
   "base_numbering": 1,
   "nav_menu": {},
   "number_sections": true,
   "sideBar": true,
   "skip_h1_title": false,
   "title_cell": "Table of Contents",
   "title_sidebar": "Contents",
   "toc_cell": false,
   "toc_position": {},
   "toc_section_display": true,
   "toc_window_display": false
  }
 },
 "nbformat": 4,
 "nbformat_minor": 4
}
